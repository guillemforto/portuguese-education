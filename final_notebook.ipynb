{
 "cells": [
  {
   "cell_type": "markdown",
   "metadata": {},
   "source": [
    "# Big Data project\n",
    "\n",
    "Estée Dagneaux, Guillem Forto, Caroline Lebrun, Madeleine Smaniotto\n",
    "\n",
    "M2 Statéco"
   ]
  },
  {
   "cell_type": "markdown",
   "metadata": {},
   "source": [
    "Link to our dataset :\n",
    "http://archive.ics.uci.edu/ml/datasets/Student+Performance\n",
    "\n",
    "\n",
    "The dataset shows student achievement in secondary education of two Portuguese schools. The data attributes include student grades, demographic, social and school related features) and it was collected by using school reports and questionnaires.\n",
    "\n",
    "Our goal will be to **predict final grades** ('G3') in portugese using all other information in the dataset. \n",
    "\n",
    "\n",
    "Our work can be divided in several parts :\n",
    "- A first part is an explanatory part, to get some information on what is inside the database and what kind of variables we have.\n",
    "- A second part is made of visualisation to get a sense of distribution of variables and of correlations between them.\n",
    "- In a third part, we get more information about our data using DataFrame functions and using a KMeans algorithm for clustering.\n",
    "- First Model with MLlib : ??\n",
    "- Scond Model with MLlib and Pipelines : ??\n",
    "- Third model : a small neural network using keras"
   ]
  },
  {
   "cell_type": "markdown",
   "metadata": {},
   "source": [
    "### Import libraries"
   ]
  },
  {
   "cell_type": "code",
   "execution_count": 2,
   "metadata": {},
   "outputs": [
    {
     "name": "stderr",
     "output_type": "stream",
     "text": [
      "Using TensorFlow backend.\n"
     ]
    }
   ],
   "source": [
    "# Spark\n",
    "from pyspark.sql import functions as fn\n",
    "from pyspark.sql import types\n",
    "from pyspark.sql.types import DoubleType\n",
    "from pyspark.sql import Window\n",
    "from pyspark.sql.functions import row_number, monotonically_increasing_id\n",
    "\n",
    "from pyspark.ml import Pipeline\n",
    "from pyspark.ml.clustering import KMeans\n",
    "from pyspark.ml.evaluation import ClusteringEvaluator\n",
    "from pyspark.ml.feature import VectorAssembler\n",
    "from pyspark.ml.feature import StringIndexer, OneHotEncoder\n",
    "from pyspark.ml.feature import StandardScaler # https://spark.apache.org/docs/2.1.0/ml-features.html#standardscaler\n",
    "from pyspark.ml.regression import RandomForestRegressor\n",
    "from pyspark.ml.regression import GBTRegressor\n",
    "from pyspark.ml.evaluation import RegressionEvaluator\n",
    "\n",
    "# Data viz\n",
    "import matplotlib.pyplot as plt\n",
    "from mpl_toolkits.mplot3d import Axes3D\n",
    "from mpl_toolkits.mplot3d import Axes3D\n",
    "%matplotlib inline\n",
    "\n",
    "import plotly.express as px\n",
    "\n",
    "import seaborn as sns\n",
    "\n",
    "import graphviz\n",
    "\n",
    "# General\n",
    "import pandas as pd\n",
    "from collections import Counter\n",
    "#import plotly.express as px\n",
    "\n",
    "import numpy as np\n",
    "from numpy import array\n",
    "\n",
    "from math import sqrt\n",
    "\n",
    "# Models\n",
    "from tensorflow.python.keras.layers import Dense, Dropout\n",
    "from tensorflow.python.keras import Sequential\n",
    "from sklearn.preprocessing import OneHotEncoder\n",
    "from sklearn import preprocessing\n",
    "import keras\n",
    "from sklearn.model_selection import train_test_split\n",
    "from sklearn.model_selection import GridSearchCV\n",
    "from sklearn.metrics import mean_absolute_error\n",
    "from sklearn.tree import DecisionTreeClassifier\n",
    "from sklearn.tree import DecisionTreeRegressor\n",
    "from sklearn import tree\n",
    "from sklearn import metrics\n",
    "from sklearn import tree\n",
    "from sklearn.pipeline import Pipeline\n",
    "\n",
    "import warnings\n",
    "warnings.filterwarnings(\"ignore\")\n",
    "\n",
    "pd.set_option('display.max_rows', 500)\n",
    "pd.set_option('display.max_columns', 500)"
   ]
  },
  {
   "cell_type": "markdown",
   "metadata": {},
   "source": [
    "## Import data"
   ]
  },
  {
   "cell_type": "code",
   "execution_count": 6,
   "metadata": {},
   "outputs": [
    {
     "data": {
      "text/html": [
       "<style scoped>\n",
       "  .ansiout {\n",
       "    display: block;\n",
       "    unicode-bidi: embed;\n",
       "    white-space: pre-wrap;\n",
       "    word-wrap: break-word;\n",
       "    word-break: break-all;\n",
       "    font-family: \"Source Code Pro\", \"Menlo\", monospace;;\n",
       "    font-size: 13px;\n",
       "    color: #555;\n",
       "    margin-left: 4px;\n",
       "    line-height: 19px;\n",
       "  }\n",
       "</style>\n",
       "<div class=\"ansiout\"></div>"
      ]
     },
     "metadata": {},
     "output_type": "display_data"
    }
   ],
   "source": [
    "df = spark.read\\\n",
    ".format(\"csv\")\\\n",
    ".option(\"header\", \"true\")\\\n",
    ".option(\"sep\", \";\")\\\n",
    ".option(\"inferSchema\", \"true\")\\\n",
    ".load(\"/FileStore/tables/student_por-3edc6.csv\")\n",
    "\n",
    "df = df.toPandas()"
   ]
  },
  {
   "cell_type": "markdown",
   "metadata": {},
   "source": [
    "## Data exploration"
   ]
  },
  {
   "cell_type": "code",
   "execution_count": 8,
   "metadata": {},
   "outputs": [
    {
     "data": {
      "text/html": [
       "<style scoped>\n",
       "  .ansiout {\n",
       "    display: block;\n",
       "    unicode-bidi: embed;\n",
       "    white-space: pre-wrap;\n",
       "    word-wrap: break-word;\n",
       "    word-break: break-all;\n",
       "    font-family: \"Source Code Pro\", \"Menlo\", monospace;;\n",
       "    font-size: 13px;\n",
       "    color: #555;\n",
       "    margin-left: 4px;\n",
       "    line-height: 19px;\n",
       "  }\n",
       "</style>\n",
       "<div class=\"ansiout\">The dataset has 649 observations\n",
       "The dataset has 33 variables\n",
       "</div>"
      ]
     },
     "metadata": {},
     "output_type": "display_data"
    }
   ],
   "source": [
    "%python\n",
    "print(\"The dataset has\", df.shape[0], \"observations\")\n",
    "print(\"The dataset has\", df.shape[1], \"variables\")"
   ]
  },
  {
   "cell_type": "code",
   "execution_count": 9,
   "metadata": {},
   "outputs": [
    {
     "data": {
      "text/html": [
       "<div>\n",
       "<style scoped>\n",
       "    .dataframe tbody tr th:only-of-type {\n",
       "        vertical-align: middle;\n",
       "    }\n",
       "\n",
       "    .dataframe tbody tr th {\n",
       "        vertical-align: top;\n",
       "    }\n",
       "\n",
       "    .dataframe thead th {\n",
       "        text-align: right;\n",
       "    }\n",
       "</style>\n",
       "<table border=\"1\" class=\"dataframe\">\n",
       "  <thead>\n",
       "    <tr style=\"text-align: right;\">\n",
       "      <th></th>\n",
       "      <th>school</th>\n",
       "      <th>sex</th>\n",
       "      <th>age</th>\n",
       "      <th>address</th>\n",
       "      <th>famsize</th>\n",
       "      <th>Pstatus</th>\n",
       "      <th>Medu</th>\n",
       "      <th>Fedu</th>\n",
       "      <th>Mjob</th>\n",
       "      <th>Fjob</th>\n",
       "      <th>reason</th>\n",
       "      <th>guardian</th>\n",
       "      <th>traveltime</th>\n",
       "      <th>studytime</th>\n",
       "      <th>failures</th>\n",
       "      <th>schoolsup</th>\n",
       "      <th>famsup</th>\n",
       "      <th>paid</th>\n",
       "      <th>activities</th>\n",
       "      <th>nursery</th>\n",
       "      <th>higher</th>\n",
       "      <th>internet</th>\n",
       "      <th>romantic</th>\n",
       "      <th>famrel</th>\n",
       "      <th>freetime</th>\n",
       "      <th>goout</th>\n",
       "      <th>Dalc</th>\n",
       "      <th>Walc</th>\n",
       "      <th>health</th>\n",
       "      <th>absences</th>\n",
       "      <th>G1</th>\n",
       "      <th>G2</th>\n",
       "      <th>G3</th>\n",
       "    </tr>\n",
       "  </thead>\n",
       "  <tbody>\n",
       "    <tr>\n",
       "      <th>36</th>\n",
       "      <td>GP</td>\n",
       "      <td>M</td>\n",
       "      <td>15</td>\n",
       "      <td>U</td>\n",
       "      <td>LE3</td>\n",
       "      <td>T</td>\n",
       "      <td>4</td>\n",
       "      <td>3</td>\n",
       "      <td>teacher</td>\n",
       "      <td>services</td>\n",
       "      <td>home</td>\n",
       "      <td>mother</td>\n",
       "      <td>1</td>\n",
       "      <td>3</td>\n",
       "      <td>0</td>\n",
       "      <td>no</td>\n",
       "      <td>yes</td>\n",
       "      <td>no</td>\n",
       "      <td>yes</td>\n",
       "      <td>yes</td>\n",
       "      <td>yes</td>\n",
       "      <td>yes</td>\n",
       "      <td>no</td>\n",
       "      <td>5</td>\n",
       "      <td>4</td>\n",
       "      <td>3</td>\n",
       "      <td>1</td>\n",
       "      <td>1</td>\n",
       "      <td>4</td>\n",
       "      <td>0</td>\n",
       "      <td>14</td>\n",
       "      <td>14</td>\n",
       "      <td>14</td>\n",
       "    </tr>\n",
       "    <tr>\n",
       "      <th>439</th>\n",
       "      <td>MS</td>\n",
       "      <td>F</td>\n",
       "      <td>15</td>\n",
       "      <td>R</td>\n",
       "      <td>GT3</td>\n",
       "      <td>T</td>\n",
       "      <td>3</td>\n",
       "      <td>3</td>\n",
       "      <td>other</td>\n",
       "      <td>services</td>\n",
       "      <td>course</td>\n",
       "      <td>father</td>\n",
       "      <td>2</td>\n",
       "      <td>1</td>\n",
       "      <td>0</td>\n",
       "      <td>no</td>\n",
       "      <td>no</td>\n",
       "      <td>no</td>\n",
       "      <td>no</td>\n",
       "      <td>no</td>\n",
       "      <td>yes</td>\n",
       "      <td>yes</td>\n",
       "      <td>no</td>\n",
       "      <td>4</td>\n",
       "      <td>1</td>\n",
       "      <td>3</td>\n",
       "      <td>1</td>\n",
       "      <td>1</td>\n",
       "      <td>4</td>\n",
       "      <td>0</td>\n",
       "      <td>14</td>\n",
       "      <td>16</td>\n",
       "      <td>16</td>\n",
       "    </tr>\n",
       "    <tr>\n",
       "      <th>584</th>\n",
       "      <td>MS</td>\n",
       "      <td>F</td>\n",
       "      <td>17</td>\n",
       "      <td>R</td>\n",
       "      <td>GT3</td>\n",
       "      <td>T</td>\n",
       "      <td>0</td>\n",
       "      <td>0</td>\n",
       "      <td>at_home</td>\n",
       "      <td>other</td>\n",
       "      <td>course</td>\n",
       "      <td>mother</td>\n",
       "      <td>2</td>\n",
       "      <td>1</td>\n",
       "      <td>0</td>\n",
       "      <td>no</td>\n",
       "      <td>yes</td>\n",
       "      <td>no</td>\n",
       "      <td>no</td>\n",
       "      <td>yes</td>\n",
       "      <td>yes</td>\n",
       "      <td>yes</td>\n",
       "      <td>no</td>\n",
       "      <td>4</td>\n",
       "      <td>4</td>\n",
       "      <td>3</td>\n",
       "      <td>1</td>\n",
       "      <td>1</td>\n",
       "      <td>5</td>\n",
       "      <td>0</td>\n",
       "      <td>10</td>\n",
       "      <td>11</td>\n",
       "      <td>11</td>\n",
       "    </tr>\n",
       "    <tr>\n",
       "      <th>596</th>\n",
       "      <td>MS</td>\n",
       "      <td>F</td>\n",
       "      <td>17</td>\n",
       "      <td>U</td>\n",
       "      <td>GT3</td>\n",
       "      <td>T</td>\n",
       "      <td>4</td>\n",
       "      <td>2</td>\n",
       "      <td>other</td>\n",
       "      <td>other</td>\n",
       "      <td>course</td>\n",
       "      <td>mother</td>\n",
       "      <td>2</td>\n",
       "      <td>2</td>\n",
       "      <td>0</td>\n",
       "      <td>no</td>\n",
       "      <td>yes</td>\n",
       "      <td>no</td>\n",
       "      <td>no</td>\n",
       "      <td>yes</td>\n",
       "      <td>yes</td>\n",
       "      <td>yes</td>\n",
       "      <td>no</td>\n",
       "      <td>4</td>\n",
       "      <td>3</td>\n",
       "      <td>3</td>\n",
       "      <td>1</td>\n",
       "      <td>2</td>\n",
       "      <td>4</td>\n",
       "      <td>0</td>\n",
       "      <td>17</td>\n",
       "      <td>18</td>\n",
       "      <td>18</td>\n",
       "    </tr>\n",
       "    <tr>\n",
       "      <th>129</th>\n",
       "      <td>GP</td>\n",
       "      <td>M</td>\n",
       "      <td>16</td>\n",
       "      <td>U</td>\n",
       "      <td>GT3</td>\n",
       "      <td>T</td>\n",
       "      <td>2</td>\n",
       "      <td>3</td>\n",
       "      <td>other</td>\n",
       "      <td>other</td>\n",
       "      <td>course</td>\n",
       "      <td>mother</td>\n",
       "      <td>2</td>\n",
       "      <td>3</td>\n",
       "      <td>0</td>\n",
       "      <td>no</td>\n",
       "      <td>yes</td>\n",
       "      <td>no</td>\n",
       "      <td>no</td>\n",
       "      <td>no</td>\n",
       "      <td>yes</td>\n",
       "      <td>yes</td>\n",
       "      <td>yes</td>\n",
       "      <td>3</td>\n",
       "      <td>2</td>\n",
       "      <td>3</td>\n",
       "      <td>2</td>\n",
       "      <td>2</td>\n",
       "      <td>1</td>\n",
       "      <td>4</td>\n",
       "      <td>13</td>\n",
       "      <td>12</td>\n",
       "      <td>13</td>\n",
       "    </tr>\n",
       "  </tbody>\n",
       "</table>\n",
       "</div>"
      ]
     },
     "metadata": {},
     "output_type": "display_data"
    }
   ],
   "source": [
    "df.sample(5)"
   ]
  },
  {
   "cell_type": "code",
   "execution_count": 10,
   "metadata": {},
   "outputs": [
    {
     "data": {
      "text/html": [
       "<style scoped>\n",
       "  .ansiout {\n",
       "    display: block;\n",
       "    unicode-bidi: embed;\n",
       "    white-space: pre-wrap;\n",
       "    word-wrap: break-word;\n",
       "    word-break: break-all;\n",
       "    font-family: \"Source Code Pro\", \"Menlo\", monospace;;\n",
       "    font-size: 13px;\n",
       "    color: #555;\n",
       "    margin-left: 4px;\n",
       "    line-height: 19px;\n",
       "  }\n",
       "</style>\n",
       "<div class=\"ansiout\">Out[76]: school        object\n",
       "sex           object\n",
       "age            int32\n",
       "address       object\n",
       "famsize       object\n",
       "Pstatus       object\n",
       "Medu           int32\n",
       "Fedu           int32\n",
       "Mjob          object\n",
       "Fjob          object\n",
       "reason        object\n",
       "guardian      object\n",
       "traveltime     int32\n",
       "studytime      int32\n",
       "failures       int32\n",
       "schoolsup     object\n",
       "famsup        object\n",
       "paid          object\n",
       "activities    object\n",
       "nursery       object\n",
       "higher        object\n",
       "internet      object\n",
       "romantic      object\n",
       "famrel         int32\n",
       "freetime       int32\n",
       "goout          int32\n",
       "Dalc           int32\n",
       "Walc           int32\n",
       "health         int32\n",
       "absences       int32\n",
       "G1             int32\n",
       "G2             int32\n",
       "G3             int32\n",
       "dtype: object</div>"
      ]
     },
     "metadata": {},
     "output_type": "display_data"
    }
   ],
   "source": [
    "df.dtypes"
   ]
  },
  {
   "cell_type": "code",
   "execution_count": 4,
   "metadata": {},
   "outputs": [],
   "source": [
    "catVar = ['school', \n",
    "          'sex',\n",
    "          'address',\n",
    "          'famsize',\n",
    "          'Pstatus',\n",
    "          'Mjob',\n",
    "          'Fjob',\n",
    "          'reason',\n",
    "          'guardian',\n",
    "          'schoolsup',\n",
    "          'famsup',\n",
    "          'paid',\n",
    "          'activities',\n",
    "          'nursery',\n",
    "          'higher',\n",
    "          'internet',\n",
    "          'romantic']     \n",
    "\n",
    "numVar = ['age',\n",
    "          'Medu',\n",
    "          'Fedu',\n",
    "          'traveltime',\n",
    "          'studytime',   \n",
    "          'failures',\n",
    "          'famrel',         \n",
    "          'freetime',      \n",
    "          'goout',          \n",
    "          'Dalc',           \n",
    "          'Walc',           \n",
    "          'health',         \n",
    "          'absences',       \n",
    "          'G1',             \n",
    "          'G2',\n",
    "          #Target\n",
    "          'G3']            "
   ]
  },
  {
   "cell_type": "code",
   "execution_count": 12,
   "metadata": {},
   "outputs": [
    {
     "data": {
      "text/html": [
       "<style scoped>\n",
       "  .ansiout {\n",
       "    display: block;\n",
       "    unicode-bidi: embed;\n",
       "    white-space: pre-wrap;\n",
       "    word-wrap: break-word;\n",
       "    word-break: break-all;\n",
       "    font-family: \"Source Code Pro\", \"Menlo\", monospace;;\n",
       "    font-size: 13px;\n",
       "    color: #555;\n",
       "    margin-left: 4px;\n",
       "    line-height: 19px;\n",
       "  }\n",
       "</style>\n",
       "<div class=\"ansiout\">There are 17 categorical variables.\n",
       "There are 16 numerical variables.\n",
       "There are 33 variables in total.\n",
       "</div>"
      ]
     },
     "metadata": {},
     "output_type": "display_data"
    }
   ],
   "source": [
    "print(\"There are\", len(catVar), \"categorical variables.\")\n",
    "print(\"There are\", len(numVar), \"numerical variables.\")\n",
    "print(\"There are\", len(catVar) + len(numVar), \"variables in total.\")"
   ]
  },
  {
   "cell_type": "markdown",
   "metadata": {},
   "source": [
    "## Missing values"
   ]
  },
  {
   "cell_type": "code",
   "execution_count": 14,
   "metadata": {},
   "outputs": [
    {
     "data": {
      "text/html": [
       "<style scoped>\n",
       "  .ansiout {\n",
       "    display: block;\n",
       "    unicode-bidi: embed;\n",
       "    white-space: pre-wrap;\n",
       "    word-wrap: break-word;\n",
       "    word-break: break-all;\n",
       "    font-family: \"Source Code Pro\", \"Menlo\", monospace;;\n",
       "    font-size: 13px;\n",
       "    color: #555;\n",
       "    margin-left: 4px;\n",
       "    line-height: 19px;\n",
       "  }\n",
       "</style>\n",
       "<div class=\"ansiout\">Out[79]: school        0\n",
       "sex           0\n",
       "age           0\n",
       "address       0\n",
       "famsize       0\n",
       "Pstatus       0\n",
       "Medu          0\n",
       "Fedu          0\n",
       "Mjob          0\n",
       "Fjob          0\n",
       "reason        0\n",
       "guardian      0\n",
       "traveltime    0\n",
       "studytime     0\n",
       "failures      0\n",
       "schoolsup     0\n",
       "famsup        0\n",
       "paid          0\n",
       "activities    0\n",
       "nursery       0\n",
       "higher        0\n",
       "internet      0\n",
       "romantic      0\n",
       "famrel        0\n",
       "freetime      0\n",
       "goout         0\n",
       "Dalc          0\n",
       "Walc          0\n",
       "health        0\n",
       "absences      0\n",
       "G1            0\n",
       "G2            0\n",
       "G3            0\n",
       "dtype: int64</div>"
      ]
     },
     "metadata": {},
     "output_type": "display_data"
    }
   ],
   "source": [
    "df.isna().sum()"
   ]
  },
  {
   "cell_type": "markdown",
   "metadata": {},
   "source": [
    "This dataset seems perfectly clean, without missing values.\n",
    "\n",
    "## Categorical features\n",
    "\n",
    "We first want to have a look at the number of observations for each category of each categorical feature."
   ]
  },
  {
   "cell_type": "code",
   "execution_count": 16,
   "metadata": {},
   "outputs": [],
   "source": [
    "fig, axs = plt.subplots(nrows=8,ncols=2, figsize = (16,40))\n",
    "for i, ax in enumerate(axs.flatten()):\n",
    "    sns.countplot(df[catVar[i]], ax=ax)"
   ]
  },
  {
   "cell_type": "markdown",
   "metadata": {},
   "source": [
    "We can see a large variety in the number of observation per category for these variables ; we therefore hope that they might help in predicting grades."
   ]
  },
  {
   "cell_type": "markdown",
   "metadata": {},
   "source": [
    "## Numerical features\n",
    "\n",
    "We do the same procedure for numerical variables, to get a glimpse of what is behind each variable and how they might affect our dependant variable."
   ]
  },
  {
   "cell_type": "code",
   "execution_count": 19,
   "metadata": {},
   "outputs": [],
   "source": [
    "fig, axs = plt.subplots(nrows=8,ncols=2, figsize = (20,60))\n",
    "for i, ax in enumerate(axs.flatten()):\n",
    "    sns.distplot(df[numVar[i]], ax=ax)"
   ]
  },
  {
   "cell_type": "markdown",
   "metadata": {},
   "source": [
    "Here again, the distributions of variables can vary a lot (exponential, normal, ...).\n",
    "We also have to notice that the distribution of G3, our dependant variable, is almost normal and that most of observations lies between 10 and 15 ; we can anticipate that predicting very precisely grades will not be very easy, since a lot of them are very close to one another."
   ]
  },
  {
   "cell_type": "markdown",
   "metadata": {},
   "source": [
    "#### Dealing with binary variables"
   ]
  },
  {
   "cell_type": "markdown",
   "metadata": {},
   "source": [
    "Replacing yes/no value by 1/0 (binary levels)"
   ]
  },
  {
   "cell_type": "code",
   "execution_count": 5,
   "metadata": {},
   "outputs": [],
   "source": [
    "binaryVar = ['schoolsup',\n",
    "             'famsup',\n",
    "             'paid',\n",
    "             'activities',\n",
    "             'nursery',\n",
    "             'higher',\n",
    "             'internet',\n",
    "             'romantic']"
   ]
  },
  {
   "cell_type": "code",
   "execution_count": 24,
   "metadata": {},
   "outputs": [
    {
     "data": {
      "text/html": [
       "<style scoped>\n",
       "  .ansiout {\n",
       "    display: block;\n",
       "    unicode-bidi: embed;\n",
       "    white-space: pre-wrap;\n",
       "    word-wrap: break-word;\n",
       "    word-break: break-all;\n",
       "    font-family: \"Source Code Pro\", \"Menlo\", monospace;;\n",
       "    font-size: 13px;\n",
       "    color: #555;\n",
       "    margin-left: 4px;\n",
       "    line-height: 19px;\n",
       "  }\n",
       "</style>\n",
       "<div class=\"ansiout\"></div>"
      ]
     },
     "metadata": {},
     "output_type": "display_data"
    }
   ],
   "source": [
    "# Transform yes/no variables into binary variables\n",
    "for i in range(len(binaryVar)):\n",
    "    df[binaryVar[i]] = df[binaryVar[i]].replace(to_replace=['no', 'yes'], value=[0, 1])"
   ]
  },
  {
   "cell_type": "markdown",
   "metadata": {},
   "source": [
    "### Correlation"
   ]
  },
  {
   "cell_type": "code",
   "execution_count": 26,
   "metadata": {},
   "outputs": [
    {
     "data": {
      "text/html": [
       "<style scoped>\n",
       "  .ansiout {\n",
       "    display: block;\n",
       "    unicode-bidi: embed;\n",
       "    white-space: pre-wrap;\n",
       "    word-wrap: break-word;\n",
       "    word-break: break-all;\n",
       "    font-family: \"Source Code Pro\", \"Menlo\", monospace;;\n",
       "    font-size: 13px;\n",
       "    color: #555;\n",
       "    margin-left: 4px;\n",
       "    line-height: 19px;\n",
       "  }\n",
       "</style>\n",
       "<div class=\"ansiout\"></div>"
      ]
     },
     "metadata": {},
     "output_type": "display_data"
    }
   ],
   "source": [
    "corr = df[numVar].corr()"
   ]
  },
  {
   "cell_type": "code",
   "execution_count": 27,
   "metadata": {},
   "outputs": [],
   "source": [
    "# Generate a mask for the upper triangle\n",
    "mask = np.zeros_like(corr, dtype = np.bool)\n",
    "mask[np.triu_indices_from(mask)] = True\n",
    "\n",
    "# Set up the matplotlib figure\n",
    "f, ax = plt.subplots(figsize = (22,18))\n",
    "\n",
    "# Generate a custom diverging colormap\n",
    "cmap = sns.diverging_palette(200,10,as_cmap = True)\n",
    "\n",
    "# Draw the heatmap with the mask and correct aspect ratio\n",
    "sns.set(font_scale=0.1)\n",
    "sns.heatmap(corr, mask=mask, cmap=cmap,vmax=.2, center=0,square=True,linewidths=.5,cbar_kws={\"shrink\": .6})"
   ]
  },
  {
   "cell_type": "markdown",
   "metadata": {},
   "source": [
    "**Variables highy correlated  : top 10**"
   ]
  },
  {
   "cell_type": "code",
   "execution_count": 29,
   "metadata": {},
   "outputs": [
    {
     "data": {
      "text/html": [
       "<style scoped>\n",
       "  .ansiout {\n",
       "    display: block;\n",
       "    unicode-bidi: embed;\n",
       "    white-space: pre-wrap;\n",
       "    word-wrap: break-word;\n",
       "    word-break: break-all;\n",
       "    font-family: \"Source Code Pro\", \"Menlo\", monospace;;\n",
       "    font-size: 13px;\n",
       "    color: #555;\n",
       "    margin-left: 4px;\n",
       "    line-height: 19px;\n",
       "  }\n",
       "</style>\n",
       "<div class=\"ansiout\"></div>"
      ]
     },
     "metadata": {},
     "output_type": "display_data"
    }
   ],
   "source": [
    "numData = df[numVar]\n",
    "\n",
    "def get_redundant_pairs(numData):\n",
    "    '''Get diagonal and lower triangular pairs of correlation matrix'''\n",
    "    pairs_to_drop = set()\n",
    "    cols = numData.columns\n",
    "    for i in range(0, numData.shape[1]):\n",
    "        for j in range(0, i+1):\n",
    "            pairs_to_drop.add((cols[i], cols[j]))\n",
    "    return pairs_to_drop"
   ]
  },
  {
   "cell_type": "code",
   "execution_count": 30,
   "metadata": {},
   "outputs": [
    {
     "data": {
      "text/html": [
       "<style scoped>\n",
       "  .ansiout {\n",
       "    display: block;\n",
       "    unicode-bidi: embed;\n",
       "    white-space: pre-wrap;\n",
       "    word-wrap: break-word;\n",
       "    word-break: break-all;\n",
       "    font-family: \"Source Code Pro\", \"Menlo\", monospace;;\n",
       "    font-size: 13px;\n",
       "    color: #555;\n",
       "    margin-left: 4px;\n",
       "    line-height: 19px;\n",
       "  }\n",
       "</style>\n",
       "<div class=\"ansiout\"></div>"
      ]
     },
     "metadata": {},
     "output_type": "display_data"
    }
   ],
   "source": [
    "def get_top_abs_correlations(numData, n=5):\n",
    "    au_corr = numData.corr().abs().unstack()\n",
    "    labels_to_drop = get_redundant_pairs(numData)\n",
    "    au_corr = au_corr.drop(labels=labels_to_drop).sort_values(ascending=False)\n",
    "    return au_corr[0:n]"
   ]
  },
  {
   "cell_type": "code",
   "execution_count": 31,
   "metadata": {},
   "outputs": [
    {
     "data": {
      "text/html": [
       "<style scoped>\n",
       "  .ansiout {\n",
       "    display: block;\n",
       "    unicode-bidi: embed;\n",
       "    white-space: pre-wrap;\n",
       "    word-wrap: break-word;\n",
       "    word-break: break-all;\n",
       "    font-family: \"Source Code Pro\", \"Menlo\", monospace;;\n",
       "    font-size: 13px;\n",
       "    color: #555;\n",
       "    margin-left: 4px;\n",
       "    line-height: 19px;\n",
       "  }\n",
       "</style>\n",
       "<div class=\"ansiout\">G2        G3       0.918548\n",
       "G1        G2       0.864982\n",
       "          G3       0.826387\n",
       "Medu      Fedu     0.647477\n",
       "Dalc      Walc     0.616561\n",
       "failures  G3       0.393316\n",
       "goout     Walc     0.388680\n",
       "failures  G2       0.385782\n",
       "          G1       0.384210\n",
       "freetime  goout    0.346352\n",
       "dtype: float64\n",
       "</div>"
      ]
     },
     "metadata": {},
     "output_type": "display_data"
    }
   ],
   "source": [
    "top_correl = get_top_abs_correlations(numData, 10)\n",
    "print(top_correl)"
   ]
  },
  {
   "cell_type": "markdown",
   "metadata": {},
   "source": [
    "We can here notice several things, by studying the (absolute) correlation :\n",
    "- The three grades (first term, second term and final grade) are very correlated between one another, so useing G1 and G2 in the explanaotry variabels or not might change a lot the quality of our predictions. \n",
    "- Daily and Weakly consumption of alcohol are very correlated, without surprise.\n",
    "- The number of failure and grades at G1/G2 are very correlated ; here the correlation is probably negative, a high number of failure might decrease the grade. \n",
    "- freetime and going out (goout) are also very correlated, quite logically."
   ]
  },
  {
   "cell_type": "markdown",
   "metadata": {},
   "source": [
    "## Multivariate\n",
    "\n",
    "To illustrate a bit more graphically these correlations, we do a bit a visualisation to show what are the links between variables."
   ]
  },
  {
   "cell_type": "markdown",
   "metadata": {},
   "source": [
    "**Violin plot**"
   ]
  },
  {
   "cell_type": "code",
   "execution_count": 15,
   "metadata": {},
   "outputs": [
    {
     "data": {
      "text/plain": [
       "Text(0, 0.5, 'G3')"
      ]
     },
     "execution_count": 15,
     "metadata": {},
     "output_type": "execute_result"
    },
    {
     "data": {
      "image/png": "[encoded data removed]",
      "text/plain": [
       "<Figure size 576x576 with 1 Axes>"
      ]
     },
     "metadata": {},
     "output_type": "display_data"
    }
   ],
   "source": [
    "# create violin plots with seaborn\n",
    "sns.set(style=\"whitegrid\")\n",
    "fig = plt.figure(figsize=(8, 8))\n",
    "ax = sns.violinplot(x = df.romantic, y = df.G3, palette=\"Set2\", inner=\"quartile\")\n",
    "plt.title('G3 distribution for students having and not having romantic relationship',fontsize=16)\n",
    "plt.xlabel('Romantic Relationship', fontsize=16)\n",
    "plt.ylabel('G3', fontsize=16)\n"
   ]
  },
  {
   "cell_type": "markdown",
   "metadata": {},
   "source": [
    "**Boxplot**"
   ]
  },
  {
   "cell_type": "code",
   "execution_count": 16,
   "metadata": {},
   "outputs": [
    {
     "data": {
      "image/png": "[encoded data removed]",
      "text/plain": [
       "<Figure size 576x6480 with 16 Axes>"
      ]
     },
     "metadata": {},
     "output_type": "display_data"
    }
   ],
   "source": [
    "fig, axs = plt.subplots(16, figsize = (8,90))\n",
    "for i, ax in enumerate(axs.flatten()):\n",
    "    sns.boxplot(df[df.columns[i]], df['G3'], ax=ax)"
   ]
  },
  {
   "cell_type": "markdown",
   "metadata": {},
   "source": [
    "Variables for which G3 grades vary:\n",
    "    \n",
    "- Type of School : students from MS school tend to have lower G3 grades\n",
    "- Males tend to have lower G3 grades on average \n",
    "- Younger students tend to have better grades\n",
    "- Mother's education and father's education seem to have an impact on grades\n",
    "- Mother's job and father's job as well"
   ]
  },
  {
   "cell_type": "markdown",
   "metadata": {},
   "source": [
    "**Nested Pie chart**"
   ]
  },
  {
   "cell_type": "code",
   "execution_count": 30,
   "metadata": {},
   "outputs": [
    {
     "data": {
      "image/png": "[encoded data removed]",
      "text/plain": [
       "<Figure size 864x576 with 1 Axes>"
      ]
     },
     "metadata": {},
     "output_type": "display_data"
    }
   ],
   "source": [
    "#data for the pie charts\n",
    "group_names = list(Counter(df.Mjob).keys())\n",
    "sizes = list(Counter(df.Mjob).values())\n",
    "\n",
    "labels_address = ['Urban','Rural'] * 5\n",
    "\n",
    "\n",
    "grouped = df.groupby([\"Mjob\"]).agg({\"address\": Counter})\n",
    "sizes_address = []\n",
    "for i in range(len(Counter(df.Mjob).keys())):\n",
    "    sizes_address.append(list(grouped.address[i].values())[0])\n",
    "    sizes_address.append(list(grouped.address[i].values())[1])\n",
    "\n",
    "# Create colors\n",
    "a, b, c, d, e=[plt.cm.Blues, plt.cm.Reds, plt.cm.Greens, plt.cm.Oranges, plt.cm.Purples]\n",
    "\n",
    "fig, ax = plt.subplots()\n",
    "fig.set_size_inches(12,8)\n",
    "ax.axis('equal')\n",
    "mypie, _ = ax.pie(sizes, radius=1.3, labels=group_names,colors= \n",
    "[a(0.7), b(0.7), c(0.7), d(0.7), e(0.7)])\n",
    "plt.setp( mypie, width=0.3, edgecolor='white')\n",
    "\n",
    "# Second Ring (Inside)\n",
    "mypie2, _ = ax.pie(sizes_address, radius=1.3-0.3, \n",
    "labels= labels_address, labeldistance=0.7, colors=[a(0.4), a(0.3), \n",
    "b(0.4), b(0.3), c(0.4), c(0.3), d(0.4), d(0.3), e(0.4), e(0.3)])\n",
    "plt.setp( mypie2, width=0.4, edgecolor='white')\n",
    "plt.margins(0,0)\n",
    "\n",
    "ax.set_title(label=\"Mothers' job and living area\",loc='left',fontsize=15)\n",
    "plt.show()"
   ]
  },
  {
   "cell_type": "markdown",
   "metadata": {},
   "source": [
    "This graph enables to see the difference of repartition Urban/rural according to the mother job : it enables us to see for example that if usually there are more people urban than rural, for students whose mother is at home, the proportion is mch more balanced, with almost the same number of students in urban than in rural area."
   ]
  },
  {
   "cell_type": "markdown",
   "metadata": {},
   "source": [
    "**Radar Chart**"
   ]
  },
  {
   "cell_type": "code",
   "execution_count": 43,
   "metadata": {},
   "outputs": [
    {
     "data": {
      "text/html": [
       "<style scoped>\n",
       "  .ansiout {\n",
       "    display: block;\n",
       "    unicode-bidi: embed;\n",
       "    white-space: pre-wrap;\n",
       "    word-wrap: break-word;\n",
       "    word-break: break-all;\n",
       "    font-family: \"Source Code Pro\", \"Menlo\", monospace;;\n",
       "    font-size: 13px;\n",
       "    color: #555;\n",
       "    margin-left: 4px;\n",
       "    line-height: 19px;\n",
       "  }\n",
       "</style>\n",
       "<div class=\"ansiout\">Out[92]: count    649.000000\n",
       "mean      11.906009\n",
       "std        3.230656\n",
       "min        0.000000\n",
       "25%       10.000000\n",
       "50%       12.000000\n",
       "75%       14.000000\n",
       "max       19.000000\n",
       "Name: G3, dtype: float64</div>"
      ]
     },
     "metadata": {},
     "output_type": "display_data"
    }
   ],
   "source": [
    "## getting 1st and second quantile of G3 grades \n",
    "df['G3'].describe()"
   ]
  },
  {
   "cell_type": "code",
   "execution_count": 32,
   "metadata": {},
   "outputs": [],
   "source": [
    "## Creating data for the radar chart\n",
    "Q1 = df[df['G3'] <= 10]\n",
    "Q3 = df[df['G3'] >= 14]\n",
    "\n",
    "Q1_spider = Q1[['studytime', 'absences','failures','health', 'goout','traveltime', 'freetime', 'famrel','Dalc','Walc']]\n",
    "Q3_spider = Q3[['studytime', 'absences','failures','health', 'goout','traveltime', 'freetime', 'famrel','Dalc','Walc']]"
   ]
  },
  {
   "cell_type": "code",
   "execution_count": 45,
   "metadata": {},
   "outputs": [
    {
     "data": {
      "application/vnd.plotly.v1+json": {
       "config": {
        "plotlyServerURL": "https://plot.ly"
       },
       "data": [
        {
         "fill": "toself",
         "name": "G3 below 1st quartile",
         "r": [
          1.6852791878172588,
          4.685279187817259,
          0.6091370558375635,
          3.6294416243654823,
          3.3096446700507616,
          1.7055837563451777,
          3.3705583756345177,
          3.8680203045685277,
          1.7106598984771573,
          2.532994923857868
         ],
         "theta": [
          "Studytime",
          "Absences",
          "Failures",
          "Health Status",
          "Going out",
          "Traveltime",
          "Freetime",
          "Quality of Family relationships",
          "Workday Alcohol Consumption",
          "Weekend Alcohol Consumption"
         ],
         "type": "scatterpolar"
        },
        {
         "fill": "toself",
         "name": "G3 above 3rd quartile",
         "r": [
          2.1752577319587627,
          3.051546391752577,
          0.015463917525773196,
          3.2783505154639174,
          3.0721649484536084,
          1.4329896907216495,
          3.1288659793814433,
          4.015463917525773,
          1.288659793814433,
          2.0309278350515463
         ],
         "theta": [
          "Studytime",
          "Absences",
          "Failures",
          "Health Status",
          "Going out",
          "Traveltime",
          "Freetime",
          "Quality of Family relationships",
          "Workday Alcohol Consumption",
          "Weekend Alcohol Consumption"
         ],
         "type": "scatterpolar"
        }
       ],
       "layout": {
        "polar": {
         "radialaxis": {
          "range": [
           0,
           5
          ],
          "visible": true
         }
        },
        "showlegend": true,
        "template": {
         "data": {
          "bar": [
           {
            "error_x": {
             "color": "#2a3f5f"
            },
            "error_y": {
             "color": "#2a3f5f"
            },
            "marker": {
             "line": {
              "color": "#E5ECF6",
              "width": 0.5
             }
            },
            "type": "bar"
           }
          ],
          "barpolar": [
           {
            "marker": {
             "line": {
              "color": "#E5ECF6",
              "width": 0.5
             }
            },
            "type": "barpolar"
           }
          ],
          "carpet": [
           {
            "aaxis": {
             "endlinecolor": "#2a3f5f",
             "gridcolor": "white",
             "linecolor": "white",
             "minorgridcolor": "white",
             "startlinecolor": "#2a3f5f"
            },
            "baxis": {
             "endlinecolor": "#2a3f5f",
             "gridcolor": "white",
             "linecolor": "white",
             "minorgridcolor": "white",
             "startlinecolor": "#2a3f5f"
            },
            "type": "carpet"
           }
          ],
          "choropleth": [
           {
            "colorbar": {
             "outlinewidth": 0,
             "ticks": ""
            },
            "type": "choropleth"
           }
          ],
          "contour": [
           {
            "colorbar": {
             "outlinewidth": 0,
             "ticks": ""
            },
            "colorscale": [
             [
              0,
              "#0d0887"
             ],
             [
              0.1111111111111111,
              "#46039f"
             ],
             [
              0.2222222222222222,
              "#7201a8"
             ],
             [
              0.3333333333333333,
              "#9c179e"
             ],
             [
              0.4444444444444444,
              "#bd3786"
             ],
             [
              0.5555555555555556,
              "#d8576b"
             ],
             [
              0.6666666666666666,
              "#ed7953"
             ],
             [
              0.7777777777777778,
              "#fb9f3a"
             ],
             [
              0.8888888888888888,
              "#fdca26"
             ],
             [
              1,
              "#f0f921"
             ]
            ],
            "type": "contour"
           }
          ],
          "contourcarpet": [
           {
            "colorbar": {
             "outlinewidth": 0,
             "ticks": ""
            },
            "type": "contourcarpet"
           }
          ],
          "heatmap": [
           {
            "colorbar": {
             "outlinewidth": 0,
             "ticks": ""
            },
            "colorscale": [
             [
              0,
              "#0d0887"
             ],
             [
              0.1111111111111111,
              "#46039f"
             ],
             [
              0.2222222222222222,
              "#7201a8"
             ],
             [
              0.3333333333333333,
              "#9c179e"
             ],
             [
              0.4444444444444444,
              "#bd3786"
             ],
             [
              0.5555555555555556,
              "#d8576b"
             ],
             [
              0.6666666666666666,
              "#ed7953"
             ],
             [
              0.7777777777777778,
              "#fb9f3a"
             ],
             [
              0.8888888888888888,
              "#fdca26"
             ],
             [
              1,
              "#f0f921"
             ]
            ],
            "type": "heatmap"
           }
          ],
          "heatmapgl": [
           {
            "colorbar": {
             "outlinewidth": 0,
             "ticks": ""
            },
            "colorscale": [
             [
              0,
              "#0d0887"
             ],
             [
              0.1111111111111111,
              "#46039f"
             ],
             [
              0.2222222222222222,
              "#7201a8"
             ],
             [
              0.3333333333333333,
              "#9c179e"
             ],
             [
              0.4444444444444444,
              "#bd3786"
             ],
             [
              0.5555555555555556,
              "#d8576b"
             ],
             [
              0.6666666666666666,
              "#ed7953"
             ],
             [
              0.7777777777777778,
              "#fb9f3a"
             ],
             [
              0.8888888888888888,
              "#fdca26"
             ],
             [
              1,
              "#f0f921"
             ]
            ],
            "type": "heatmapgl"
           }
          ],
          "histogram": [
           {
            "marker": {
             "colorbar": {
              "outlinewidth": 0,
              "ticks": ""
             }
            },
            "type": "histogram"
           }
          ],
          "histogram2d": [
           {
            "colorbar": {
             "outlinewidth": 0,
             "ticks": ""
            },
            "colorscale": [
             [
              0,
              "#0d0887"
             ],
             [
              0.1111111111111111,
              "#46039f"
             ],
             [
              0.2222222222222222,
              "#7201a8"
             ],
             [
              0.3333333333333333,
              "#9c179e"
             ],
             [
              0.4444444444444444,
              "#bd3786"
             ],
             [
              0.5555555555555556,
              "#d8576b"
             ],
             [
              0.6666666666666666,
              "#ed7953"
             ],
             [
              0.7777777777777778,
              "#fb9f3a"
             ],
             [
              0.8888888888888888,
              "#fdca26"
             ],
             [
              1,
              "#f0f921"
             ]
            ],
            "type": "histogram2d"
           }
          ],
          "histogram2dcontour": [
           {
            "colorbar": {
             "outlinewidth": 0,
             "ticks": ""
            },
            "colorscale": [
             [
              0,
              "#0d0887"
             ],
             [
              0.1111111111111111,
              "#46039f"
             ],
             [
              0.2222222222222222,
              "#7201a8"
             ],
             [
              0.3333333333333333,
              "#9c179e"
             ],
             [
              0.4444444444444444,
              "#bd3786"
             ],
             [
              0.5555555555555556,
              "#d8576b"
             ],
             [
              0.6666666666666666,
              "#ed7953"
             ],
             [
              0.7777777777777778,
              "#fb9f3a"
             ],
             [
              0.8888888888888888,
              "#fdca26"
             ],
             [
              1,
              "#f0f921"
             ]
            ],
            "type": "histogram2dcontour"
           }
          ],
          "mesh3d": [
           {
            "colorbar": {
             "outlinewidth": 0,
             "ticks": ""
            },
            "type": "mesh3d"
           }
          ],
          "parcoords": [
           {
            "line": {
             "colorbar": {
              "outlinewidth": 0,
              "ticks": ""
             }
            },
            "type": "parcoords"
           }
          ],
          "pie": [
           {
            "automargin": true,
            "type": "pie"
           }
          ],
          "scatter": [
           {
            "marker": {
             "colorbar": {
              "outlinewidth": 0,
              "ticks": ""
             }
            },
            "type": "scatter"
           }
          ],
          "scatter3d": [
           {
            "line": {
             "colorbar": {
              "outlinewidth": 0,
              "ticks": ""
             }
            },
            "marker": {
             "colorbar": {
              "outlinewidth": 0,
              "ticks": ""
             }
            },
            "type": "scatter3d"
           }
          ],
          "scattercarpet": [
           {
            "marker": {
             "colorbar": {
              "outlinewidth": 0,
              "ticks": ""
             }
            },
            "type": "scattercarpet"
           }
          ],
          "scattergeo": [
           {
            "marker": {
             "colorbar": {
              "outlinewidth": 0,
              "ticks": ""
             }
            },
            "type": "scattergeo"
           }
          ],
          "scattergl": [
           {
            "marker": {
             "colorbar": {
              "outlinewidth": 0,
              "ticks": ""
             }
            },
            "type": "scattergl"
           }
          ],
          "scattermapbox": [
           {
            "marker": {
             "colorbar": {
              "outlinewidth": 0,
              "ticks": ""
             }
            },
            "type": "scattermapbox"
           }
          ],
          "scatterpolar": [
           {
            "marker": {
             "colorbar": {
              "outlinewidth": 0,
              "ticks": ""
             }
            },
            "type": "scatterpolar"
           }
          ],
          "scatterpolargl": [
           {
            "marker": {
             "colorbar": {
              "outlinewidth": 0,
              "ticks": ""
             }
            },
            "type": "scatterpolargl"
           }
          ],
          "scatterternary": [
           {
            "marker": {
             "colorbar": {
              "outlinewidth": 0,
              "ticks": ""
             }
            },
            "type": "scatterternary"
           }
          ],
          "surface": [
           {
            "colorbar": {
             "outlinewidth": 0,
             "ticks": ""
            },
            "colorscale": [
             [
              0,
              "#0d0887"
             ],
             [
              0.1111111111111111,
              "#46039f"
             ],
             [
              0.2222222222222222,
              "#7201a8"
             ],
             [
              0.3333333333333333,
              "#9c179e"
             ],
             [
              0.4444444444444444,
              "#bd3786"
             ],
             [
              0.5555555555555556,
              "#d8576b"
             ],
             [
              0.6666666666666666,
              "#ed7953"
             ],
             [
              0.7777777777777778,
              "#fb9f3a"
             ],
             [
              0.8888888888888888,
              "#fdca26"
             ],
             [
              1,
              "#f0f921"
             ]
            ],
            "type": "surface"
           }
          ],
          "table": [
           {
            "cells": {
             "fill": {
              "color": "#EBF0F8"
             },
             "line": {
              "color": "white"
             }
            },
            "header": {
             "fill": {
              "color": "#C8D4E3"
             },
             "line": {
              "color": "white"
             }
            },
            "type": "table"
           }
          ]
         },
         "layout": {
          "annotationdefaults": {
           "arrowcolor": "#2a3f5f",
           "arrowhead": 0,
           "arrowwidth": 1
          },
          "coloraxis": {
           "colorbar": {
            "outlinewidth": 0,
            "ticks": ""
           }
          },
          "colorscale": {
           "diverging": [
            [
             0,
             "#8e0152"
            ],
            [
             0.1,
             "#c51b7d"
            ],
            [
             0.2,
             "#de77ae"
            ],
            [
             0.3,
             "#f1b6da"
            ],
            [
             0.4,
             "#fde0ef"
            ],
            [
             0.5,
             "#f7f7f7"
            ],
            [
             0.6,
             "#e6f5d0"
            ],
            [
             0.7,
             "#b8e186"
            ],
            [
             0.8,
             "#7fbc41"
            ],
            [
             0.9,
             "#4d9221"
            ],
            [
             1,
             "#276419"
            ]
           ],
           "sequential": [
            [
             0,
             "#0d0887"
            ],
            [
             0.1111111111111111,
             "#46039f"
            ],
            [
             0.2222222222222222,
             "#7201a8"
            ],
            [
             0.3333333333333333,
             "#9c179e"
            ],
            [
             0.4444444444444444,
             "#bd3786"
            ],
            [
             0.5555555555555556,
             "#d8576b"
            ],
            [
             0.6666666666666666,
             "#ed7953"
            ],
            [
             0.7777777777777778,
             "#fb9f3a"
            ],
            [
             0.8888888888888888,
             "#fdca26"
            ],
            [
             1,
             "#f0f921"
            ]
           ],
           "sequentialminus": [
            [
             0,
             "#0d0887"
            ],
            [
             0.1111111111111111,
             "#46039f"
            ],
            [
             0.2222222222222222,
             "#7201a8"
            ],
            [
             0.3333333333333333,
             "#9c179e"
            ],
            [
             0.4444444444444444,
             "#bd3786"
            ],
            [
             0.5555555555555556,
             "#d8576b"
            ],
            [
             0.6666666666666666,
             "#ed7953"
            ],
            [
             0.7777777777777778,
             "#fb9f3a"
            ],
            [
             0.8888888888888888,
             "#fdca26"
            ],
            [
             1,
             "#f0f921"
            ]
           ]
          },
          "colorway": [
           "#636efa",
           "#EF553B",
           "#00cc96",
           "#ab63fa",
           "#FFA15A",
           "#19d3f3",
           "#FF6692",
           "#B6E880",
           "#FF97FF",
           "#FECB52"
          ],
          "font": {
           "color": "#2a3f5f"
          },
          "geo": {
           "bgcolor": "white",
           "lakecolor": "white",
           "landcolor": "#E5ECF6",
           "showlakes": true,
           "showland": true,
           "subunitcolor": "white"
          },
          "hoverlabel": {
           "align": "left"
          },
          "hovermode": "closest",
          "mapbox": {
           "style": "light"
          },
          "paper_bgcolor": "white",
          "plot_bgcolor": "#E5ECF6",
          "polar": {
           "angularaxis": {
            "gridcolor": "white",
            "linecolor": "white",
            "ticks": ""
           },
           "bgcolor": "#E5ECF6",
           "radialaxis": {
            "gridcolor": "white",
            "linecolor": "white",
            "ticks": ""
           }
          },
          "scene": {
           "xaxis": {
            "backgroundcolor": "#E5ECF6",
            "gridcolor": "white",
            "gridwidth": 2,
            "linecolor": "white",
            "showbackground": true,
            "ticks": "",
            "zerolinecolor": "white"
           },
           "yaxis": {
            "backgroundcolor": "#E5ECF6",
            "gridcolor": "white",
            "gridwidth": 2,
            "linecolor": "white",
            "showbackground": true,
            "ticks": "",
            "zerolinecolor": "white"
           },
           "zaxis": {
            "backgroundcolor": "#E5ECF6",
            "gridcolor": "white",
            "gridwidth": 2,
            "linecolor": "white",
            "showbackground": true,
            "ticks": "",
            "zerolinecolor": "white"
           }
          },
          "shapedefaults": {
           "line": {
            "color": "#2a3f5f"
           }
          },
          "ternary": {
           "aaxis": {
            "gridcolor": "white",
            "linecolor": "white",
            "ticks": ""
           },
           "baxis": {
            "gridcolor": "white",
            "linecolor": "white",
            "ticks": ""
           },
           "bgcolor": "#E5ECF6",
           "caxis": {
            "gridcolor": "white",
            "linecolor": "white",
            "ticks": ""
           }
          },
          "title": {
           "x": 0.05
          },
          "xaxis": {
           "automargin": true,
           "gridcolor": "white",
           "linecolor": "white",
           "ticks": "",
           "title": {
            "standoff": 15
           },
           "zerolinecolor": "white",
           "zerolinewidth": 2
          },
          "yaxis": {
           "automargin": true,
           "gridcolor": "white",
           "linecolor": "white",
           "ticks": "",
           "title": {
            "standoff": 15
           },
           "zerolinecolor": "white",
           "zerolinewidth": 2
          }
         }
        },
        "title": {
         "text": "Students Profile by Grades Group"
        }
       }
      },
      "text/html": [
       "<div>\n",
       "        \n",
       "        \n",
       "            <div id=\"3fff9c8d-d39b-45e1-b564-9e04c572d5a3\" class=\"plotly-graph-div\" style=\"height:525px; width:100%;\"></div>\n",
       "            <script type=\"text/javascript\">\n",
       "                require([\"plotly\"], function(Plotly) {\n",
       "                    window.PLOTLYENV=window.PLOTLYENV || {};\n",
       "                    \n",
       "                if (document.getElementById(\"3fff9c8d-d39b-45e1-b564-9e04c572d5a3\")) {\n",
       "                    Plotly.newPlot(\n",
       "                        '3fff9c8d-d39b-45e1-b564-9e04c572d5a3',\n",
       "                        [{\"fill\": \"toself\", \"name\": \"G3 below 1st quartile\", \"r\": [1.6852791878172588, 4.685279187817259, 0.6091370558375635, 3.6294416243654823, 3.3096446700507616, 1.7055837563451777, 3.3705583756345177, 3.8680203045685277, 1.7106598984771573, 2.532994923857868], \"theta\": [\"Studytime\", \"Absences\", \"Failures\", \"Health Status\", \"Going out\", \"Traveltime\", \"Freetime\", \"Quality of Family relationships\", \"Workday Alcohol Consumption\", \"Weekend Alcohol Consumption\"], \"type\": \"scatterpolar\"}, {\"fill\": \"toself\", \"name\": \"G3 above 3rd quartile\", \"r\": [2.1752577319587627, 3.051546391752577, 0.015463917525773196, 3.2783505154639174, 3.0721649484536084, 1.4329896907216495, 3.1288659793814433, 4.015463917525773, 1.288659793814433, 2.0309278350515463], \"theta\": [\"Studytime\", \"Absences\", \"Failures\", \"Health Status\", \"Going out\", \"Traveltime\", \"Freetime\", \"Quality of Family relationships\", \"Workday Alcohol Consumption\", \"Weekend Alcohol Consumption\"], \"type\": \"scatterpolar\"}],\n",
       "                        {\"polar\": {\"radialaxis\": {\"range\": [0, 5], \"visible\": true}}, \"showlegend\": true, \"template\": {\"data\": {\"bar\": [{\"error_x\": {\"color\": \"#2a3f5f\"}, \"error_y\": {\"color\": \"#2a3f5f\"}, \"marker\": {\"line\": {\"color\": \"#E5ECF6\", \"width\": 0.5}}, \"type\": \"bar\"}], \"barpolar\": [{\"marker\": {\"line\": {\"color\": \"#E5ECF6\", \"width\": 0.5}}, \"type\": \"barpolar\"}], \"carpet\": [{\"aaxis\": {\"endlinecolor\": \"#2a3f5f\", \"gridcolor\": \"white\", \"linecolor\": \"white\", \"minorgridcolor\": \"white\", \"startlinecolor\": \"#2a3f5f\"}, \"baxis\": {\"endlinecolor\": \"#2a3f5f\", \"gridcolor\": \"white\", \"linecolor\": \"white\", \"minorgridcolor\": \"white\", \"startlinecolor\": \"#2a3f5f\"}, \"type\": \"carpet\"}], \"choropleth\": [{\"colorbar\": {\"outlinewidth\": 0, \"ticks\": \"\"}, \"type\": \"choropleth\"}], \"contour\": [{\"colorbar\": {\"outlinewidth\": 0, \"ticks\": \"\"}, \"colorscale\": [[0.0, \"#0d0887\"], [0.1111111111111111, \"#46039f\"], [0.2222222222222222, \"#7201a8\"], [0.3333333333333333, \"#9c179e\"], [0.4444444444444444, \"#bd3786\"], [0.5555555555555556, \"#d8576b\"], [0.6666666666666666, \"#ed7953\"], [0.7777777777777778, \"#fb9f3a\"], [0.8888888888888888, \"#fdca26\"], [1.0, \"#f0f921\"]], \"type\": \"contour\"}], \"contourcarpet\": [{\"colorbar\": {\"outlinewidth\": 0, \"ticks\": \"\"}, \"type\": \"contourcarpet\"}], \"heatmap\": [{\"colorbar\": {\"outlinewidth\": 0, \"ticks\": \"\"}, \"colorscale\": [[0.0, \"#0d0887\"], [0.1111111111111111, \"#46039f\"], [0.2222222222222222, \"#7201a8\"], [0.3333333333333333, \"#9c179e\"], [0.4444444444444444, \"#bd3786\"], [0.5555555555555556, \"#d8576b\"], [0.6666666666666666, \"#ed7953\"], [0.7777777777777778, \"#fb9f3a\"], [0.8888888888888888, \"#fdca26\"], [1.0, \"#f0f921\"]], \"type\": \"heatmap\"}], \"heatmapgl\": [{\"colorbar\": {\"outlinewidth\": 0, \"ticks\": \"\"}, \"colorscale\": [[0.0, \"#0d0887\"], [0.1111111111111111, \"#46039f\"], [0.2222222222222222, \"#7201a8\"], [0.3333333333333333, \"#9c179e\"], [0.4444444444444444, \"#bd3786\"], [0.5555555555555556, \"#d8576b\"], [0.6666666666666666, \"#ed7953\"], [0.7777777777777778, \"#fb9f3a\"], [0.8888888888888888, \"#fdca26\"], [1.0, \"#f0f921\"]], \"type\": \"heatmapgl\"}], \"histogram\": [{\"marker\": {\"colorbar\": {\"outlinewidth\": 0, \"ticks\": \"\"}}, \"type\": \"histogram\"}], \"histogram2d\": [{\"colorbar\": {\"outlinewidth\": 0, \"ticks\": \"\"}, \"colorscale\": [[0.0, \"#0d0887\"], [0.1111111111111111, \"#46039f\"], [0.2222222222222222, \"#7201a8\"], [0.3333333333333333, \"#9c179e\"], [0.4444444444444444, \"#bd3786\"], [0.5555555555555556, \"#d8576b\"], [0.6666666666666666, \"#ed7953\"], [0.7777777777777778, \"#fb9f3a\"], [0.8888888888888888, \"#fdca26\"], [1.0, \"#f0f921\"]], \"type\": \"histogram2d\"}], \"histogram2dcontour\": [{\"colorbar\": {\"outlinewidth\": 0, \"ticks\": \"\"}, \"colorscale\": [[0.0, \"#0d0887\"], [0.1111111111111111, \"#46039f\"], [0.2222222222222222, \"#7201a8\"], [0.3333333333333333, \"#9c179e\"], [0.4444444444444444, \"#bd3786\"], [0.5555555555555556, \"#d8576b\"], [0.6666666666666666, \"#ed7953\"], [0.7777777777777778, \"#fb9f3a\"], [0.8888888888888888, \"#fdca26\"], [1.0, \"#f0f921\"]], \"type\": \"histogram2dcontour\"}], \"mesh3d\": [{\"colorbar\": {\"outlinewidth\": 0, \"ticks\": \"\"}, \"type\": \"mesh3d\"}], \"parcoords\": [{\"line\": {\"colorbar\": {\"outlinewidth\": 0, \"ticks\": \"\"}}, \"type\": \"parcoords\"}], \"pie\": [{\"automargin\": true, \"type\": \"pie\"}], \"scatter\": [{\"marker\": {\"colorbar\": {\"outlinewidth\": 0, \"ticks\": \"\"}}, \"type\": \"scatter\"}], \"scatter3d\": [{\"line\": {\"colorbar\": {\"outlinewidth\": 0, \"ticks\": \"\"}}, \"marker\": {\"colorbar\": {\"outlinewidth\": 0, \"ticks\": \"\"}}, \"type\": \"scatter3d\"}], \"scattercarpet\": [{\"marker\": {\"colorbar\": {\"outlinewidth\": 0, \"ticks\": \"\"}}, \"type\": \"scattercarpet\"}], \"scattergeo\": [{\"marker\": {\"colorbar\": {\"outlinewidth\": 0, \"ticks\": \"\"}}, \"type\": \"scattergeo\"}], \"scattergl\": [{\"marker\": {\"colorbar\": {\"outlinewidth\": 0, \"ticks\": \"\"}}, \"type\": \"scattergl\"}], \"scattermapbox\": [{\"marker\": {\"colorbar\": {\"outlinewidth\": 0, \"ticks\": \"\"}}, \"type\": \"scattermapbox\"}], \"scatterpolar\": [{\"marker\": {\"colorbar\": {\"outlinewidth\": 0, \"ticks\": \"\"}}, \"type\": \"scatterpolar\"}], \"scatterpolargl\": [{\"marker\": {\"colorbar\": {\"outlinewidth\": 0, \"ticks\": \"\"}}, \"type\": \"scatterpolargl\"}], \"scatterternary\": [{\"marker\": {\"colorbar\": {\"outlinewidth\": 0, \"ticks\": \"\"}}, \"type\": \"scatterternary\"}], \"surface\": [{\"colorbar\": {\"outlinewidth\": 0, \"ticks\": \"\"}, \"colorscale\": [[0.0, \"#0d0887\"], [0.1111111111111111, \"#46039f\"], [0.2222222222222222, \"#7201a8\"], [0.3333333333333333, \"#9c179e\"], [0.4444444444444444, \"#bd3786\"], [0.5555555555555556, \"#d8576b\"], [0.6666666666666666, \"#ed7953\"], [0.7777777777777778, \"#fb9f3a\"], [0.8888888888888888, \"#fdca26\"], [1.0, \"#f0f921\"]], \"type\": \"surface\"}], \"table\": [{\"cells\": {\"fill\": {\"color\": \"#EBF0F8\"}, \"line\": {\"color\": \"white\"}}, \"header\": {\"fill\": {\"color\": \"#C8D4E3\"}, \"line\": {\"color\": \"white\"}}, \"type\": \"table\"}]}, \"layout\": {\"annotationdefaults\": {\"arrowcolor\": \"#2a3f5f\", \"arrowhead\": 0, \"arrowwidth\": 1}, \"coloraxis\": {\"colorbar\": {\"outlinewidth\": 0, \"ticks\": \"\"}}, \"colorscale\": {\"diverging\": [[0, \"#8e0152\"], [0.1, \"#c51b7d\"], [0.2, \"#de77ae\"], [0.3, \"#f1b6da\"], [0.4, \"#fde0ef\"], [0.5, \"#f7f7f7\"], [0.6, \"#e6f5d0\"], [0.7, \"#b8e186\"], [0.8, \"#7fbc41\"], [0.9, \"#4d9221\"], [1, \"#276419\"]], \"sequential\": [[0.0, \"#0d0887\"], [0.1111111111111111, \"#46039f\"], [0.2222222222222222, \"#7201a8\"], [0.3333333333333333, \"#9c179e\"], [0.4444444444444444, \"#bd3786\"], [0.5555555555555556, \"#d8576b\"], [0.6666666666666666, \"#ed7953\"], [0.7777777777777778, \"#fb9f3a\"], [0.8888888888888888, \"#fdca26\"], [1.0, \"#f0f921\"]], \"sequentialminus\": [[0.0, \"#0d0887\"], [0.1111111111111111, \"#46039f\"], [0.2222222222222222, \"#7201a8\"], [0.3333333333333333, \"#9c179e\"], [0.4444444444444444, \"#bd3786\"], [0.5555555555555556, \"#d8576b\"], [0.6666666666666666, \"#ed7953\"], [0.7777777777777778, \"#fb9f3a\"], [0.8888888888888888, \"#fdca26\"], [1.0, \"#f0f921\"]]}, \"colorway\": [\"#636efa\", \"#EF553B\", \"#00cc96\", \"#ab63fa\", \"#FFA15A\", \"#19d3f3\", \"#FF6692\", \"#B6E880\", \"#FF97FF\", \"#FECB52\"], \"font\": {\"color\": \"#2a3f5f\"}, \"geo\": {\"bgcolor\": \"white\", \"lakecolor\": \"white\", \"landcolor\": \"#E5ECF6\", \"showlakes\": true, \"showland\": true, \"subunitcolor\": \"white\"}, \"hoverlabel\": {\"align\": \"left\"}, \"hovermode\": \"closest\", \"mapbox\": {\"style\": \"light\"}, \"paper_bgcolor\": \"white\", \"plot_bgcolor\": \"#E5ECF6\", \"polar\": {\"angularaxis\": {\"gridcolor\": \"white\", \"linecolor\": \"white\", \"ticks\": \"\"}, \"bgcolor\": \"#E5ECF6\", \"radialaxis\": {\"gridcolor\": \"white\", \"linecolor\": \"white\", \"ticks\": \"\"}}, \"scene\": {\"xaxis\": {\"backgroundcolor\": \"#E5ECF6\", \"gridcolor\": \"white\", \"gridwidth\": 2, \"linecolor\": \"white\", \"showbackground\": true, \"ticks\": \"\", \"zerolinecolor\": \"white\"}, \"yaxis\": {\"backgroundcolor\": \"#E5ECF6\", \"gridcolor\": \"white\", \"gridwidth\": 2, \"linecolor\": \"white\", \"showbackground\": true, \"ticks\": \"\", \"zerolinecolor\": \"white\"}, \"zaxis\": {\"backgroundcolor\": \"#E5ECF6\", \"gridcolor\": \"white\", \"gridwidth\": 2, \"linecolor\": \"white\", \"showbackground\": true, \"ticks\": \"\", \"zerolinecolor\": \"white\"}}, \"shapedefaults\": {\"line\": {\"color\": \"#2a3f5f\"}}, \"ternary\": {\"aaxis\": {\"gridcolor\": \"white\", \"linecolor\": \"white\", \"ticks\": \"\"}, \"baxis\": {\"gridcolor\": \"white\", \"linecolor\": \"white\", \"ticks\": \"\"}, \"bgcolor\": \"#E5ECF6\", \"caxis\": {\"gridcolor\": \"white\", \"linecolor\": \"white\", \"ticks\": \"\"}}, \"title\": {\"x\": 0.05}, \"xaxis\": {\"automargin\": true, \"gridcolor\": \"white\", \"linecolor\": \"white\", \"ticks\": \"\", \"title\": {\"standoff\": 15}, \"zerolinecolor\": \"white\", \"zerolinewidth\": 2}, \"yaxis\": {\"automargin\": true, \"gridcolor\": \"white\", \"linecolor\": \"white\", \"ticks\": \"\", \"title\": {\"standoff\": 15}, \"zerolinecolor\": \"white\", \"zerolinewidth\": 2}}}, \"title\": {\"text\": \"Students Profile by Grades Group\"}},\n",
       "                        {\"responsive\": true}\n",
       "                    ).then(function(){\n",
       "                            \n",
       "var gd = document.getElementById('3fff9c8d-d39b-45e1-b564-9e04c572d5a3');\n",
       "var x = new MutationObserver(function (mutations, observer) {{\n",
       "        var display = window.getComputedStyle(gd).display;\n",
       "        if (!display || display === 'none') {{\n",
       "            console.log([gd, 'removed!']);\n",
       "            Plotly.purge(gd);\n",
       "            observer.disconnect();\n",
       "        }}\n",
       "}});\n",
       "\n",
       "// Listen for the removal of the full notebook cells\n",
       "var notebookContainer = gd.closest('#notebook-container');\n",
       "if (notebookContainer) {{\n",
       "    x.observe(notebookContainer, {childList: true});\n",
       "}}\n",
       "\n",
       "// Listen for the clearing of the current output cell\n",
       "var outputEl = gd.closest('.output');\n",
       "if (outputEl) {{\n",
       "    x.observe(outputEl, {childList: true});\n",
       "}}\n",
       "\n",
       "                        })\n",
       "                };\n",
       "                });\n",
       "            </script>\n",
       "        </div>"
      ]
     },
     "metadata": {},
     "output_type": "display_data"
    }
   ],
   "source": [
    "import plotly.graph_objects as go\n",
    "\n",
    "# Define categories\n",
    "categories = ['Studytime', 'Absences', 'Failures','Health Status', \n",
    "              'Going out', 'Traveltime','Freetime', \n",
    "              'Quality of Family relationships',\n",
    "              'Workday Alcohol Consumption','Weekend Alcohol Consumption']\n",
    "\n",
    "\n",
    "fig = go.Figure()\n",
    "\n",
    "# First radar chart\n",
    "fig.add_trace(go.Scatterpolar(\n",
    "      r=[np.mean(Q1_spider['studytime']), np.mean(Q1_spider['absences']),\n",
    "         np.mean(Q1_spider['failures']), np.mean(Q1_spider['health']), \n",
    "         np.mean(Q1_spider['goout']), np.mean(Q1_spider['traveltime']),\n",
    "         np.mean(Q1_spider['freetime']), np.mean(Q1_spider['famrel']),\n",
    "         np.mean(Q1_spider['Dalc']),np.mean(Q1_spider['Walc'])],\n",
    "        theta=categories,\n",
    "        fill='toself',\n",
    "        name='G3 below 1st quartile'\n",
    "))\n",
    "\n",
    "#Second radar chart\n",
    "fig.add_trace(go.Scatterpolar(\n",
    "      r=[np.mean(Q3_spider['studytime']), np.mean(Q3_spider['absences']),\n",
    "         np.mean(Q3_spider['failures']), np.mean(Q3_spider['health']), \n",
    "         np.mean(Q3_spider['goout']), np.mean(Q3_spider['traveltime']),\n",
    "         np.mean(Q3_spider['freetime']), np.mean(Q3_spider['famrel']),\n",
    "         np.mean(Q3_spider['Dalc']),np.mean(Q3_spider['Walc'])],\n",
    "        theta=categories,\n",
    "        fill='toself',\n",
    "        name='G3 above 3rd quartile'\n",
    "))\n",
    "\n",
    "\n",
    "fig.update_layout(title='Students Profile by Grades Group',\n",
    "  polar=dict(\n",
    "    radialaxis=dict(\n",
    "      visible=True,\n",
    "      range=[0, 5]\n",
    "    )),\n",
    "  showlegend=True\n",
    ")\n",
    "\n",
    "\n",
    "\n",
    "fig.show()"
   ]
  },
  {
   "cell_type": "markdown",
   "metadata": {},
   "source": [
    "This radar chart is very useful as it enables to see very quickly important features correlated to low or high grades : for example, high grades correspond to a lower level of absence, to a lower level of alcohol consumption, and a lower travaltime and level of going out than low grades."
   ]
  },
  {
   "cell_type": "markdown",
   "metadata": {},
   "source": [
    "### Discretization - Target variable G3\n",
    "\n",
    "We use a five level discretization as suggested in the paper by P. Cortez and A. Silva. Using Data Mining to Predict Secondary School Student Performance"
   ]
  },
  {
   "cell_type": "code",
   "execution_count": 54,
   "metadata": {},
   "outputs": [],
   "source": [
    "df['G3_discret'] = np.where(df['G3']<=9 , \"fail\",\n",
    "                            np.where((9 < df['G3']) & (df['G3'] <=11), \"Sufficient\",\n",
    "                                np.where((11 < df['G3']) & (df['G3'] <=13), \"Satisfactory\", \n",
    "                                    np.where((13 < df['G3']) & (df['G3'] <=15), \"Good\",\n",
    "                                                \"Excellent\"))))\n",
    "\n",
    "df['G2_discret'] = np.where(df['G2']<=9 , \"fail\",\n",
    "                            np.where((9 < df['G2']) & (df['G2'] <=11), \"Sufficient\",\n",
    "                                np.where((11 < df['G2']) & (df['G2'] <=13), \"Satisfactory\", \n",
    "                                    np.where((13 < df['G2']) & (df['G2'] <=15), \"Good\",\n",
    "                                                \"Excellent\"))))\n",
    "df['G1_discret'] = np.where(df['G1']<=9 , \"fail\",\n",
    "                            np.where((9 < df['G1']) & (df['G1'] <=11), \"Sufficient\",\n",
    "                                np.where((11 < df['G1']) & (df['G1'] <=13), \"Satisfactory\", \n",
    "                                    np.where((13 < df['G1']) & (df['G1'] <=15), \"Good\",\n",
    "                                                \"Excellent\"))))"
   ]
  },
  {
   "cell_type": "markdown",
   "metadata": {},
   "source": [
    "**Parallel plot**"
   ]
  },
  {
   "cell_type": "code",
   "execution_count": 48,
   "metadata": {
    "scrolled": false
   },
   "outputs": [
    {
     "data": {
      "application/vnd.plotly.v1+json": {
       "config": {
        "plotlyServerURL": "https://plot.ly"
       },
       "data": [
        {
         "dimensions": [
          {
           "label": "G1",
           "values": [
            0,
            9,
            12,
            14,
            11,
            12,
            13,
            10,
            15,
            12,
            14,
            10,
            12,
            12,
            14,
            17,
            13,
            13,
            8,
            12,
            12,
            11,
            12,
            10,
            10,
            10,
            11,
            11,
            12,
            12,
            10,
            15,
            13,
            13,
            12,
            11,
            14,
            13,
            11,
            14,
            11,
            10,
            14,
            9,
            10,
            10,
            13,
            17,
            11,
            13,
            14,
            16,
            10,
            13,
            13,
            12,
            15,
            15,
            14,
            16,
            17,
            10,
            13,
            14,
            13,
            16,
            11,
            10,
            11,
            15,
            13,
            11,
            13,
            13,
            11,
            11,
            12,
            13,
            9,
            12,
            11,
            10,
            12,
            13,
            13,
            12,
            13,
            15,
            12,
            9,
            9,
            14,
            12,
            13,
            11,
            13,
            9,
            13,
            12,
            12,
            9,
            16,
            12,
            11,
            16,
            10,
            10,
            13,
            12,
            15,
            13,
            11,
            8,
            18,
            10,
            16,
            16,
            14,
            12,
            14,
            14,
            14,
            14,
            12,
            12,
            9,
            10,
            9,
            14,
            13,
            10,
            10,
            11,
            11,
            13,
            15,
            9,
            13,
            12,
            13,
            10,
            14,
            11,
            12,
            12,
            9,
            10,
            13,
            8,
            9,
            9,
            15,
            12,
            13,
            10,
            9,
            12,
            11,
            11,
            13,
            11,
            9,
            12,
            11,
            9,
            13,
            11,
            13,
            7,
            9,
            11,
            12,
            10,
            9,
            8,
            7,
            8,
            9,
            8,
            8,
            9,
            17,
            12,
            16,
            9,
            16,
            11,
            14,
            14,
            10,
            13,
            11,
            10,
            11,
            11,
            11,
            17,
            14,
            14,
            11,
            10,
            13,
            12,
            9,
            12,
            12,
            10,
            11,
            13,
            14,
            13,
            10,
            14,
            11,
            14,
            11,
            14,
            13,
            13,
            8,
            11,
            14,
            12,
            11,
            12,
            13,
            13,
            12,
            12,
            14,
            11,
            10,
            12,
            12,
            11,
            12,
            13,
            10,
            15,
            8,
            17,
            10,
            9,
            15,
            14,
            12,
            13,
            13,
            9,
            12,
            16,
            9,
            14,
            10,
            9,
            8,
            7,
            10,
            14,
            11,
            12,
            13,
            9,
            8,
            11,
            15,
            15,
            15,
            12,
            14,
            14,
            11,
            13,
            11,
            10,
            12,
            15,
            11,
            9,
            7,
            10,
            11,
            7,
            9,
            7,
            14,
            12,
            9,
            12,
            14,
            10,
            11,
            11,
            11,
            11,
            11,
            16,
            9,
            10,
            10,
            15,
            10,
            10,
            15,
            11,
            8,
            15,
            11,
            10,
            10,
            8,
            11,
            16,
            13,
            16,
            14,
            15,
            12,
            12,
            11,
            14,
            13,
            9,
            10,
            10,
            11,
            13,
            17,
            12,
            12,
            12,
            12,
            18,
            13,
            14,
            17,
            15,
            17,
            18,
            14,
            14,
            14,
            13,
            16,
            18,
            14,
            12,
            7,
            16,
            18,
            9,
            14,
            10,
            10,
            12,
            11,
            15,
            14,
            12,
            15,
            11,
            11,
            12,
            11,
            14,
            15,
            12,
            11,
            8,
            10,
            8,
            10,
            14,
            11,
            17,
            14,
            14,
            13,
            17,
            11,
            13,
            15,
            11,
            11,
            11,
            10,
            15,
            15,
            10,
            10,
            14,
            11,
            12,
            14,
            14,
            12,
            16,
            10,
            11,
            14,
            15,
            14,
            11,
            12,
            12,
            10,
            10,
            9,
            9,
            13,
            13,
            12,
            14,
            9,
            11,
            9,
            16,
            14,
            13,
            7,
            14,
            8,
            10,
            10,
            12,
            10,
            10,
            16,
            6,
            10,
            10,
            10,
            6,
            13,
            10,
            10,
            6,
            12,
            10,
            14,
            7,
            8,
            12,
            7,
            9,
            7,
            11,
            8,
            16,
            11,
            15,
            10,
            9,
            10,
            9,
            9,
            13,
            10,
            13,
            10,
            11,
            13,
            13,
            14,
            11,
            9,
            10,
            14,
            13,
            13,
            13,
            12,
            14,
            10,
            10,
            12,
            10,
            12,
            7,
            9,
            9,
            9,
            9,
            9,
            7,
            11,
            9,
            7,
            7,
            8,
            9,
            7,
            8,
            9,
            8,
            14,
            14,
            10,
            14,
            17,
            6,
            14,
            10,
            14,
            12,
            11,
            11,
            11,
            10,
            16,
            15,
            11,
            7,
            8,
            7,
            9,
            14,
            14,
            8,
            8,
            6,
            8,
            8,
            5,
            7,
            15,
            13,
            10,
            9,
            11,
            7,
            10,
            9,
            14,
            11,
            9,
            13,
            12,
            11,
            9,
            9,
            11,
            10,
            9,
            12,
            8,
            13,
            10,
            11,
            17,
            12,
            13,
            9,
            11,
            10,
            13,
            9,
            7,
            8,
            12,
            10,
            10,
            11,
            7,
            11,
            10,
            9,
            4,
            6,
            4,
            7,
            8,
            5,
            7,
            8,
            10,
            9,
            10,
            8,
            9,
            8,
            6,
            6,
            8,
            10,
            8,
            8,
            7,
            8,
            7,
            7,
            12,
            11,
            12,
            18,
            17,
            17,
            9,
            10,
            12,
            12,
            8,
            11,
            5,
            9,
            5,
            18,
            11,
            8,
            11,
            8,
            14,
            10,
            10,
            12,
            15,
            14,
            19,
            16,
            13,
            15,
            13,
            8,
            15,
            8,
            10,
            7,
            9,
            10,
            7,
            15,
            10,
            7,
            13,
            16,
            8,
            17,
            7,
            14,
            5,
            7,
            14,
            6,
            7,
            10,
            15,
            11,
            10,
            10
           ]
          },
          {
           "label": "G2",
           "values": [
            11,
            11,
            13,
            14,
            13,
            12,
            12,
            13,
            16,
            12,
            14,
            12,
            13,
            12,
            14,
            17,
            13,
            14,
            8,
            12,
            13,
            12,
            13,
            10,
            11,
            11,
            12,
            11,
            12,
            11,
            11,
            15,
            14,
            12,
            12,
            11,
            14,
            13,
            12,
            13,
            11,
            11,
            15,
            10,
            11,
            11,
            12,
            17,
            12,
            12,
            13,
            14,
            9,
            12,
            12,
            13,
            14,
            15,
            13,
            15,
            16,
            10,
            13,
            13,
            12,
            15,
            12,
            9,
            10,
            15,
            11,
            9,
            11,
            13,
            11,
            11,
            11,
            13,
            9,
            11,
            11,
            9,
            11,
            12,
            12,
            11,
            11,
            15,
            10,
            9,
            11,
            13,
            13,
            14,
            12,
            13,
            11,
            12,
            13,
            13,
            9,
            16,
            13,
            10,
            16,
            10,
            10,
            14,
            10,
            15,
            14,
            11,
            10,
            17,
            9,
            14,
            15,
            14,
            11,
            13,
            14,
            13,
            12,
            13,
            11,
            9,
            11,
            10,
            14,
            12,
            11,
            9,
            10,
            12,
            12,
            13,
            9,
            11,
            11,
            14,
            9,
            13,
            11,
            11,
            11,
            9,
            10,
            14,
            9,
            11,
            8,
            13,
            11,
            13,
            11,
            7,
            12,
            10,
            11,
            12,
            11,
            9,
            11,
            9,
            10,
            13,
            9,
            13,
            8,
            8,
            10,
            10,
            10,
            8,
            8,
            6,
            9,
            8,
            8,
            7,
            10,
            17,
            12,
            16,
            9,
            17,
            9,
            13,
            14,
            11,
            12,
            9,
            9,
            11,
            10,
            12,
            18,
            13,
            15,
            13,
            9,
            14,
            13,
            9,
            12,
            11,
            11,
            10,
            12,
            15,
            13,
            11,
            15,
            10,
            14,
            12,
            15,
            13,
            13,
            9,
            11,
            15,
            13,
            12,
            12,
            12,
            13,
            11,
            11,
            16,
            9,
            10,
            13,
            12,
            10,
            12,
            13,
            9,
            16,
            8,
            18,
            11,
            10,
            15,
            12,
            13,
            13,
            13,
            9,
            12,
            16,
            10,
            13,
            10,
            8,
            7,
            8,
            8,
            14,
            10,
            11,
            13,
            9,
            7,
            9,
            14,
            14,
            15,
            12,
            14,
            15,
            11,
            14,
            11,
            9,
            10,
            16,
            10,
            12,
            8,
            9,
            12,
            8,
            11,
            8,
            13,
            12,
            10,
            12,
            15,
            10,
            10,
            12,
            12,
            11,
            13,
            16,
            10,
            11,
            12,
            15,
            10,
            11,
            12,
            12,
            8,
            16,
            11,
            11,
            12,
            9,
            12,
            16,
            13,
            17,
            14,
            16,
            12,
            9,
            12,
            12,
            15,
            8,
            10,
            10,
            11,
            13,
            17,
            13,
            12,
            13,
            12,
            18,
            13,
            15,
            17,
            16,
            18,
            19,
            15,
            15,
            13,
            14,
            17,
            18,
            15,
            13,
            7,
            16,
            18,
            10,
            15,
            10,
            10,
            12,
            12,
            16,
            15,
            12,
            15,
            12,
            10,
            11,
            12,
            15,
            14,
            12,
            12,
            9,
            10,
            8,
            10,
            13,
            11,
            18,
            14,
            14,
            14,
            18,
            10,
            12,
            14,
            12,
            11,
            10,
            9,
            15,
            14,
            11,
            9,
            13,
            13,
            13,
            14,
            14,
            12,
            16,
            12,
            12,
            16,
            14,
            13,
            12,
            15,
            16,
            11,
            13,
            12,
            11,
            14,
            17,
            15,
            17,
            10,
            15,
            10,
            18,
            17,
            14,
            11,
            17,
            10,
            13,
            11,
            12,
            10,
            10,
            17,
            8,
            11,
            11,
            10,
            6,
            14,
            9,
            10,
            7,
            11,
            11,
            16,
            0,
            9,
            13,
            9,
            10,
            9,
            11,
            10,
            16,
            13,
            15,
            11,
            10,
            8,
            8,
            10,
            14,
            11,
            10,
            9,
            10,
            12,
            14,
            11,
            11,
            8,
            9,
            13,
            12,
            12,
            12,
            11,
            14,
            8,
            11,
            13,
            8,
            10,
            7,
            9,
            9,
            10,
            10,
            10,
            7,
            10,
            10,
            9,
            9,
            9,
            11,
            8,
            10,
            9,
            9,
            13,
            14,
            11,
            13,
            16,
            7,
            12,
            8,
            14,
            13,
            11,
            9,
            11,
            9,
            17,
            17,
            9,
            7,
            6,
            6,
            8,
            16,
            14,
            5,
            7,
            8,
            10,
            8,
            6,
            9,
            14,
            14,
            9,
            9,
            11,
            10,
            10,
            7,
            15,
            12,
            11,
            14,
            13,
            11,
            10,
            11,
            9,
            11,
            9,
            11,
            9,
            15,
            11,
            10,
            18,
            13,
            14,
            9,
            11,
            11,
            14,
            10,
            9,
            13,
            12,
            9,
            9,
            13,
            0,
            9,
            10,
            7,
            0,
            11,
            8,
            8,
            9,
            5,
            9,
            11,
            11,
            10,
            9,
            9,
            10,
            9,
            8,
            8,
            6,
            11,
            7,
            8,
            6,
            10,
            10,
            8,
            13,
            12,
            13,
            18,
            17,
            18,
            0,
            11,
            13,
            13,
            8,
            12,
            0,
            10,
            0,
            18,
            11,
            10,
            11,
            0,
            14,
            11,
            10,
            12,
            14,
            13,
            17,
            15,
            12,
            14,
            13,
            10,
            16,
            8,
            10,
            5,
            10,
            11,
            8,
            17,
            11,
            8,
            14,
            16,
            9,
            18,
            7,
            15,
            8,
            7,
            17,
            9,
            9,
            11,
            15,
            12,
            10,
            11
           ]
          },
          {
           "label": "G3",
           "values": [
            11,
            11,
            12,
            14,
            13,
            13,
            13,
            13,
            17,
            13,
            14,
            13,
            12,
            13,
            15,
            17,
            14,
            14,
            7,
            12,
            14,
            12,
            14,
            10,
            10,
            12,
            12,
            11,
            13,
            12,
            11,
            15,
            15,
            12,
            12,
            11,
            14,
            13,
            12,
            12,
            10,
            11,
            15,
            10,
            11,
            11,
            13,
            17,
            13,
            12,
            13,
            16,
            9,
            12,
            13,
            12,
            15,
            16,
            14,
            16,
            16,
            16,
            10,
            13,
            12,
            16,
            12,
            10,
            11,
            15,
            11,
            10,
            11,
            14,
            11,
            11,
            11,
            13,
            10,
            11,
            12,
            9,
            11,
            13,
            12,
            12,
            11,
            15,
            11,
            10,
            11,
            13,
            12,
            14,
            12,
            13,
            11,
            12,
            13,
            13,
            8,
            16,
            12,
            10,
            16,
            10,
            10,
            14,
            11,
            14,
            14,
            11,
            10,
            18,
            10,
            14,
            16,
            15,
            11,
            14,
            14,
            13,
            13,
            13,
            11,
            9,
            11,
            11,
            15,
            13,
            12,
            8,
            11,
            13,
            12,
            14,
            11,
            11,
            11,
            15,
            10,
            13,
            12,
            11,
            11,
            10,
            10,
            14,
            9,
            11,
            9,
            13,
            11,
            13,
            11,
            6,
            12,
            10,
            11,
            13,
            11,
            8,
            11,
            0,
            10,
            13,
            11,
            13,
            8,
            10,
            11,
            11,
            1,
            10,
            9,
            8,
            10,
            8,
            8,
            8,
            11,
            18,
            13,
            17,
            10,
            18,
            10,
            13,
            15,
            11,
            14,
            10,
            11,
            13,
            11,
            13,
            17,
            14,
            16,
            14,
            11,
            16,
            14,
            10,
            13,
            12,
            12,
            10,
            12,
            16,
            14,
            12,
            16,
            11,
            15,
            12,
            15,
            13,
            13,
            8,
            12,
            15,
            13,
            12,
            12,
            12,
            13,
            11,
            11,
            15,
            10,
            10,
            13,
            13,
            11,
            12,
            14,
            10,
            16,
            8,
            17,
            11,
            11,
            16,
            12,
            13,
            13,
            14,
            9,
            12,
            16,
            10,
            13,
            10,
            10,
            7,
            8,
            9,
            15,
            10,
            11,
            13,
            8,
            8,
            10,
            15,
            14,
            15,
            12,
            15,
            15,
            12,
            15,
            11,
            10,
            11,
            16,
            11,
            13,
            5,
            10,
            11,
            7,
            10,
            6,
            12,
            13,
            10,
            13,
            17,
            11,
            11,
            14,
            14,
            13,
            14,
            16,
            10,
            12,
            12,
            15,
            11,
            12,
            13,
            13,
            9,
            16,
            14,
            12,
            14,
            10,
            12,
            16,
            13,
            18,
            15,
            16,
            12,
            10,
            12,
            13,
            15,
            10,
            10,
            11,
            10,
            13,
            18,
            13,
            14,
            14,
            12,
            18,
            14,
            15,
            17,
            16,
            18,
            19,
            15,
            15,
            13,
            14,
            17,
            17,
            15,
            13,
            8,
            16,
            18,
            11,
            15,
            11,
            11,
            15,
            14,
            17,
            17,
            15,
            17,
            14,
            10,
            13,
            14,
            17,
            17,
            13,
            14,
            11,
            11,
            9,
            10,
            13,
            10,
            17,
            15,
            14,
            13,
            17,
            10,
            13,
            15,
            11,
            12,
            10,
            10,
            15,
            15,
            12,
            12,
            14,
            14,
            15,
            15,
            16,
            13,
            17,
            14,
            14,
            17,
            17,
            14,
            13,
            15,
            16,
            11,
            13,
            12,
            12,
            15,
            17,
            15,
            17,
            10,
            15,
            11,
            18,
            17,
            14,
            11,
            17,
            10,
            13,
            11,
            12,
            10,
            11,
            17,
            9,
            11,
            11,
            10,
            7,
            14,
            11,
            10,
            8,
            12,
            12,
            16,
            0,
            9,
            14,
            8,
            11,
            9,
            11,
            9,
            17,
            13,
            15,
            11,
            11,
            8,
            8,
            9,
            15,
            11,
            13,
            10,
            11,
            14,
            14,
            12,
            11,
            8,
            11,
            14,
            13,
            13,
            12,
            12,
            16,
            10,
            11,
            14,
            8,
            11,
            8,
            10,
            10,
            11,
            9,
            11,
            8,
            11,
            10,
            10,
            9,
            10,
            10,
            9,
            10,
            10,
            9,
            13,
            14,
            10,
            14,
            16,
            7,
            13,
            9,
            14,
            13,
            11,
            10,
            10,
            9,
            18,
            17,
            10,
            7,
            8,
            7,
            10,
            16,
            15,
            8,
            0,
            8,
            10,
            8,
            6,
            8,
            16,
            14,
            10,
            9,
            11,
            9,
            10,
            8,
            16,
            12,
            10,
            14,
            12,
            11,
            10,
            11,
            11,
            12,
            8,
            12,
            8,
            16,
            11,
            11,
            18,
            13,
            13,
            10,
            12,
            10,
            13,
            11,
            10,
            10,
            13,
            10,
            10,
            12,
            0,
            10,
            9,
            9,
            0,
            9,
            8,
            8,
            9,
            7,
            10,
            10,
            10,
            11,
            11,
            10,
            9,
            10,
            8,
            7,
            0,
            11,
            8,
            0,
            8,
            9,
            10,
            7,
            14,
            13,
            14,
            18,
            17,
            18,
            0,
            11,
            14,
            14,
            10,
            13,
            0,
            10,
            0,
            18,
            12,
            11,
            12,
            0,
            15,
            11,
            10,
            12,
            15,
            14,
            18,
            15,
            13,
            15,
            13,
            9,
            16,
            9,
            10,
            0,
            10,
            12,
            9,
            17,
            12,
            9,
            14,
            16,
            9,
            19,
            0,
            16,
            0,
            0,
            15,
            11,
            10,
            10,
            16,
            9,
            10,
            11
           ]
          }
         ],
         "domain": {
          "x": [
           0,
           1
          ],
          "y": [
           0,
           1
          ]
         },
         "line": {
          "color": [
           11,
           11,
           12,
           14,
           13,
           13,
           13,
           13,
           17,
           13,
           14,
           13,
           12,
           13,
           15,
           17,
           14,
           14,
           7,
           12,
           14,
           12,
           14,
           10,
           10,
           12,
           12,
           11,
           13,
           12,
           11,
           15,
           15,
           12,
           12,
           11,
           14,
           13,
           12,
           12,
           10,
           11,
           15,
           10,
           11,
           11,
           13,
           17,
           13,
           12,
           13,
           16,
           9,
           12,
           13,
           12,
           15,
           16,
           14,
           16,
           16,
           16,
           10,
           13,
           12,
           16,
           12,
           10,
           11,
           15,
           11,
           10,
           11,
           14,
           11,
           11,
           11,
           13,
           10,
           11,
           12,
           9,
           11,
           13,
           12,
           12,
           11,
           15,
           11,
           10,
           11,
           13,
           12,
           14,
           12,
           13,
           11,
           12,
           13,
           13,
           8,
           16,
           12,
           10,
           16,
           10,
           10,
           14,
           11,
           14,
           14,
           11,
           10,
           18,
           10,
           14,
           16,
           15,
           11,
           14,
           14,
           13,
           13,
           13,
           11,
           9,
           11,
           11,
           15,
           13,
           12,
           8,
           11,
           13,
           12,
           14,
           11,
           11,
           11,
           15,
           10,
           13,
           12,
           11,
           11,
           10,
           10,
           14,
           9,
           11,
           9,
           13,
           11,
           13,
           11,
           6,
           12,
           10,
           11,
           13,
           11,
           8,
           11,
           0,
           10,
           13,
           11,
           13,
           8,
           10,
           11,
           11,
           1,
           10,
           9,
           8,
           10,
           8,
           8,
           8,
           11,
           18,
           13,
           17,
           10,
           18,
           10,
           13,
           15,
           11,
           14,
           10,
           11,
           13,
           11,
           13,
           17,
           14,
           16,
           14,
           11,
           16,
           14,
           10,
           13,
           12,
           12,
           10,
           12,
           16,
           14,
           12,
           16,
           11,
           15,
           12,
           15,
           13,
           13,
           8,
           12,
           15,
           13,
           12,
           12,
           12,
           13,
           11,
           11,
           15,
           10,
           10,
           13,
           13,
           11,
           12,
           14,
           10,
           16,
           8,
           17,
           11,
           11,
           16,
           12,
           13,
           13,
           14,
           9,
           12,
           16,
           10,
           13,
           10,
           10,
           7,
           8,
           9,
           15,
           10,
           11,
           13,
           8,
           8,
           10,
           15,
           14,
           15,
           12,
           15,
           15,
           12,
           15,
           11,
           10,
           11,
           16,
           11,
           13,
           5,
           10,
           11,
           7,
           10,
           6,
           12,
           13,
           10,
           13,
           17,
           11,
           11,
           14,
           14,
           13,
           14,
           16,
           10,
           12,
           12,
           15,
           11,
           12,
           13,
           13,
           9,
           16,
           14,
           12,
           14,
           10,
           12,
           16,
           13,
           18,
           15,
           16,
           12,
           10,
           12,
           13,
           15,
           10,
           10,
           11,
           10,
           13,
           18,
           13,
           14,
           14,
           12,
           18,
           14,
           15,
           17,
           16,
           18,
           19,
           15,
           15,
           13,
           14,
           17,
           17,
           15,
           13,
           8,
           16,
           18,
           11,
           15,
           11,
           11,
           15,
           14,
           17,
           17,
           15,
           17,
           14,
           10,
           13,
           14,
           17,
           17,
           13,
           14,
           11,
           11,
           9,
           10,
           13,
           10,
           17,
           15,
           14,
           13,
           17,
           10,
           13,
           15,
           11,
           12,
           10,
           10,
           15,
           15,
           12,
           12,
           14,
           14,
           15,
           15,
           16,
           13,
           17,
           14,
           14,
           17,
           17,
           14,
           13,
           15,
           16,
           11,
           13,
           12,
           12,
           15,
           17,
           15,
           17,
           10,
           15,
           11,
           18,
           17,
           14,
           11,
           17,
           10,
           13,
           11,
           12,
           10,
           11,
           17,
           9,
           11,
           11,
           10,
           7,
           14,
           11,
           10,
           8,
           12,
           12,
           16,
           0,
           9,
           14,
           8,
           11,
           9,
           11,
           9,
           17,
           13,
           15,
           11,
           11,
           8,
           8,
           9,
           15,
           11,
           13,
           10,
           11,
           14,
           14,
           12,
           11,
           8,
           11,
           14,
           13,
           13,
           12,
           12,
           16,
           10,
           11,
           14,
           8,
           11,
           8,
           10,
           10,
           11,
           9,
           11,
           8,
           11,
           10,
           10,
           9,
           10,
           10,
           9,
           10,
           10,
           9,
           13,
           14,
           10,
           14,
           16,
           7,
           13,
           9,
           14,
           13,
           11,
           10,
           10,
           9,
           18,
           17,
           10,
           7,
           8,
           7,
           10,
           16,
           15,
           8,
           0,
           8,
           10,
           8,
           6,
           8,
           16,
           14,
           10,
           9,
           11,
           9,
           10,
           8,
           16,
           12,
           10,
           14,
           12,
           11,
           10,
           11,
           11,
           12,
           8,
           12,
           8,
           16,
           11,
           11,
           18,
           13,
           13,
           10,
           12,
           10,
           13,
           11,
           10,
           10,
           13,
           10,
           10,
           12,
           0,
           10,
           9,
           9,
           0,
           9,
           8,
           8,
           9,
           7,
           10,
           10,
           10,
           11,
           11,
           10,
           9,
           10,
           8,
           7,
           0,
           11,
           8,
           0,
           8,
           9,
           10,
           7,
           14,
           13,
           14,
           18,
           17,
           18,
           0,
           11,
           14,
           14,
           10,
           13,
           0,
           10,
           0,
           18,
           12,
           11,
           12,
           0,
           15,
           11,
           10,
           12,
           15,
           14,
           18,
           15,
           13,
           15,
           13,
           9,
           16,
           9,
           10,
           0,
           10,
           12,
           9,
           17,
           12,
           9,
           14,
           16,
           9,
           19,
           0,
           16,
           0,
           0,
           15,
           11,
           10,
           10,
           16,
           9,
           10,
           11
          ],
          "coloraxis": "coloraxis"
         },
         "name": "",
         "type": "parcoords"
        }
       ],
       "layout": {
        "coloraxis": {
         "cmid": 10,
         "colorbar": {
          "title": {
           "text": "G3"
          }
         },
         "colorscale": [
          [
           0,
           "rgb(0, 147, 146)"
          ],
          [
           0.16666666666666666,
           "rgb(114, 170, 161)"
          ],
          [
           0.3333333333333333,
           "rgb(177, 199, 179)"
          ],
          [
           0.5,
           "rgb(241, 234, 200)"
          ],
          [
           0.6666666666666666,
           "rgb(229, 185, 173)"
          ],
          [
           0.8333333333333334,
           "rgb(217, 137, 148)"
          ],
          [
           1,
           "rgb(208, 88, 126)"
          ]
         ]
        },
        "height": 600,
        "legend": {
         "tracegroupgap": 0
        },
        "template": {
         "data": {
          "bar": [
           {
            "error_x": {
             "color": "#2a3f5f"
            },
            "error_y": {
             "color": "#2a3f5f"
            },
            "marker": {
             "line": {
              "color": "#E5ECF6",
              "width": 0.5
             }
            },
            "type": "bar"
           }
          ],
          "barpolar": [
           {
            "marker": {
             "line": {
              "color": "#E5ECF6",
              "width": 0.5
             }
            },
            "type": "barpolar"
           }
          ],
          "carpet": [
           {
            "aaxis": {
             "endlinecolor": "#2a3f5f",
             "gridcolor": "white",
             "linecolor": "white",
             "minorgridcolor": "white",
             "startlinecolor": "#2a3f5f"
            },
            "baxis": {
             "endlinecolor": "#2a3f5f",
             "gridcolor": "white",
             "linecolor": "white",
             "minorgridcolor": "white",
             "startlinecolor": "#2a3f5f"
            },
            "type": "carpet"
           }
          ],
          "choropleth": [
           {
            "colorbar": {
             "outlinewidth": 0,
             "ticks": ""
            },
            "type": "choropleth"
           }
          ],
          "contour": [
           {
            "colorbar": {
             "outlinewidth": 0,
             "ticks": ""
            },
            "colorscale": [
             [
              0,
              "#0d0887"
             ],
             [
              0.1111111111111111,
              "#46039f"
             ],
             [
              0.2222222222222222,
              "#7201a8"
             ],
             [
              0.3333333333333333,
              "#9c179e"
             ],
             [
              0.4444444444444444,
              "#bd3786"
             ],
             [
              0.5555555555555556,
              "#d8576b"
             ],
             [
              0.6666666666666666,
              "#ed7953"
             ],
             [
              0.7777777777777778,
              "#fb9f3a"
             ],
             [
              0.8888888888888888,
              "#fdca26"
             ],
             [
              1,
              "#f0f921"
             ]
            ],
            "type": "contour"
           }
          ],
          "contourcarpet": [
           {
            "colorbar": {
             "outlinewidth": 0,
             "ticks": ""
            },
            "type": "contourcarpet"
           }
          ],
          "heatmap": [
           {
            "colorbar": {
             "outlinewidth": 0,
             "ticks": ""
            },
            "colorscale": [
             [
              0,
              "#0d0887"
             ],
             [
              0.1111111111111111,
              "#46039f"
             ],
             [
              0.2222222222222222,
              "#7201a8"
             ],
             [
              0.3333333333333333,
              "#9c179e"
             ],
             [
              0.4444444444444444,
              "#bd3786"
             ],
             [
              0.5555555555555556,
              "#d8576b"
             ],
             [
              0.6666666666666666,
              "#ed7953"
             ],
             [
              0.7777777777777778,
              "#fb9f3a"
             ],
             [
              0.8888888888888888,
              "#fdca26"
             ],
             [
              1,
              "#f0f921"
             ]
            ],
            "type": "heatmap"
           }
          ],
          "heatmapgl": [
           {
            "colorbar": {
             "outlinewidth": 0,
             "ticks": ""
            },
            "colorscale": [
             [
              0,
              "#0d0887"
             ],
             [
              0.1111111111111111,
              "#46039f"
             ],
             [
              0.2222222222222222,
              "#7201a8"
             ],
             [
              0.3333333333333333,
              "#9c179e"
             ],
             [
              0.4444444444444444,
              "#bd3786"
             ],
             [
              0.5555555555555556,
              "#d8576b"
             ],
             [
              0.6666666666666666,
              "#ed7953"
             ],
             [
              0.7777777777777778,
              "#fb9f3a"
             ],
             [
              0.8888888888888888,
              "#fdca26"
             ],
             [
              1,
              "#f0f921"
             ]
            ],
            "type": "heatmapgl"
           }
          ],
          "histogram": [
           {
            "marker": {
             "colorbar": {
              "outlinewidth": 0,
              "ticks": ""
             }
            },
            "type": "histogram"
           }
          ],
          "histogram2d": [
           {
            "colorbar": {
             "outlinewidth": 0,
             "ticks": ""
            },
            "colorscale": [
             [
              0,
              "#0d0887"
             ],
             [
              0.1111111111111111,
              "#46039f"
             ],
             [
              0.2222222222222222,
              "#7201a8"
             ],
             [
              0.3333333333333333,
              "#9c179e"
             ],
             [
              0.4444444444444444,
              "#bd3786"
             ],
             [
              0.5555555555555556,
              "#d8576b"
             ],
             [
              0.6666666666666666,
              "#ed7953"
             ],
             [
              0.7777777777777778,
              "#fb9f3a"
             ],
             [
              0.8888888888888888,
              "#fdca26"
             ],
             [
              1,
              "#f0f921"
             ]
            ],
            "type": "histogram2d"
           }
          ],
          "histogram2dcontour": [
           {
            "colorbar": {
             "outlinewidth": 0,
             "ticks": ""
            },
            "colorscale": [
             [
              0,
              "#0d0887"
             ],
             [
              0.1111111111111111,
              "#46039f"
             ],
             [
              0.2222222222222222,
              "#7201a8"
             ],
             [
              0.3333333333333333,
              "#9c179e"
             ],
             [
              0.4444444444444444,
              "#bd3786"
             ],
             [
              0.5555555555555556,
              "#d8576b"
             ],
             [
              0.6666666666666666,
              "#ed7953"
             ],
             [
              0.7777777777777778,
              "#fb9f3a"
             ],
             [
              0.8888888888888888,
              "#fdca26"
             ],
             [
              1,
              "#f0f921"
             ]
            ],
            "type": "histogram2dcontour"
           }
          ],
          "mesh3d": [
           {
            "colorbar": {
             "outlinewidth": 0,
             "ticks": ""
            },
            "type": "mesh3d"
           }
          ],
          "parcoords": [
           {
            "line": {
             "colorbar": {
              "outlinewidth": 0,
              "ticks": ""
             }
            },
            "type": "parcoords"
           }
          ],
          "pie": [
           {
            "automargin": true,
            "type": "pie"
           }
          ],
          "scatter": [
           {
            "marker": {
             "colorbar": {
              "outlinewidth": 0,
              "ticks": ""
             }
            },
            "type": "scatter"
           }
          ],
          "scatter3d": [
           {
            "line": {
             "colorbar": {
              "outlinewidth": 0,
              "ticks": ""
             }
            },
            "marker": {
             "colorbar": {
              "outlinewidth": 0,
              "ticks": ""
             }
            },
            "type": "scatter3d"
           }
          ],
          "scattercarpet": [
           {
            "marker": {
             "colorbar": {
              "outlinewidth": 0,
              "ticks": ""
             }
            },
            "type": "scattercarpet"
           }
          ],
          "scattergeo": [
           {
            "marker": {
             "colorbar": {
              "outlinewidth": 0,
              "ticks": ""
             }
            },
            "type": "scattergeo"
           }
          ],
          "scattergl": [
           {
            "marker": {
             "colorbar": {
              "outlinewidth": 0,
              "ticks": ""
             }
            },
            "type": "scattergl"
           }
          ],
          "scattermapbox": [
           {
            "marker": {
             "colorbar": {
              "outlinewidth": 0,
              "ticks": ""
             }
            },
            "type": "scattermapbox"
           }
          ],
          "scatterpolar": [
           {
            "marker": {
             "colorbar": {
              "outlinewidth": 0,
              "ticks": ""
             }
            },
            "type": "scatterpolar"
           }
          ],
          "scatterpolargl": [
           {
            "marker": {
             "colorbar": {
              "outlinewidth": 0,
              "ticks": ""
             }
            },
            "type": "scatterpolargl"
           }
          ],
          "scatterternary": [
           {
            "marker": {
             "colorbar": {
              "outlinewidth": 0,
              "ticks": ""
             }
            },
            "type": "scatterternary"
           }
          ],
          "surface": [
           {
            "colorbar": {
             "outlinewidth": 0,
             "ticks": ""
            },
            "colorscale": [
             [
              0,
              "#0d0887"
             ],
             [
              0.1111111111111111,
              "#46039f"
             ],
             [
              0.2222222222222222,
              "#7201a8"
             ],
             [
              0.3333333333333333,
              "#9c179e"
             ],
             [
              0.4444444444444444,
              "#bd3786"
             ],
             [
              0.5555555555555556,
              "#d8576b"
             ],
             [
              0.6666666666666666,
              "#ed7953"
             ],
             [
              0.7777777777777778,
              "#fb9f3a"
             ],
             [
              0.8888888888888888,
              "#fdca26"
             ],
             [
              1,
              "#f0f921"
             ]
            ],
            "type": "surface"
           }
          ],
          "table": [
           {
            "cells": {
             "fill": {
              "color": "#EBF0F8"
             },
             "line": {
              "color": "white"
             }
            },
            "header": {
             "fill": {
              "color": "#C8D4E3"
             },
             "line": {
              "color": "white"
             }
            },
            "type": "table"
           }
          ]
         },
         "layout": {
          "annotationdefaults": {
           "arrowcolor": "#2a3f5f",
           "arrowhead": 0,
           "arrowwidth": 1
          },
          "coloraxis": {
           "colorbar": {
            "outlinewidth": 0,
            "ticks": ""
           }
          },
          "colorscale": {
           "diverging": [
            [
             0,
             "#8e0152"
            ],
            [
             0.1,
             "#c51b7d"
            ],
            [
             0.2,
             "#de77ae"
            ],
            [
             0.3,
             "#f1b6da"
            ],
            [
             0.4,
             "#fde0ef"
            ],
            [
             0.5,
             "#f7f7f7"
            ],
            [
             0.6,
             "#e6f5d0"
            ],
            [
             0.7,
             "#b8e186"
            ],
            [
             0.8,
             "#7fbc41"
            ],
            [
             0.9,
             "#4d9221"
            ],
            [
             1,
             "#276419"
            ]
           ],
           "sequential": [
            [
             0,
             "#0d0887"
            ],
            [
             0.1111111111111111,
             "#46039f"
            ],
            [
             0.2222222222222222,
             "#7201a8"
            ],
            [
             0.3333333333333333,
             "#9c179e"
            ],
            [
             0.4444444444444444,
             "#bd3786"
            ],
            [
             0.5555555555555556,
             "#d8576b"
            ],
            [
             0.6666666666666666,
             "#ed7953"
            ],
            [
             0.7777777777777778,
             "#fb9f3a"
            ],
            [
             0.8888888888888888,
             "#fdca26"
            ],
            [
             1,
             "#f0f921"
            ]
           ],
           "sequentialminus": [
            [
             0,
             "#0d0887"
            ],
            [
             0.1111111111111111,
             "#46039f"
            ],
            [
             0.2222222222222222,
             "#7201a8"
            ],
            [
             0.3333333333333333,
             "#9c179e"
            ],
            [
             0.4444444444444444,
             "#bd3786"
            ],
            [
             0.5555555555555556,
             "#d8576b"
            ],
            [
             0.6666666666666666,
             "#ed7953"
            ],
            [
             0.7777777777777778,
             "#fb9f3a"
            ],
            [
             0.8888888888888888,
             "#fdca26"
            ],
            [
             1,
             "#f0f921"
            ]
           ]
          },
          "colorway": [
           "#636efa",
           "#EF553B",
           "#00cc96",
           "#ab63fa",
           "#FFA15A",
           "#19d3f3",
           "#FF6692",
           "#B6E880",
           "#FF97FF",
           "#FECB52"
          ],
          "font": {
           "color": "#2a3f5f"
          },
          "geo": {
           "bgcolor": "white",
           "lakecolor": "white",
           "landcolor": "#E5ECF6",
           "showlakes": true,
           "showland": true,
           "subunitcolor": "white"
          },
          "hoverlabel": {
           "align": "left"
          },
          "hovermode": "closest",
          "mapbox": {
           "style": "light"
          },
          "paper_bgcolor": "white",
          "plot_bgcolor": "#E5ECF6",
          "polar": {
           "angularaxis": {
            "gridcolor": "white",
            "linecolor": "white",
            "ticks": ""
           },
           "bgcolor": "#E5ECF6",
           "radialaxis": {
            "gridcolor": "white",
            "linecolor": "white",
            "ticks": ""
           }
          },
          "scene": {
           "xaxis": {
            "backgroundcolor": "#E5ECF6",
            "gridcolor": "white",
            "gridwidth": 2,
            "linecolor": "white",
            "showbackground": true,
            "ticks": "",
            "zerolinecolor": "white"
           },
           "yaxis": {
            "backgroundcolor": "#E5ECF6",
            "gridcolor": "white",
            "gridwidth": 2,
            "linecolor": "white",
            "showbackground": true,
            "ticks": "",
            "zerolinecolor": "white"
           },
           "zaxis": {
            "backgroundcolor": "#E5ECF6",
            "gridcolor": "white",
            "gridwidth": 2,
            "linecolor": "white",
            "showbackground": true,
            "ticks": "",
            "zerolinecolor": "white"
           }
          },
          "shapedefaults": {
           "line": {
            "color": "#2a3f5f"
           }
          },
          "ternary": {
           "aaxis": {
            "gridcolor": "white",
            "linecolor": "white",
            "ticks": ""
           },
           "baxis": {
            "gridcolor": "white",
            "linecolor": "white",
            "ticks": ""
           },
           "bgcolor": "#E5ECF6",
           "caxis": {
            "gridcolor": "white",
            "linecolor": "white",
            "ticks": ""
           }
          },
          "title": {
           "x": 0.05
          },
          "xaxis": {
           "automargin": true,
           "gridcolor": "white",
           "linecolor": "white",
           "ticks": "",
           "title": {
            "standoff": 15
           },
           "zerolinecolor": "white",
           "zerolinewidth": 2
          },
          "yaxis": {
           "automargin": true,
           "gridcolor": "white",
           "linecolor": "white",
           "ticks": "",
           "title": {
            "standoff": 15
           },
           "zerolinecolor": "white",
           "zerolinewidth": 2
          }
         }
        },
        "title": {
         "text": "Evolution of grades"
        }
       }
      },
      "text/html": [
       "<div>\n",
       "        \n",
       "        \n",
       "            <div id=\"e62a9fb5-a989-491c-b0c2-e3838c97d9b9\" class=\"plotly-graph-div\" style=\"height:600px; width:100%;\"></div>\n",
       "            <script type=\"text/javascript\">\n",
       "                require([\"plotly\"], function(Plotly) {\n",
       "                    window.PLOTLYENV=window.PLOTLYENV || {};\n",
       "                    \n",
       "                if (document.getElementById(\"e62a9fb5-a989-491c-b0c2-e3838c97d9b9\")) {\n",
       "                    Plotly.newPlot(\n",
       "                        'e62a9fb5-a989-491c-b0c2-e3838c97d9b9',\n",
       "                        [{\"dimensions\": [{\"label\": \"G1\", \"values\": [0, 9, 12, 14, 11, 12, 13, 10, 15, 12, 14, 10, 12, 12, 14, 17, 13, 13, 8, 12, 12, 11, 12, 10, 10, 10, 11, 11, 12, 12, 10, 15, 13, 13, 12, 11, 14, 13, 11, 14, 11, 10, 14, 9, 10, 10, 13, 17, 11, 13, 14, 16, 10, 13, 13, 12, 15, 15, 14, 16, 17, 10, 13, 14, 13, 16, 11, 10, 11, 15, 13, 11, 13, 13, 11, 11, 12, 13, 9, 12, 11, 10, 12, 13, 13, 12, 13, 15, 12, 9, 9, 14, 12, 13, 11, 13, 9, 13, 12, 12, 9, 16, 12, 11, 16, 10, 10, 13, 12, 15, 13, 11, 8, 18, 10, 16, 16, 14, 12, 14, 14, 14, 14, 12, 12, 9, 10, 9, 14, 13, 10, 10, 11, 11, 13, 15, 9, 13, 12, 13, 10, 14, 11, 12, 12, 9, 10, 13, 8, 9, 9, 15, 12, 13, 10, 9, 12, 11, 11, 13, 11, 9, 12, 11, 9, 13, 11, 13, 7, 9, 11, 12, 10, 9, 8, 7, 8, 9, 8, 8, 9, 17, 12, 16, 9, 16, 11, 14, 14, 10, 13, 11, 10, 11, 11, 11, 17, 14, 14, 11, 10, 13, 12, 9, 12, 12, 10, 11, 13, 14, 13, 10, 14, 11, 14, 11, 14, 13, 13, 8, 11, 14, 12, 11, 12, 13, 13, 12, 12, 14, 11, 10, 12, 12, 11, 12, 13, 10, 15, 8, 17, 10, 9, 15, 14, 12, 13, 13, 9, 12, 16, 9, 14, 10, 9, 8, 7, 10, 14, 11, 12, 13, 9, 8, 11, 15, 15, 15, 12, 14, 14, 11, 13, 11, 10, 12, 15, 11, 9, 7, 10, 11, 7, 9, 7, 14, 12, 9, 12, 14, 10, 11, 11, 11, 11, 11, 16, 9, 10, 10, 15, 10, 10, 15, 11, 8, 15, 11, 10, 10, 8, 11, 16, 13, 16, 14, 15, 12, 12, 11, 14, 13, 9, 10, 10, 11, 13, 17, 12, 12, 12, 12, 18, 13, 14, 17, 15, 17, 18, 14, 14, 14, 13, 16, 18, 14, 12, 7, 16, 18, 9, 14, 10, 10, 12, 11, 15, 14, 12, 15, 11, 11, 12, 11, 14, 15, 12, 11, 8, 10, 8, 10, 14, 11, 17, 14, 14, 13, 17, 11, 13, 15, 11, 11, 11, 10, 15, 15, 10, 10, 14, 11, 12, 14, 14, 12, 16, 10, 11, 14, 15, 14, 11, 12, 12, 10, 10, 9, 9, 13, 13, 12, 14, 9, 11, 9, 16, 14, 13, 7, 14, 8, 10, 10, 12, 10, 10, 16, 6, 10, 10, 10, 6, 13, 10, 10, 6, 12, 10, 14, 7, 8, 12, 7, 9, 7, 11, 8, 16, 11, 15, 10, 9, 10, 9, 9, 13, 10, 13, 10, 11, 13, 13, 14, 11, 9, 10, 14, 13, 13, 13, 12, 14, 10, 10, 12, 10, 12, 7, 9, 9, 9, 9, 9, 7, 11, 9, 7, 7, 8, 9, 7, 8, 9, 8, 14, 14, 10, 14, 17, 6, 14, 10, 14, 12, 11, 11, 11, 10, 16, 15, 11, 7, 8, 7, 9, 14, 14, 8, 8, 6, 8, 8, 5, 7, 15, 13, 10, 9, 11, 7, 10, 9, 14, 11, 9, 13, 12, 11, 9, 9, 11, 10, 9, 12, 8, 13, 10, 11, 17, 12, 13, 9, 11, 10, 13, 9, 7, 8, 12, 10, 10, 11, 7, 11, 10, 9, 4, 6, 4, 7, 8, 5, 7, 8, 10, 9, 10, 8, 9, 8, 6, 6, 8, 10, 8, 8, 7, 8, 7, 7, 12, 11, 12, 18, 17, 17, 9, 10, 12, 12, 8, 11, 5, 9, 5, 18, 11, 8, 11, 8, 14, 10, 10, 12, 15, 14, 19, 16, 13, 15, 13, 8, 15, 8, 10, 7, 9, 10, 7, 15, 10, 7, 13, 16, 8, 17, 7, 14, 5, 7, 14, 6, 7, 10, 15, 11, 10, 10]}, {\"label\": \"G2\", \"values\": [11, 11, 13, 14, 13, 12, 12, 13, 16, 12, 14, 12, 13, 12, 14, 17, 13, 14, 8, 12, 13, 12, 13, 10, 11, 11, 12, 11, 12, 11, 11, 15, 14, 12, 12, 11, 14, 13, 12, 13, 11, 11, 15, 10, 11, 11, 12, 17, 12, 12, 13, 14, 9, 12, 12, 13, 14, 15, 13, 15, 16, 10, 13, 13, 12, 15, 12, 9, 10, 15, 11, 9, 11, 13, 11, 11, 11, 13, 9, 11, 11, 9, 11, 12, 12, 11, 11, 15, 10, 9, 11, 13, 13, 14, 12, 13, 11, 12, 13, 13, 9, 16, 13, 10, 16, 10, 10, 14, 10, 15, 14, 11, 10, 17, 9, 14, 15, 14, 11, 13, 14, 13, 12, 13, 11, 9, 11, 10, 14, 12, 11, 9, 10, 12, 12, 13, 9, 11, 11, 14, 9, 13, 11, 11, 11, 9, 10, 14, 9, 11, 8, 13, 11, 13, 11, 7, 12, 10, 11, 12, 11, 9, 11, 9, 10, 13, 9, 13, 8, 8, 10, 10, 10, 8, 8, 6, 9, 8, 8, 7, 10, 17, 12, 16, 9, 17, 9, 13, 14, 11, 12, 9, 9, 11, 10, 12, 18, 13, 15, 13, 9, 14, 13, 9, 12, 11, 11, 10, 12, 15, 13, 11, 15, 10, 14, 12, 15, 13, 13, 9, 11, 15, 13, 12, 12, 12, 13, 11, 11, 16, 9, 10, 13, 12, 10, 12, 13, 9, 16, 8, 18, 11, 10, 15, 12, 13, 13, 13, 9, 12, 16, 10, 13, 10, 8, 7, 8, 8, 14, 10, 11, 13, 9, 7, 9, 14, 14, 15, 12, 14, 15, 11, 14, 11, 9, 10, 16, 10, 12, 8, 9, 12, 8, 11, 8, 13, 12, 10, 12, 15, 10, 10, 12, 12, 11, 13, 16, 10, 11, 12, 15, 10, 11, 12, 12, 8, 16, 11, 11, 12, 9, 12, 16, 13, 17, 14, 16, 12, 9, 12, 12, 15, 8, 10, 10, 11, 13, 17, 13, 12, 13, 12, 18, 13, 15, 17, 16, 18, 19, 15, 15, 13, 14, 17, 18, 15, 13, 7, 16, 18, 10, 15, 10, 10, 12, 12, 16, 15, 12, 15, 12, 10, 11, 12, 15, 14, 12, 12, 9, 10, 8, 10, 13, 11, 18, 14, 14, 14, 18, 10, 12, 14, 12, 11, 10, 9, 15, 14, 11, 9, 13, 13, 13, 14, 14, 12, 16, 12, 12, 16, 14, 13, 12, 15, 16, 11, 13, 12, 11, 14, 17, 15, 17, 10, 15, 10, 18, 17, 14, 11, 17, 10, 13, 11, 12, 10, 10, 17, 8, 11, 11, 10, 6, 14, 9, 10, 7, 11, 11, 16, 0, 9, 13, 9, 10, 9, 11, 10, 16, 13, 15, 11, 10, 8, 8, 10, 14, 11, 10, 9, 10, 12, 14, 11, 11, 8, 9, 13, 12, 12, 12, 11, 14, 8, 11, 13, 8, 10, 7, 9, 9, 10, 10, 10, 7, 10, 10, 9, 9, 9, 11, 8, 10, 9, 9, 13, 14, 11, 13, 16, 7, 12, 8, 14, 13, 11, 9, 11, 9, 17, 17, 9, 7, 6, 6, 8, 16, 14, 5, 7, 8, 10, 8, 6, 9, 14, 14, 9, 9, 11, 10, 10, 7, 15, 12, 11, 14, 13, 11, 10, 11, 9, 11, 9, 11, 9, 15, 11, 10, 18, 13, 14, 9, 11, 11, 14, 10, 9, 13, 12, 9, 9, 13, 0, 9, 10, 7, 0, 11, 8, 8, 9, 5, 9, 11, 11, 10, 9, 9, 10, 9, 8, 8, 6, 11, 7, 8, 6, 10, 10, 8, 13, 12, 13, 18, 17, 18, 0, 11, 13, 13, 8, 12, 0, 10, 0, 18, 11, 10, 11, 0, 14, 11, 10, 12, 14, 13, 17, 15, 12, 14, 13, 10, 16, 8, 10, 5, 10, 11, 8, 17, 11, 8, 14, 16, 9, 18, 7, 15, 8, 7, 17, 9, 9, 11, 15, 12, 10, 11]}, {\"label\": \"G3\", \"values\": [11, 11, 12, 14, 13, 13, 13, 13, 17, 13, 14, 13, 12, 13, 15, 17, 14, 14, 7, 12, 14, 12, 14, 10, 10, 12, 12, 11, 13, 12, 11, 15, 15, 12, 12, 11, 14, 13, 12, 12, 10, 11, 15, 10, 11, 11, 13, 17, 13, 12, 13, 16, 9, 12, 13, 12, 15, 16, 14, 16, 16, 16, 10, 13, 12, 16, 12, 10, 11, 15, 11, 10, 11, 14, 11, 11, 11, 13, 10, 11, 12, 9, 11, 13, 12, 12, 11, 15, 11, 10, 11, 13, 12, 14, 12, 13, 11, 12, 13, 13, 8, 16, 12, 10, 16, 10, 10, 14, 11, 14, 14, 11, 10, 18, 10, 14, 16, 15, 11, 14, 14, 13, 13, 13, 11, 9, 11, 11, 15, 13, 12, 8, 11, 13, 12, 14, 11, 11, 11, 15, 10, 13, 12, 11, 11, 10, 10, 14, 9, 11, 9, 13, 11, 13, 11, 6, 12, 10, 11, 13, 11, 8, 11, 0, 10, 13, 11, 13, 8, 10, 11, 11, 1, 10, 9, 8, 10, 8, 8, 8, 11, 18, 13, 17, 10, 18, 10, 13, 15, 11, 14, 10, 11, 13, 11, 13, 17, 14, 16, 14, 11, 16, 14, 10, 13, 12, 12, 10, 12, 16, 14, 12, 16, 11, 15, 12, 15, 13, 13, 8, 12, 15, 13, 12, 12, 12, 13, 11, 11, 15, 10, 10, 13, 13, 11, 12, 14, 10, 16, 8, 17, 11, 11, 16, 12, 13, 13, 14, 9, 12, 16, 10, 13, 10, 10, 7, 8, 9, 15, 10, 11, 13, 8, 8, 10, 15, 14, 15, 12, 15, 15, 12, 15, 11, 10, 11, 16, 11, 13, 5, 10, 11, 7, 10, 6, 12, 13, 10, 13, 17, 11, 11, 14, 14, 13, 14, 16, 10, 12, 12, 15, 11, 12, 13, 13, 9, 16, 14, 12, 14, 10, 12, 16, 13, 18, 15, 16, 12, 10, 12, 13, 15, 10, 10, 11, 10, 13, 18, 13, 14, 14, 12, 18, 14, 15, 17, 16, 18, 19, 15, 15, 13, 14, 17, 17, 15, 13, 8, 16, 18, 11, 15, 11, 11, 15, 14, 17, 17, 15, 17, 14, 10, 13, 14, 17, 17, 13, 14, 11, 11, 9, 10, 13, 10, 17, 15, 14, 13, 17, 10, 13, 15, 11, 12, 10, 10, 15, 15, 12, 12, 14, 14, 15, 15, 16, 13, 17, 14, 14, 17, 17, 14, 13, 15, 16, 11, 13, 12, 12, 15, 17, 15, 17, 10, 15, 11, 18, 17, 14, 11, 17, 10, 13, 11, 12, 10, 11, 17, 9, 11, 11, 10, 7, 14, 11, 10, 8, 12, 12, 16, 0, 9, 14, 8, 11, 9, 11, 9, 17, 13, 15, 11, 11, 8, 8, 9, 15, 11, 13, 10, 11, 14, 14, 12, 11, 8, 11, 14, 13, 13, 12, 12, 16, 10, 11, 14, 8, 11, 8, 10, 10, 11, 9, 11, 8, 11, 10, 10, 9, 10, 10, 9, 10, 10, 9, 13, 14, 10, 14, 16, 7, 13, 9, 14, 13, 11, 10, 10, 9, 18, 17, 10, 7, 8, 7, 10, 16, 15, 8, 0, 8, 10, 8, 6, 8, 16, 14, 10, 9, 11, 9, 10, 8, 16, 12, 10, 14, 12, 11, 10, 11, 11, 12, 8, 12, 8, 16, 11, 11, 18, 13, 13, 10, 12, 10, 13, 11, 10, 10, 13, 10, 10, 12, 0, 10, 9, 9, 0, 9, 8, 8, 9, 7, 10, 10, 10, 11, 11, 10, 9, 10, 8, 7, 0, 11, 8, 0, 8, 9, 10, 7, 14, 13, 14, 18, 17, 18, 0, 11, 14, 14, 10, 13, 0, 10, 0, 18, 12, 11, 12, 0, 15, 11, 10, 12, 15, 14, 18, 15, 13, 15, 13, 9, 16, 9, 10, 0, 10, 12, 9, 17, 12, 9, 14, 16, 9, 19, 0, 16, 0, 0, 15, 11, 10, 10, 16, 9, 10, 11]}], \"domain\": {\"x\": [0.0, 1.0], \"y\": [0.0, 1.0]}, \"line\": {\"color\": [11, 11, 12, 14, 13, 13, 13, 13, 17, 13, 14, 13, 12, 13, 15, 17, 14, 14, 7, 12, 14, 12, 14, 10, 10, 12, 12, 11, 13, 12, 11, 15, 15, 12, 12, 11, 14, 13, 12, 12, 10, 11, 15, 10, 11, 11, 13, 17, 13, 12, 13, 16, 9, 12, 13, 12, 15, 16, 14, 16, 16, 16, 10, 13, 12, 16, 12, 10, 11, 15, 11, 10, 11, 14, 11, 11, 11, 13, 10, 11, 12, 9, 11, 13, 12, 12, 11, 15, 11, 10, 11, 13, 12, 14, 12, 13, 11, 12, 13, 13, 8, 16, 12, 10, 16, 10, 10, 14, 11, 14, 14, 11, 10, 18, 10, 14, 16, 15, 11, 14, 14, 13, 13, 13, 11, 9, 11, 11, 15, 13, 12, 8, 11, 13, 12, 14, 11, 11, 11, 15, 10, 13, 12, 11, 11, 10, 10, 14, 9, 11, 9, 13, 11, 13, 11, 6, 12, 10, 11, 13, 11, 8, 11, 0, 10, 13, 11, 13, 8, 10, 11, 11, 1, 10, 9, 8, 10, 8, 8, 8, 11, 18, 13, 17, 10, 18, 10, 13, 15, 11, 14, 10, 11, 13, 11, 13, 17, 14, 16, 14, 11, 16, 14, 10, 13, 12, 12, 10, 12, 16, 14, 12, 16, 11, 15, 12, 15, 13, 13, 8, 12, 15, 13, 12, 12, 12, 13, 11, 11, 15, 10, 10, 13, 13, 11, 12, 14, 10, 16, 8, 17, 11, 11, 16, 12, 13, 13, 14, 9, 12, 16, 10, 13, 10, 10, 7, 8, 9, 15, 10, 11, 13, 8, 8, 10, 15, 14, 15, 12, 15, 15, 12, 15, 11, 10, 11, 16, 11, 13, 5, 10, 11, 7, 10, 6, 12, 13, 10, 13, 17, 11, 11, 14, 14, 13, 14, 16, 10, 12, 12, 15, 11, 12, 13, 13, 9, 16, 14, 12, 14, 10, 12, 16, 13, 18, 15, 16, 12, 10, 12, 13, 15, 10, 10, 11, 10, 13, 18, 13, 14, 14, 12, 18, 14, 15, 17, 16, 18, 19, 15, 15, 13, 14, 17, 17, 15, 13, 8, 16, 18, 11, 15, 11, 11, 15, 14, 17, 17, 15, 17, 14, 10, 13, 14, 17, 17, 13, 14, 11, 11, 9, 10, 13, 10, 17, 15, 14, 13, 17, 10, 13, 15, 11, 12, 10, 10, 15, 15, 12, 12, 14, 14, 15, 15, 16, 13, 17, 14, 14, 17, 17, 14, 13, 15, 16, 11, 13, 12, 12, 15, 17, 15, 17, 10, 15, 11, 18, 17, 14, 11, 17, 10, 13, 11, 12, 10, 11, 17, 9, 11, 11, 10, 7, 14, 11, 10, 8, 12, 12, 16, 0, 9, 14, 8, 11, 9, 11, 9, 17, 13, 15, 11, 11, 8, 8, 9, 15, 11, 13, 10, 11, 14, 14, 12, 11, 8, 11, 14, 13, 13, 12, 12, 16, 10, 11, 14, 8, 11, 8, 10, 10, 11, 9, 11, 8, 11, 10, 10, 9, 10, 10, 9, 10, 10, 9, 13, 14, 10, 14, 16, 7, 13, 9, 14, 13, 11, 10, 10, 9, 18, 17, 10, 7, 8, 7, 10, 16, 15, 8, 0, 8, 10, 8, 6, 8, 16, 14, 10, 9, 11, 9, 10, 8, 16, 12, 10, 14, 12, 11, 10, 11, 11, 12, 8, 12, 8, 16, 11, 11, 18, 13, 13, 10, 12, 10, 13, 11, 10, 10, 13, 10, 10, 12, 0, 10, 9, 9, 0, 9, 8, 8, 9, 7, 10, 10, 10, 11, 11, 10, 9, 10, 8, 7, 0, 11, 8, 0, 8, 9, 10, 7, 14, 13, 14, 18, 17, 18, 0, 11, 14, 14, 10, 13, 0, 10, 0, 18, 12, 11, 12, 0, 15, 11, 10, 12, 15, 14, 18, 15, 13, 15, 13, 9, 16, 9, 10, 0, 10, 12, 9, 17, 12, 9, 14, 16, 9, 19, 0, 16, 0, 0, 15, 11, 10, 10, 16, 9, 10, 11], \"coloraxis\": \"coloraxis\"}, \"name\": \"\", \"type\": \"parcoords\"}],\n",
       "                        {\"coloraxis\": {\"cmid\": 10, \"colorbar\": {\"title\": {\"text\": \"G3\"}}, \"colorscale\": [[0.0, \"rgb(0, 147, 146)\"], [0.16666666666666666, \"rgb(114, 170, 161)\"], [0.3333333333333333, \"rgb(177, 199, 179)\"], [0.5, \"rgb(241, 234, 200)\"], [0.6666666666666666, \"rgb(229, 185, 173)\"], [0.8333333333333334, \"rgb(217, 137, 148)\"], [1.0, \"rgb(208, 88, 126)\"]]}, \"height\": 600, \"legend\": {\"tracegroupgap\": 0}, \"template\": {\"data\": {\"bar\": [{\"error_x\": {\"color\": \"#2a3f5f\"}, \"error_y\": {\"color\": \"#2a3f5f\"}, \"marker\": {\"line\": {\"color\": \"#E5ECF6\", \"width\": 0.5}}, \"type\": \"bar\"}], \"barpolar\": [{\"marker\": {\"line\": {\"color\": \"#E5ECF6\", \"width\": 0.5}}, \"type\": \"barpolar\"}], \"carpet\": [{\"aaxis\": {\"endlinecolor\": \"#2a3f5f\", \"gridcolor\": \"white\", \"linecolor\": \"white\", \"minorgridcolor\": \"white\", \"startlinecolor\": \"#2a3f5f\"}, \"baxis\": {\"endlinecolor\": \"#2a3f5f\", \"gridcolor\": \"white\", \"linecolor\": \"white\", \"minorgridcolor\": \"white\", \"startlinecolor\": \"#2a3f5f\"}, \"type\": \"carpet\"}], \"choropleth\": [{\"colorbar\": {\"outlinewidth\": 0, \"ticks\": \"\"}, \"type\": \"choropleth\"}], \"contour\": [{\"colorbar\": {\"outlinewidth\": 0, \"ticks\": \"\"}, \"colorscale\": [[0.0, \"#0d0887\"], [0.1111111111111111, \"#46039f\"], [0.2222222222222222, \"#7201a8\"], [0.3333333333333333, \"#9c179e\"], [0.4444444444444444, \"#bd3786\"], [0.5555555555555556, \"#d8576b\"], [0.6666666666666666, \"#ed7953\"], [0.7777777777777778, \"#fb9f3a\"], [0.8888888888888888, \"#fdca26\"], [1.0, \"#f0f921\"]], \"type\": \"contour\"}], \"contourcarpet\": [{\"colorbar\": {\"outlinewidth\": 0, \"ticks\": \"\"}, \"type\": \"contourcarpet\"}], \"heatmap\": [{\"colorbar\": {\"outlinewidth\": 0, \"ticks\": \"\"}, \"colorscale\": [[0.0, \"#0d0887\"], [0.1111111111111111, \"#46039f\"], [0.2222222222222222, \"#7201a8\"], [0.3333333333333333, \"#9c179e\"], [0.4444444444444444, \"#bd3786\"], [0.5555555555555556, \"#d8576b\"], [0.6666666666666666, \"#ed7953\"], [0.7777777777777778, \"#fb9f3a\"], [0.8888888888888888, \"#fdca26\"], [1.0, \"#f0f921\"]], \"type\": \"heatmap\"}], \"heatmapgl\": [{\"colorbar\": {\"outlinewidth\": 0, \"ticks\": \"\"}, \"colorscale\": [[0.0, \"#0d0887\"], [0.1111111111111111, \"#46039f\"], [0.2222222222222222, \"#7201a8\"], [0.3333333333333333, \"#9c179e\"], [0.4444444444444444, \"#bd3786\"], [0.5555555555555556, \"#d8576b\"], [0.6666666666666666, \"#ed7953\"], [0.7777777777777778, \"#fb9f3a\"], [0.8888888888888888, \"#fdca26\"], [1.0, \"#f0f921\"]], \"type\": \"heatmapgl\"}], \"histogram\": [{\"marker\": {\"colorbar\": {\"outlinewidth\": 0, \"ticks\": \"\"}}, \"type\": \"histogram\"}], \"histogram2d\": [{\"colorbar\": {\"outlinewidth\": 0, \"ticks\": \"\"}, \"colorscale\": [[0.0, \"#0d0887\"], [0.1111111111111111, \"#46039f\"], [0.2222222222222222, \"#7201a8\"], [0.3333333333333333, \"#9c179e\"], [0.4444444444444444, \"#bd3786\"], [0.5555555555555556, \"#d8576b\"], [0.6666666666666666, \"#ed7953\"], [0.7777777777777778, \"#fb9f3a\"], [0.8888888888888888, \"#fdca26\"], [1.0, \"#f0f921\"]], \"type\": \"histogram2d\"}], \"histogram2dcontour\": [{\"colorbar\": {\"outlinewidth\": 0, \"ticks\": \"\"}, \"colorscale\": [[0.0, \"#0d0887\"], [0.1111111111111111, \"#46039f\"], [0.2222222222222222, \"#7201a8\"], [0.3333333333333333, \"#9c179e\"], [0.4444444444444444, \"#bd3786\"], [0.5555555555555556, \"#d8576b\"], [0.6666666666666666, \"#ed7953\"], [0.7777777777777778, \"#fb9f3a\"], [0.8888888888888888, \"#fdca26\"], [1.0, \"#f0f921\"]], \"type\": \"histogram2dcontour\"}], \"mesh3d\": [{\"colorbar\": {\"outlinewidth\": 0, \"ticks\": \"\"}, \"type\": \"mesh3d\"}], \"parcoords\": [{\"line\": {\"colorbar\": {\"outlinewidth\": 0, \"ticks\": \"\"}}, \"type\": \"parcoords\"}], \"pie\": [{\"automargin\": true, \"type\": \"pie\"}], \"scatter\": [{\"marker\": {\"colorbar\": {\"outlinewidth\": 0, \"ticks\": \"\"}}, \"type\": \"scatter\"}], \"scatter3d\": [{\"line\": {\"colorbar\": {\"outlinewidth\": 0, \"ticks\": \"\"}}, \"marker\": {\"colorbar\": {\"outlinewidth\": 0, \"ticks\": \"\"}}, \"type\": \"scatter3d\"}], \"scattercarpet\": [{\"marker\": {\"colorbar\": {\"outlinewidth\": 0, \"ticks\": \"\"}}, \"type\": \"scattercarpet\"}], \"scattergeo\": [{\"marker\": {\"colorbar\": {\"outlinewidth\": 0, \"ticks\": \"\"}}, \"type\": \"scattergeo\"}], \"scattergl\": [{\"marker\": {\"colorbar\": {\"outlinewidth\": 0, \"ticks\": \"\"}}, \"type\": \"scattergl\"}], \"scattermapbox\": [{\"marker\": {\"colorbar\": {\"outlinewidth\": 0, \"ticks\": \"\"}}, \"type\": \"scattermapbox\"}], \"scatterpolar\": [{\"marker\": {\"colorbar\": {\"outlinewidth\": 0, \"ticks\": \"\"}}, \"type\": \"scatterpolar\"}], \"scatterpolargl\": [{\"marker\": {\"colorbar\": {\"outlinewidth\": 0, \"ticks\": \"\"}}, \"type\": \"scatterpolargl\"}], \"scatterternary\": [{\"marker\": {\"colorbar\": {\"outlinewidth\": 0, \"ticks\": \"\"}}, \"type\": \"scatterternary\"}], \"surface\": [{\"colorbar\": {\"outlinewidth\": 0, \"ticks\": \"\"}, \"colorscale\": [[0.0, \"#0d0887\"], [0.1111111111111111, \"#46039f\"], [0.2222222222222222, \"#7201a8\"], [0.3333333333333333, \"#9c179e\"], [0.4444444444444444, \"#bd3786\"], [0.5555555555555556, \"#d8576b\"], [0.6666666666666666, \"#ed7953\"], [0.7777777777777778, \"#fb9f3a\"], [0.8888888888888888, \"#fdca26\"], [1.0, \"#f0f921\"]], \"type\": \"surface\"}], \"table\": [{\"cells\": {\"fill\": {\"color\": \"#EBF0F8\"}, \"line\": {\"color\": \"white\"}}, \"header\": {\"fill\": {\"color\": \"#C8D4E3\"}, \"line\": {\"color\": \"white\"}}, \"type\": \"table\"}]}, \"layout\": {\"annotationdefaults\": {\"arrowcolor\": \"#2a3f5f\", \"arrowhead\": 0, \"arrowwidth\": 1}, \"coloraxis\": {\"colorbar\": {\"outlinewidth\": 0, \"ticks\": \"\"}}, \"colorscale\": {\"diverging\": [[0, \"#8e0152\"], [0.1, \"#c51b7d\"], [0.2, \"#de77ae\"], [0.3, \"#f1b6da\"], [0.4, \"#fde0ef\"], [0.5, \"#f7f7f7\"], [0.6, \"#e6f5d0\"], [0.7, \"#b8e186\"], [0.8, \"#7fbc41\"], [0.9, \"#4d9221\"], [1, \"#276419\"]], \"sequential\": [[0.0, \"#0d0887\"], [0.1111111111111111, \"#46039f\"], [0.2222222222222222, \"#7201a8\"], [0.3333333333333333, \"#9c179e\"], [0.4444444444444444, \"#bd3786\"], [0.5555555555555556, \"#d8576b\"], [0.6666666666666666, \"#ed7953\"], [0.7777777777777778, \"#fb9f3a\"], [0.8888888888888888, \"#fdca26\"], [1.0, \"#f0f921\"]], \"sequentialminus\": [[0.0, \"#0d0887\"], [0.1111111111111111, \"#46039f\"], [0.2222222222222222, \"#7201a8\"], [0.3333333333333333, \"#9c179e\"], [0.4444444444444444, \"#bd3786\"], [0.5555555555555556, \"#d8576b\"], [0.6666666666666666, \"#ed7953\"], [0.7777777777777778, \"#fb9f3a\"], [0.8888888888888888, \"#fdca26\"], [1.0, \"#f0f921\"]]}, \"colorway\": [\"#636efa\", \"#EF553B\", \"#00cc96\", \"#ab63fa\", \"#FFA15A\", \"#19d3f3\", \"#FF6692\", \"#B6E880\", \"#FF97FF\", \"#FECB52\"], \"font\": {\"color\": \"#2a3f5f\"}, \"geo\": {\"bgcolor\": \"white\", \"lakecolor\": \"white\", \"landcolor\": \"#E5ECF6\", \"showlakes\": true, \"showland\": true, \"subunitcolor\": \"white\"}, \"hoverlabel\": {\"align\": \"left\"}, \"hovermode\": \"closest\", \"mapbox\": {\"style\": \"light\"}, \"paper_bgcolor\": \"white\", \"plot_bgcolor\": \"#E5ECF6\", \"polar\": {\"angularaxis\": {\"gridcolor\": \"white\", \"linecolor\": \"white\", \"ticks\": \"\"}, \"bgcolor\": \"#E5ECF6\", \"radialaxis\": {\"gridcolor\": \"white\", \"linecolor\": \"white\", \"ticks\": \"\"}}, \"scene\": {\"xaxis\": {\"backgroundcolor\": \"#E5ECF6\", \"gridcolor\": \"white\", \"gridwidth\": 2, \"linecolor\": \"white\", \"showbackground\": true, \"ticks\": \"\", \"zerolinecolor\": \"white\"}, \"yaxis\": {\"backgroundcolor\": \"#E5ECF6\", \"gridcolor\": \"white\", \"gridwidth\": 2, \"linecolor\": \"white\", \"showbackground\": true, \"ticks\": \"\", \"zerolinecolor\": \"white\"}, \"zaxis\": {\"backgroundcolor\": \"#E5ECF6\", \"gridcolor\": \"white\", \"gridwidth\": 2, \"linecolor\": \"white\", \"showbackground\": true, \"ticks\": \"\", \"zerolinecolor\": \"white\"}}, \"shapedefaults\": {\"line\": {\"color\": \"#2a3f5f\"}}, \"ternary\": {\"aaxis\": {\"gridcolor\": \"white\", \"linecolor\": \"white\", \"ticks\": \"\"}, \"baxis\": {\"gridcolor\": \"white\", \"linecolor\": \"white\", \"ticks\": \"\"}, \"bgcolor\": \"#E5ECF6\", \"caxis\": {\"gridcolor\": \"white\", \"linecolor\": \"white\", \"ticks\": \"\"}}, \"title\": {\"x\": 0.05}, \"xaxis\": {\"automargin\": true, \"gridcolor\": \"white\", \"linecolor\": \"white\", \"ticks\": \"\", \"title\": {\"standoff\": 15}, \"zerolinecolor\": \"white\", \"zerolinewidth\": 2}, \"yaxis\": {\"automargin\": true, \"gridcolor\": \"white\", \"linecolor\": \"white\", \"ticks\": \"\", \"title\": {\"standoff\": 15}, \"zerolinecolor\": \"white\", \"zerolinewidth\": 2}}}, \"title\": {\"text\": \"Evolution of grades\"}},\n",
       "                        {\"responsive\": true}\n",
       "                    ).then(function(){\n",
       "                            \n",
       "var gd = document.getElementById('e62a9fb5-a989-491c-b0c2-e3838c97d9b9');\n",
       "var x = new MutationObserver(function (mutations, observer) {{\n",
       "        var display = window.getComputedStyle(gd).display;\n",
       "        if (!display || display === 'none') {{\n",
       "            console.log([gd, 'removed!']);\n",
       "            Plotly.purge(gd);\n",
       "            observer.disconnect();\n",
       "        }}\n",
       "}});\n",
       "\n",
       "// Listen for the removal of the full notebook cells\n",
       "var notebookContainer = gd.closest('#notebook-container');\n",
       "if (notebookContainer) {{\n",
       "    x.observe(notebookContainer, {childList: true});\n",
       "}}\n",
       "\n",
       "// Listen for the clearing of the current output cell\n",
       "var outputEl = gd.closest('.output');\n",
       "if (outputEl) {{\n",
       "    x.observe(outputEl, {childList: true});\n",
       "}}\n",
       "\n",
       "                        })\n",
       "                };\n",
       "                });\n",
       "            </script>\n",
       "        </div>"
      ]
     },
     "metadata": {},
     "output_type": "display_data"
    }
   ],
   "source": [
    "fig = px.parallel_coordinates(df[['G1', 'G2','G3']],\n",
    "                                labels= {\"G1\": \"G1\", \"G2\": \"G2\",\"G3\": \"G3\"}, color=\"G3\",\n",
    "                                color_continuous_scale=px.colors.diverging.Tealrose,\n",
    "                                color_continuous_midpoint=10,\n",
    "                                title ='Evolution of grades')\n",
    "fig.show()"
   ]
  },
  {
   "cell_type": "markdown",
   "metadata": {},
   "source": [
    "This graph is useful to see the correlations between G1, G2 and G3 : it exhibits clearly the strong relation between these variables, since there seems to be almost no lines going from bottom to top, which shows that grades remain constant between G1, G2 and G3."
   ]
  },
  {
   "cell_type": "markdown",
   "metadata": {},
   "source": [
    "**Bubble chart**\n",
    "\n",
    "3 dimensions: \n",
    "- Average G3 grades\n",
    "- Average number of absences\n",
    "- Father's job"
   ]
  },
  {
   "cell_type": "code",
   "execution_count": 52,
   "metadata": {},
   "outputs": [
    {
     "data": {
      "application/vnd.plotly.v1+json": {
       "config": {
        "plotlyServerURL": "https://plot.ly"
       },
       "data": [
        {
         "hoverlabel": {
          "namelength": 0
         },
         "hovertemplate": "<b>%{hovertext}</b><br><br>Father's job=at_home<br>absences=%{x}<br>G3=%{y}<br>count=%{marker.size}",
         "hovertext": [
          "at_home"
         ],
         "legendgroup": "Father's job=at_home",
         "marker": {
          "color": "#19d3f3",
          "size": [
           42
          ],
          "sizemode": "area",
          "sizeref": 0.10194444444444445,
          "symbol": "circle"
         },
         "mode": "markers",
         "name": "Father's job=at_home",
         "showlegend": true,
         "type": "scatter",
         "x": [
          4.4523809523809526
         ],
         "xaxis": "x",
         "y": [
          11.428571428571429
         ],
         "yaxis": "y"
        },
        {
         "hoverlabel": {
          "namelength": 0
         },
         "hovertemplate": "<b>%{hovertext}</b><br><br>Father's job=health<br>absences=%{x}<br>G3=%{y}<br>count=%{marker.size}",
         "hovertext": [
          "health"
         ],
         "legendgroup": "Father's job=health",
         "marker": {
          "color": "#FF6692",
          "size": [
           23
          ],
          "sizemode": "area",
          "sizeref": 0.10194444444444445,
          "symbol": "circle"
         },
         "mode": "markers",
         "name": "Father's job=health",
         "showlegend": true,
         "type": "scatter",
         "x": [
          3.0434782608695654
         ],
         "xaxis": "x",
         "y": [
          12.565217391304348
         ],
         "yaxis": "y"
        },
        {
         "hoverlabel": {
          "namelength": 0
         },
         "hovertemplate": "<b>%{hovertext}</b><br><br>Father's job=other<br>absences=%{x}<br>G3=%{y}<br>count=%{marker.size}",
         "hovertext": [
          "other"
         ],
         "legendgroup": "Father's job=other",
         "marker": {
          "color": "orange",
          "size": [
           367
          ],
          "sizemode": "area",
          "sizeref": 0.10194444444444445,
          "symbol": "circle"
         },
         "mode": "markers",
         "name": "Father's job=other",
         "showlegend": true,
         "type": "scatter",
         "x": [
          3.768392370572207
         ],
         "xaxis": "x",
         "y": [
          11.89100817438692
         ],
         "yaxis": "y"
        },
        {
         "hoverlabel": {
          "namelength": 0
         },
         "hovertemplate": "<b>%{hovertext}</b><br><br>Father's job=services<br>absences=%{x}<br>G3=%{y}<br>count=%{marker.size}",
         "hovertext": [
          "services"
         ],
         "legendgroup": "Father's job=services",
         "marker": {
          "color": "pink",
          "size": [
           181
          ],
          "sizemode": "area",
          "sizeref": 0.10194444444444445,
          "symbol": "circle"
         },
         "mode": "markers",
         "name": "Father's job=services",
         "showlegend": true,
         "type": "scatter",
         "x": [
          3.3977900552486187
         ],
         "xaxis": "x",
         "y": [
          11.629834254143647
         ],
         "yaxis": "y"
        },
        {
         "hoverlabel": {
          "namelength": 0
         },
         "hovertemplate": "<b>%{hovertext}</b><br><br>Father's job=teacher<br>absences=%{x}<br>G3=%{y}<br>count=%{marker.size}",
         "hovertext": [
          "teacher"
         ],
         "legendgroup": "Father's job=teacher",
         "marker": {
          "color": "purple",
          "size": [
           36
          ],
          "sizemode": "area",
          "sizeref": 0.10194444444444445,
          "symbol": "circle"
         },
         "mode": "markers",
         "name": "Father's job=teacher",
         "showlegend": true,
         "type": "scatter",
         "x": [
          3.3333333333333335
         ],
         "xaxis": "x",
         "y": [
          13.583333333333334
         ],
         "yaxis": "y"
        }
       ],
       "layout": {
        "height": 600,
        "legend": {
         "bgcolor": "LightSteelBlue",
         "bordercolor": "Black",
         "borderwidth": 2,
         "font": {
          "color": "black",
          "family": "sans-serif",
          "size": 12
         },
         "itemsizing": "constant",
         "tracegroupgap": 0,
         "traceorder": "normal",
         "x": 1,
         "y": 1
        },
        "margin": {
         "t": 60
        },
        "template": {
         "data": {
          "bar": [
           {
            "error_x": {
             "color": "#2a3f5f"
            },
            "error_y": {
             "color": "#2a3f5f"
            },
            "marker": {
             "line": {
              "color": "#E5ECF6",
              "width": 0.5
             }
            },
            "type": "bar"
           }
          ],
          "barpolar": [
           {
            "marker": {
             "line": {
              "color": "#E5ECF6",
              "width": 0.5
             }
            },
            "type": "barpolar"
           }
          ],
          "carpet": [
           {
            "aaxis": {
             "endlinecolor": "#2a3f5f",
             "gridcolor": "white",
             "linecolor": "white",
             "minorgridcolor": "white",
             "startlinecolor": "#2a3f5f"
            },
            "baxis": {
             "endlinecolor": "#2a3f5f",
             "gridcolor": "white",
             "linecolor": "white",
             "minorgridcolor": "white",
             "startlinecolor": "#2a3f5f"
            },
            "type": "carpet"
           }
          ],
          "choropleth": [
           {
            "colorbar": {
             "outlinewidth": 0,
             "ticks": ""
            },
            "type": "choropleth"
           }
          ],
          "contour": [
           {
            "colorbar": {
             "outlinewidth": 0,
             "ticks": ""
            },
            "colorscale": [
             [
              0,
              "#0d0887"
             ],
             [
              0.1111111111111111,
              "#46039f"
             ],
             [
              0.2222222222222222,
              "#7201a8"
             ],
             [
              0.3333333333333333,
              "#9c179e"
             ],
             [
              0.4444444444444444,
              "#bd3786"
             ],
             [
              0.5555555555555556,
              "#d8576b"
             ],
             [
              0.6666666666666666,
              "#ed7953"
             ],
             [
              0.7777777777777778,
              "#fb9f3a"
             ],
             [
              0.8888888888888888,
              "#fdca26"
             ],
             [
              1,
              "#f0f921"
             ]
            ],
            "type": "contour"
           }
          ],
          "contourcarpet": [
           {
            "colorbar": {
             "outlinewidth": 0,
             "ticks": ""
            },
            "type": "contourcarpet"
           }
          ],
          "heatmap": [
           {
            "colorbar": {
             "outlinewidth": 0,
             "ticks": ""
            },
            "colorscale": [
             [
              0,
              "#0d0887"
             ],
             [
              0.1111111111111111,
              "#46039f"
             ],
             [
              0.2222222222222222,
              "#7201a8"
             ],
             [
              0.3333333333333333,
              "#9c179e"
             ],
             [
              0.4444444444444444,
              "#bd3786"
             ],
             [
              0.5555555555555556,
              "#d8576b"
             ],
             [
              0.6666666666666666,
              "#ed7953"
             ],
             [
              0.7777777777777778,
              "#fb9f3a"
             ],
             [
              0.8888888888888888,
              "#fdca26"
             ],
             [
              1,
              "#f0f921"
             ]
            ],
            "type": "heatmap"
           }
          ],
          "heatmapgl": [
           {
            "colorbar": {
             "outlinewidth": 0,
             "ticks": ""
            },
            "colorscale": [
             [
              0,
              "#0d0887"
             ],
             [
              0.1111111111111111,
              "#46039f"
             ],
             [
              0.2222222222222222,
              "#7201a8"
             ],
             [
              0.3333333333333333,
              "#9c179e"
             ],
             [
              0.4444444444444444,
              "#bd3786"
             ],
             [
              0.5555555555555556,
              "#d8576b"
             ],
             [
              0.6666666666666666,
              "#ed7953"
             ],
             [
              0.7777777777777778,
              "#fb9f3a"
             ],
             [
              0.8888888888888888,
              "#fdca26"
             ],
             [
              1,
              "#f0f921"
             ]
            ],
            "type": "heatmapgl"
           }
          ],
          "histogram": [
           {
            "marker": {
             "colorbar": {
              "outlinewidth": 0,
              "ticks": ""
             }
            },
            "type": "histogram"
           }
          ],
          "histogram2d": [
           {
            "colorbar": {
             "outlinewidth": 0,
             "ticks": ""
            },
            "colorscale": [
             [
              0,
              "#0d0887"
             ],
             [
              0.1111111111111111,
              "#46039f"
             ],
             [
              0.2222222222222222,
              "#7201a8"
             ],
             [
              0.3333333333333333,
              "#9c179e"
             ],
             [
              0.4444444444444444,
              "#bd3786"
             ],
             [
              0.5555555555555556,
              "#d8576b"
             ],
             [
              0.6666666666666666,
              "#ed7953"
             ],
             [
              0.7777777777777778,
              "#fb9f3a"
             ],
             [
              0.8888888888888888,
              "#fdca26"
             ],
             [
              1,
              "#f0f921"
             ]
            ],
            "type": "histogram2d"
           }
          ],
          "histogram2dcontour": [
           {
            "colorbar": {
             "outlinewidth": 0,
             "ticks": ""
            },
            "colorscale": [
             [
              0,
              "#0d0887"
             ],
             [
              0.1111111111111111,
              "#46039f"
             ],
             [
              0.2222222222222222,
              "#7201a8"
             ],
             [
              0.3333333333333333,
              "#9c179e"
             ],
             [
              0.4444444444444444,
              "#bd3786"
             ],
             [
              0.5555555555555556,
              "#d8576b"
             ],
             [
              0.6666666666666666,
              "#ed7953"
             ],
             [
              0.7777777777777778,
              "#fb9f3a"
             ],
             [
              0.8888888888888888,
              "#fdca26"
             ],
             [
              1,
              "#f0f921"
             ]
            ],
            "type": "histogram2dcontour"
           }
          ],
          "mesh3d": [
           {
            "colorbar": {
             "outlinewidth": 0,
             "ticks": ""
            },
            "type": "mesh3d"
           }
          ],
          "parcoords": [
           {
            "line": {
             "colorbar": {
              "outlinewidth": 0,
              "ticks": ""
             }
            },
            "type": "parcoords"
           }
          ],
          "pie": [
           {
            "automargin": true,
            "type": "pie"
           }
          ],
          "scatter": [
           {
            "marker": {
             "colorbar": {
              "outlinewidth": 0,
              "ticks": ""
             }
            },
            "type": "scatter"
           }
          ],
          "scatter3d": [
           {
            "line": {
             "colorbar": {
              "outlinewidth": 0,
              "ticks": ""
             }
            },
            "marker": {
             "colorbar": {
              "outlinewidth": 0,
              "ticks": ""
             }
            },
            "type": "scatter3d"
           }
          ],
          "scattercarpet": [
           {
            "marker": {
             "colorbar": {
              "outlinewidth": 0,
              "ticks": ""
             }
            },
            "type": "scattercarpet"
           }
          ],
          "scattergeo": [
           {
            "marker": {
             "colorbar": {
              "outlinewidth": 0,
              "ticks": ""
             }
            },
            "type": "scattergeo"
           }
          ],
          "scattergl": [
           {
            "marker": {
             "colorbar": {
              "outlinewidth": 0,
              "ticks": ""
             }
            },
            "type": "scattergl"
           }
          ],
          "scattermapbox": [
           {
            "marker": {
             "colorbar": {
              "outlinewidth": 0,
              "ticks": ""
             }
            },
            "type": "scattermapbox"
           }
          ],
          "scatterpolar": [
           {
            "marker": {
             "colorbar": {
              "outlinewidth": 0,
              "ticks": ""
             }
            },
            "type": "scatterpolar"
           }
          ],
          "scatterpolargl": [
           {
            "marker": {
             "colorbar": {
              "outlinewidth": 0,
              "ticks": ""
             }
            },
            "type": "scatterpolargl"
           }
          ],
          "scatterternary": [
           {
            "marker": {
             "colorbar": {
              "outlinewidth": 0,
              "ticks": ""
             }
            },
            "type": "scatterternary"
           }
          ],
          "surface": [
           {
            "colorbar": {
             "outlinewidth": 0,
             "ticks": ""
            },
            "colorscale": [
             [
              0,
              "#0d0887"
             ],
             [
              0.1111111111111111,
              "#46039f"
             ],
             [
              0.2222222222222222,
              "#7201a8"
             ],
             [
              0.3333333333333333,
              "#9c179e"
             ],
             [
              0.4444444444444444,
              "#bd3786"
             ],
             [
              0.5555555555555556,
              "#d8576b"
             ],
             [
              0.6666666666666666,
              "#ed7953"
             ],
             [
              0.7777777777777778,
              "#fb9f3a"
             ],
             [
              0.8888888888888888,
              "#fdca26"
             ],
             [
              1,
              "#f0f921"
             ]
            ],
            "type": "surface"
           }
          ],
          "table": [
           {
            "cells": {
             "fill": {
              "color": "#EBF0F8"
             },
             "line": {
              "color": "white"
             }
            },
            "header": {
             "fill": {
              "color": "#C8D4E3"
             },
             "line": {
              "color": "white"
             }
            },
            "type": "table"
           }
          ]
         },
         "layout": {
          "annotationdefaults": {
           "arrowcolor": "#2a3f5f",
           "arrowhead": 0,
           "arrowwidth": 1
          },
          "coloraxis": {
           "colorbar": {
            "outlinewidth": 0,
            "ticks": ""
           }
          },
          "colorscale": {
           "diverging": [
            [
             0,
             "#8e0152"
            ],
            [
             0.1,
             "#c51b7d"
            ],
            [
             0.2,
             "#de77ae"
            ],
            [
             0.3,
             "#f1b6da"
            ],
            [
             0.4,
             "#fde0ef"
            ],
            [
             0.5,
             "#f7f7f7"
            ],
            [
             0.6,
             "#e6f5d0"
            ],
            [
             0.7,
             "#b8e186"
            ],
            [
             0.8,
             "#7fbc41"
            ],
            [
             0.9,
             "#4d9221"
            ],
            [
             1,
             "#276419"
            ]
           ],
           "sequential": [
            [
             0,
             "#0d0887"
            ],
            [
             0.1111111111111111,
             "#46039f"
            ],
            [
             0.2222222222222222,
             "#7201a8"
            ],
            [
             0.3333333333333333,
             "#9c179e"
            ],
            [
             0.4444444444444444,
             "#bd3786"
            ],
            [
             0.5555555555555556,
             "#d8576b"
            ],
            [
             0.6666666666666666,
             "#ed7953"
            ],
            [
             0.7777777777777778,
             "#fb9f3a"
            ],
            [
             0.8888888888888888,
             "#fdca26"
            ],
            [
             1,
             "#f0f921"
            ]
           ],
           "sequentialminus": [
            [
             0,
             "#0d0887"
            ],
            [
             0.1111111111111111,
             "#46039f"
            ],
            [
             0.2222222222222222,
             "#7201a8"
            ],
            [
             0.3333333333333333,
             "#9c179e"
            ],
            [
             0.4444444444444444,
             "#bd3786"
            ],
            [
             0.5555555555555556,
             "#d8576b"
            ],
            [
             0.6666666666666666,
             "#ed7953"
            ],
            [
             0.7777777777777778,
             "#fb9f3a"
            ],
            [
             0.8888888888888888,
             "#fdca26"
            ],
            [
             1,
             "#f0f921"
            ]
           ]
          },
          "colorway": [
           "#636efa",
           "#EF553B",
           "#00cc96",
           "#ab63fa",
           "#FFA15A",
           "#19d3f3",
           "#FF6692",
           "#B6E880",
           "#FF97FF",
           "#FECB52"
          ],
          "font": {
           "color": "#2a3f5f"
          },
          "geo": {
           "bgcolor": "white",
           "lakecolor": "white",
           "landcolor": "#E5ECF6",
           "showlakes": true,
           "showland": true,
           "subunitcolor": "white"
          },
          "hoverlabel": {
           "align": "left"
          },
          "hovermode": "closest",
          "mapbox": {
           "style": "light"
          },
          "paper_bgcolor": "white",
          "plot_bgcolor": "#E5ECF6",
          "polar": {
           "angularaxis": {
            "gridcolor": "white",
            "linecolor": "white",
            "ticks": ""
           },
           "bgcolor": "#E5ECF6",
           "radialaxis": {
            "gridcolor": "white",
            "linecolor": "white",
            "ticks": ""
           }
          },
          "scene": {
           "xaxis": {
            "backgroundcolor": "#E5ECF6",
            "gridcolor": "white",
            "gridwidth": 2,
            "linecolor": "white",
            "showbackground": true,
            "ticks": "",
            "zerolinecolor": "white"
           },
           "yaxis": {
            "backgroundcolor": "#E5ECF6",
            "gridcolor": "white",
            "gridwidth": 2,
            "linecolor": "white",
            "showbackground": true,
            "ticks": "",
            "zerolinecolor": "white"
           },
           "zaxis": {
            "backgroundcolor": "#E5ECF6",
            "gridcolor": "white",
            "gridwidth": 2,
            "linecolor": "white",
            "showbackground": true,
            "ticks": "",
            "zerolinecolor": "white"
           }
          },
          "shapedefaults": {
           "line": {
            "color": "#2a3f5f"
           }
          },
          "ternary": {
           "aaxis": {
            "gridcolor": "white",
            "linecolor": "white",
            "ticks": ""
           },
           "baxis": {
            "gridcolor": "white",
            "linecolor": "white",
            "ticks": ""
           },
           "bgcolor": "#E5ECF6",
           "caxis": {
            "gridcolor": "white",
            "linecolor": "white",
            "ticks": ""
           }
          },
          "title": {
           "x": 0.05
          },
          "xaxis": {
           "automargin": true,
           "gridcolor": "white",
           "linecolor": "white",
           "ticks": "",
           "title": {
            "standoff": 15
           },
           "zerolinecolor": "white",
           "zerolinewidth": 2
          },
          "yaxis": {
           "automargin": true,
           "gridcolor": "white",
           "linecolor": "white",
           "ticks": "",
           "title": {
            "standoff": 15
           },
           "zerolinecolor": "white",
           "zerolinewidth": 2
          }
         }
        },
        "title": {
         "text": "Average Grade with respect to Fathers' Job and Absences"
        },
        "xaxis": {
         "anchor": "y",
         "domain": [
          0,
          1
         ],
         "title": {
          "text": "Average number of absences"
         },
         "type": "log"
        },
        "yaxis": {
         "anchor": "x",
         "domain": [
          0,
          1
         ],
         "title": {
          "text": "Average grade"
         }
        }
       }
      },
      "text/html": [
       "<div>\n",
       "        \n",
       "        \n",
       "            <div id=\"2bdb3c9a-f4ab-4abd-aa42-e5bd7031a9f8\" class=\"plotly-graph-div\" style=\"height:600px; width:100%;\"></div>\n",
       "            <script type=\"text/javascript\">\n",
       "                require([\"plotly\"], function(Plotly) {\n",
       "                    window.PLOTLYENV=window.PLOTLYENV || {};\n",
       "                    \n",
       "                if (document.getElementById(\"2bdb3c9a-f4ab-4abd-aa42-e5bd7031a9f8\")) {\n",
       "                    Plotly.newPlot(\n",
       "                        '2bdb3c9a-f4ab-4abd-aa42-e5bd7031a9f8',\n",
       "                        [{\"hoverlabel\": {\"namelength\": 0}, \"hovertemplate\": \"<b>%{hovertext}</b><br><br>Father's job=at_home<br>absences=%{x}<br>G3=%{y}<br>count=%{marker.size}\", \"hovertext\": [\"at_home\"], \"legendgroup\": \"Father's job=at_home\", \"marker\": {\"color\": \"#19d3f3\", \"size\": [42], \"sizemode\": \"area\", \"sizeref\": 0.10194444444444445, \"symbol\": \"circle\"}, \"mode\": \"markers\", \"name\": \"Father's job=at_home\", \"showlegend\": true, \"type\": \"scatter\", \"x\": [4.4523809523809526], \"xaxis\": \"x\", \"y\": [11.428571428571429], \"yaxis\": \"y\"}, {\"hoverlabel\": {\"namelength\": 0}, \"hovertemplate\": \"<b>%{hovertext}</b><br><br>Father's job=health<br>absences=%{x}<br>G3=%{y}<br>count=%{marker.size}\", \"hovertext\": [\"health\"], \"legendgroup\": \"Father's job=health\", \"marker\": {\"color\": \"#FF6692\", \"size\": [23], \"sizemode\": \"area\", \"sizeref\": 0.10194444444444445, \"symbol\": \"circle\"}, \"mode\": \"markers\", \"name\": \"Father's job=health\", \"showlegend\": true, \"type\": \"scatter\", \"x\": [3.0434782608695654], \"xaxis\": \"x\", \"y\": [12.565217391304348], \"yaxis\": \"y\"}, {\"hoverlabel\": {\"namelength\": 0}, \"hovertemplate\": \"<b>%{hovertext}</b><br><br>Father's job=other<br>absences=%{x}<br>G3=%{y}<br>count=%{marker.size}\", \"hovertext\": [\"other\"], \"legendgroup\": \"Father's job=other\", \"marker\": {\"color\": \"orange\", \"size\": [367], \"sizemode\": \"area\", \"sizeref\": 0.10194444444444445, \"symbol\": \"circle\"}, \"mode\": \"markers\", \"name\": \"Father's job=other\", \"showlegend\": true, \"type\": \"scatter\", \"x\": [3.768392370572207], \"xaxis\": \"x\", \"y\": [11.89100817438692], \"yaxis\": \"y\"}, {\"hoverlabel\": {\"namelength\": 0}, \"hovertemplate\": \"<b>%{hovertext}</b><br><br>Father's job=services<br>absences=%{x}<br>G3=%{y}<br>count=%{marker.size}\", \"hovertext\": [\"services\"], \"legendgroup\": \"Father's job=services\", \"marker\": {\"color\": \"pink\", \"size\": [181], \"sizemode\": \"area\", \"sizeref\": 0.10194444444444445, \"symbol\": \"circle\"}, \"mode\": \"markers\", \"name\": \"Father's job=services\", \"showlegend\": true, \"type\": \"scatter\", \"x\": [3.3977900552486187], \"xaxis\": \"x\", \"y\": [11.629834254143647], \"yaxis\": \"y\"}, {\"hoverlabel\": {\"namelength\": 0}, \"hovertemplate\": \"<b>%{hovertext}</b><br><br>Father's job=teacher<br>absences=%{x}<br>G3=%{y}<br>count=%{marker.size}\", \"hovertext\": [\"teacher\"], \"legendgroup\": \"Father's job=teacher\", \"marker\": {\"color\": \"purple\", \"size\": [36], \"sizemode\": \"area\", \"sizeref\": 0.10194444444444445, \"symbol\": \"circle\"}, \"mode\": \"markers\", \"name\": \"Father's job=teacher\", \"showlegend\": true, \"type\": \"scatter\", \"x\": [3.3333333333333335], \"xaxis\": \"x\", \"y\": [13.583333333333334], \"yaxis\": \"y\"}],\n",
       "                        {\"height\": 600, \"legend\": {\"bgcolor\": \"LightSteelBlue\", \"bordercolor\": \"Black\", \"borderwidth\": 2, \"font\": {\"color\": \"black\", \"family\": \"sans-serif\", \"size\": 12}, \"itemsizing\": \"constant\", \"tracegroupgap\": 0, \"traceorder\": \"normal\", \"x\": 1, \"y\": 1}, \"margin\": {\"t\": 60}, \"template\": {\"data\": {\"bar\": [{\"error_x\": {\"color\": \"#2a3f5f\"}, \"error_y\": {\"color\": \"#2a3f5f\"}, \"marker\": {\"line\": {\"color\": \"#E5ECF6\", \"width\": 0.5}}, \"type\": \"bar\"}], \"barpolar\": [{\"marker\": {\"line\": {\"color\": \"#E5ECF6\", \"width\": 0.5}}, \"type\": \"barpolar\"}], \"carpet\": [{\"aaxis\": {\"endlinecolor\": \"#2a3f5f\", \"gridcolor\": \"white\", \"linecolor\": \"white\", \"minorgridcolor\": \"white\", \"startlinecolor\": \"#2a3f5f\"}, \"baxis\": {\"endlinecolor\": \"#2a3f5f\", \"gridcolor\": \"white\", \"linecolor\": \"white\", \"minorgridcolor\": \"white\", \"startlinecolor\": \"#2a3f5f\"}, \"type\": \"carpet\"}], \"choropleth\": [{\"colorbar\": {\"outlinewidth\": 0, \"ticks\": \"\"}, \"type\": \"choropleth\"}], \"contour\": [{\"colorbar\": {\"outlinewidth\": 0, \"ticks\": \"\"}, \"colorscale\": [[0.0, \"#0d0887\"], [0.1111111111111111, \"#46039f\"], [0.2222222222222222, \"#7201a8\"], [0.3333333333333333, \"#9c179e\"], [0.4444444444444444, \"#bd3786\"], [0.5555555555555556, \"#d8576b\"], [0.6666666666666666, \"#ed7953\"], [0.7777777777777778, \"#fb9f3a\"], [0.8888888888888888, \"#fdca26\"], [1.0, \"#f0f921\"]], \"type\": \"contour\"}], \"contourcarpet\": [{\"colorbar\": {\"outlinewidth\": 0, \"ticks\": \"\"}, \"type\": \"contourcarpet\"}], \"heatmap\": [{\"colorbar\": {\"outlinewidth\": 0, \"ticks\": \"\"}, \"colorscale\": [[0.0, \"#0d0887\"], [0.1111111111111111, \"#46039f\"], [0.2222222222222222, \"#7201a8\"], [0.3333333333333333, \"#9c179e\"], [0.4444444444444444, \"#bd3786\"], [0.5555555555555556, \"#d8576b\"], [0.6666666666666666, \"#ed7953\"], [0.7777777777777778, \"#fb9f3a\"], [0.8888888888888888, \"#fdca26\"], [1.0, \"#f0f921\"]], \"type\": \"heatmap\"}], \"heatmapgl\": [{\"colorbar\": {\"outlinewidth\": 0, \"ticks\": \"\"}, \"colorscale\": [[0.0, \"#0d0887\"], [0.1111111111111111, \"#46039f\"], [0.2222222222222222, \"#7201a8\"], [0.3333333333333333, \"#9c179e\"], [0.4444444444444444, \"#bd3786\"], [0.5555555555555556, \"#d8576b\"], [0.6666666666666666, \"#ed7953\"], [0.7777777777777778, \"#fb9f3a\"], [0.8888888888888888, \"#fdca26\"], [1.0, \"#f0f921\"]], \"type\": \"heatmapgl\"}], \"histogram\": [{\"marker\": {\"colorbar\": {\"outlinewidth\": 0, \"ticks\": \"\"}}, \"type\": \"histogram\"}], \"histogram2d\": [{\"colorbar\": {\"outlinewidth\": 0, \"ticks\": \"\"}, \"colorscale\": [[0.0, \"#0d0887\"], [0.1111111111111111, \"#46039f\"], [0.2222222222222222, \"#7201a8\"], [0.3333333333333333, \"#9c179e\"], [0.4444444444444444, \"#bd3786\"], [0.5555555555555556, \"#d8576b\"], [0.6666666666666666, \"#ed7953\"], [0.7777777777777778, \"#fb9f3a\"], [0.8888888888888888, \"#fdca26\"], [1.0, \"#f0f921\"]], \"type\": \"histogram2d\"}], \"histogram2dcontour\": [{\"colorbar\": {\"outlinewidth\": 0, \"ticks\": \"\"}, \"colorscale\": [[0.0, \"#0d0887\"], [0.1111111111111111, \"#46039f\"], [0.2222222222222222, \"#7201a8\"], [0.3333333333333333, \"#9c179e\"], [0.4444444444444444, \"#bd3786\"], [0.5555555555555556, \"#d8576b\"], [0.6666666666666666, \"#ed7953\"], [0.7777777777777778, \"#fb9f3a\"], [0.8888888888888888, \"#fdca26\"], [1.0, \"#f0f921\"]], \"type\": \"histogram2dcontour\"}], \"mesh3d\": [{\"colorbar\": {\"outlinewidth\": 0, \"ticks\": \"\"}, \"type\": \"mesh3d\"}], \"parcoords\": [{\"line\": {\"colorbar\": {\"outlinewidth\": 0, \"ticks\": \"\"}}, \"type\": \"parcoords\"}], \"pie\": [{\"automargin\": true, \"type\": \"pie\"}], \"scatter\": [{\"marker\": {\"colorbar\": {\"outlinewidth\": 0, \"ticks\": \"\"}}, \"type\": \"scatter\"}], \"scatter3d\": [{\"line\": {\"colorbar\": {\"outlinewidth\": 0, \"ticks\": \"\"}}, \"marker\": {\"colorbar\": {\"outlinewidth\": 0, \"ticks\": \"\"}}, \"type\": \"scatter3d\"}], \"scattercarpet\": [{\"marker\": {\"colorbar\": {\"outlinewidth\": 0, \"ticks\": \"\"}}, \"type\": \"scattercarpet\"}], \"scattergeo\": [{\"marker\": {\"colorbar\": {\"outlinewidth\": 0, \"ticks\": \"\"}}, \"type\": \"scattergeo\"}], \"scattergl\": [{\"marker\": {\"colorbar\": {\"outlinewidth\": 0, \"ticks\": \"\"}}, \"type\": \"scattergl\"}], \"scattermapbox\": [{\"marker\": {\"colorbar\": {\"outlinewidth\": 0, \"ticks\": \"\"}}, \"type\": \"scattermapbox\"}], \"scatterpolar\": [{\"marker\": {\"colorbar\": {\"outlinewidth\": 0, \"ticks\": \"\"}}, \"type\": \"scatterpolar\"}], \"scatterpolargl\": [{\"marker\": {\"colorbar\": {\"outlinewidth\": 0, \"ticks\": \"\"}}, \"type\": \"scatterpolargl\"}], \"scatterternary\": [{\"marker\": {\"colorbar\": {\"outlinewidth\": 0, \"ticks\": \"\"}}, \"type\": \"scatterternary\"}], \"surface\": [{\"colorbar\": {\"outlinewidth\": 0, \"ticks\": \"\"}, \"colorscale\": [[0.0, \"#0d0887\"], [0.1111111111111111, \"#46039f\"], [0.2222222222222222, \"#7201a8\"], [0.3333333333333333, \"#9c179e\"], [0.4444444444444444, \"#bd3786\"], [0.5555555555555556, \"#d8576b\"], [0.6666666666666666, \"#ed7953\"], [0.7777777777777778, \"#fb9f3a\"], [0.8888888888888888, \"#fdca26\"], [1.0, \"#f0f921\"]], \"type\": \"surface\"}], \"table\": [{\"cells\": {\"fill\": {\"color\": \"#EBF0F8\"}, \"line\": {\"color\": \"white\"}}, \"header\": {\"fill\": {\"color\": \"#C8D4E3\"}, \"line\": {\"color\": \"white\"}}, \"type\": \"table\"}]}, \"layout\": {\"annotationdefaults\": {\"arrowcolor\": \"#2a3f5f\", \"arrowhead\": 0, \"arrowwidth\": 1}, \"coloraxis\": {\"colorbar\": {\"outlinewidth\": 0, \"ticks\": \"\"}}, \"colorscale\": {\"diverging\": [[0, \"#8e0152\"], [0.1, \"#c51b7d\"], [0.2, \"#de77ae\"], [0.3, \"#f1b6da\"], [0.4, \"#fde0ef\"], [0.5, \"#f7f7f7\"], [0.6, \"#e6f5d0\"], [0.7, \"#b8e186\"], [0.8, \"#7fbc41\"], [0.9, \"#4d9221\"], [1, \"#276419\"]], \"sequential\": [[0.0, \"#0d0887\"], [0.1111111111111111, \"#46039f\"], [0.2222222222222222, \"#7201a8\"], [0.3333333333333333, \"#9c179e\"], [0.4444444444444444, \"#bd3786\"], [0.5555555555555556, \"#d8576b\"], [0.6666666666666666, \"#ed7953\"], [0.7777777777777778, \"#fb9f3a\"], [0.8888888888888888, \"#fdca26\"], [1.0, \"#f0f921\"]], \"sequentialminus\": [[0.0, \"#0d0887\"], [0.1111111111111111, \"#46039f\"], [0.2222222222222222, \"#7201a8\"], [0.3333333333333333, \"#9c179e\"], [0.4444444444444444, \"#bd3786\"], [0.5555555555555556, \"#d8576b\"], [0.6666666666666666, \"#ed7953\"], [0.7777777777777778, \"#fb9f3a\"], [0.8888888888888888, \"#fdca26\"], [1.0, \"#f0f921\"]]}, \"colorway\": [\"#636efa\", \"#EF553B\", \"#00cc96\", \"#ab63fa\", \"#FFA15A\", \"#19d3f3\", \"#FF6692\", \"#B6E880\", \"#FF97FF\", \"#FECB52\"], \"font\": {\"color\": \"#2a3f5f\"}, \"geo\": {\"bgcolor\": \"white\", \"lakecolor\": \"white\", \"landcolor\": \"#E5ECF6\", \"showlakes\": true, \"showland\": true, \"subunitcolor\": \"white\"}, \"hoverlabel\": {\"align\": \"left\"}, \"hovermode\": \"closest\", \"mapbox\": {\"style\": \"light\"}, \"paper_bgcolor\": \"white\", \"plot_bgcolor\": \"#E5ECF6\", \"polar\": {\"angularaxis\": {\"gridcolor\": \"white\", \"linecolor\": \"white\", \"ticks\": \"\"}, \"bgcolor\": \"#E5ECF6\", \"radialaxis\": {\"gridcolor\": \"white\", \"linecolor\": \"white\", \"ticks\": \"\"}}, \"scene\": {\"xaxis\": {\"backgroundcolor\": \"#E5ECF6\", \"gridcolor\": \"white\", \"gridwidth\": 2, \"linecolor\": \"white\", \"showbackground\": true, \"ticks\": \"\", \"zerolinecolor\": \"white\"}, \"yaxis\": {\"backgroundcolor\": \"#E5ECF6\", \"gridcolor\": \"white\", \"gridwidth\": 2, \"linecolor\": \"white\", \"showbackground\": true, \"ticks\": \"\", \"zerolinecolor\": \"white\"}, \"zaxis\": {\"backgroundcolor\": \"#E5ECF6\", \"gridcolor\": \"white\", \"gridwidth\": 2, \"linecolor\": \"white\", \"showbackground\": true, \"ticks\": \"\", \"zerolinecolor\": \"white\"}}, \"shapedefaults\": {\"line\": {\"color\": \"#2a3f5f\"}}, \"ternary\": {\"aaxis\": {\"gridcolor\": \"white\", \"linecolor\": \"white\", \"ticks\": \"\"}, \"baxis\": {\"gridcolor\": \"white\", \"linecolor\": \"white\", \"ticks\": \"\"}, \"bgcolor\": \"#E5ECF6\", \"caxis\": {\"gridcolor\": \"white\", \"linecolor\": \"white\", \"ticks\": \"\"}}, \"title\": {\"x\": 0.05}, \"xaxis\": {\"automargin\": true, \"gridcolor\": \"white\", \"linecolor\": \"white\", \"ticks\": \"\", \"title\": {\"standoff\": 15}, \"zerolinecolor\": \"white\", \"zerolinewidth\": 2}, \"yaxis\": {\"automargin\": true, \"gridcolor\": \"white\", \"linecolor\": \"white\", \"ticks\": \"\", \"title\": {\"standoff\": 15}, \"zerolinecolor\": \"white\", \"zerolinewidth\": 2}}}, \"title\": {\"text\": \"Average Grade with respect to Fathers' Job and Absences\"}, \"xaxis\": {\"anchor\": \"y\", \"domain\": [0.0, 1.0], \"title\": {\"text\": \"Average number of absences\"}, \"type\": \"log\"}, \"yaxis\": {\"anchor\": \"x\", \"domain\": [0.0, 1.0], \"title\": {\"text\": \"Average grade\"}}},\n",
       "                        {\"responsive\": true}\n",
       "                    ).then(function(){\n",
       "                            \n",
       "var gd = document.getElementById('2bdb3c9a-f4ab-4abd-aa42-e5bd7031a9f8');\n",
       "var x = new MutationObserver(function (mutations, observer) {{\n",
       "        var display = window.getComputedStyle(gd).display;\n",
       "        if (!display || display === 'none') {{\n",
       "            console.log([gd, 'removed!']);\n",
       "            Plotly.purge(gd);\n",
       "            observer.disconnect();\n",
       "        }}\n",
       "}});\n",
       "\n",
       "// Listen for the removal of the full notebook cells\n",
       "var notebookContainer = gd.closest('#notebook-container');\n",
       "if (notebookContainer) {{\n",
       "    x.observe(notebookContainer, {childList: true});\n",
       "}}\n",
       "\n",
       "// Listen for the clearing of the current output cell\n",
       "var outputEl = gd.closest('.output');\n",
       "if (outputEl) {{\n",
       "    x.observe(outputEl, {childList: true});\n",
       "}}\n",
       "\n",
       "                        })\n",
       "                };\n",
       "                });\n",
       "            </script>\n",
       "        </div>"
      ]
     },
     "metadata": {},
     "output_type": "display_data"
    }
   ],
   "source": [
    "# Create data for the bubble chart\n",
    "df = df.rename(columns={\"Fjob\": \"Father's job\"})\n",
    "group2 = df.groupby([\"Father's job\"]).agg({\"G1\": np.mean,\n",
    "                                   \"G2\": np.mean,\n",
    "                                   \"G3\": np.mean, \n",
    "                                   \"absences\": np.mean})\n",
    "## Create the size of the bubbles\n",
    "group2['count'] = df[\"Father's job\"].value_counts()\n",
    "\n",
    "colorsIdx = {'At_home': 'blue', 'Health': 'green', 'other': 'orange',\n",
    "              'services': 'pink', 'teacher': 'purple'}\n",
    "\n",
    "fig = px.scatter(group2.reset_index(), x=\"absences\", y=\"G3\",\n",
    "                  size = \"count\", color=\"Father's job\", color_discrete_map=colorsIdx,\n",
    "                  hover_name=\"Father's job\", log_x=True, size_max=60)\n",
    "\n",
    "\n",
    "fig.update_layout(title_text=\"Average Grade with respect to Fathers' Job and Absences\", \n",
    "                  xaxis_title=\"Average number of absences\",\n",
    "                  yaxis_title=\"Average grade\")\n",
    "\n",
    "fig.update_layout(\n",
    "    legend=dict(\n",
    "        x=1,\n",
    "        y=1,\n",
    "        traceorder=\"normal\",\n",
    "        font=dict(\n",
    "            family=\"sans-serif\",\n",
    "            size=12,\n",
    "            color=\"black\"\n",
    "        ),\n",
    "        bgcolor=\"LightSteelBlue\",\n",
    "        bordercolor=\"Black\",\n",
    "        borderwidth=2\n",
    "    )\n",
    ")\n",
    "\n",
    "\n",
    "\n",
    "fig.show()"
   ]
  },
  {
   "cell_type": "markdown",
   "metadata": {},
   "source": [
    "This graph enables to see clearly the importance of father's job, especially if he is a teacher (low number of absence and higher grades), or oppositely to have him at home (very high number of absence)."
   ]
  },
  {
   "cell_type": "markdown",
   "metadata": {},
   "source": [
    "**Animated barchart**\n",
    "\n",
    "Showing the evolution of grades from G1 to G3"
   ]
  },
  {
   "cell_type": "code",
   "execution_count": 55,
   "metadata": {},
   "outputs": [],
   "source": [
    "## Creating data for the animated barchart\n",
    "my_list = ['fail', 'Sufficient', 'Satisfactory', 'Good', 'Excellent']\n",
    "\n",
    "G1_dict = dict(df['G1_discret'].value_counts())\n",
    "G1_dict = sorted(G1_dict.items(), key=lambda pair: my_list.index(pair[0]))\n",
    "\n",
    "G2_dict = dict(df['G2_discret'].value_counts())\n",
    "G2_dict = sorted(G2_dict.items(), key=lambda pair: my_list.index(pair[0]))\n",
    "\n",
    "G3_dict = dict(df['G3_discret'].value_counts())\n",
    "G3_dict = sorted(G3_dict.items(), key=lambda pair: my_list.index(pair[0]))"
   ]
  },
  {
   "cell_type": "code",
   "execution_count": 56,
   "metadata": {},
   "outputs": [
    {
     "data": {
      "text/html": [
       "<div>\n",
       "<style scoped>\n",
       "    .dataframe tbody tr th:only-of-type {\n",
       "        vertical-align: middle;\n",
       "    }\n",
       "\n",
       "    .dataframe tbody tr th {\n",
       "        vertical-align: top;\n",
       "    }\n",
       "\n",
       "    .dataframe thead th {\n",
       "        text-align: right;\n",
       "    }\n",
       "</style>\n",
       "<table border=\"1\" class=\"dataframe\">\n",
       "  <thead>\n",
       "    <tr style=\"text-align: right;\">\n",
       "      <th></th>\n",
       "      <th>Name</th>\n",
       "      <th>Count</th>\n",
       "      <th>Period</th>\n",
       "    </tr>\n",
       "  </thead>\n",
       "  <tbody>\n",
       "    <tr>\n",
       "      <th>0</th>\n",
       "      <td>fail</td>\n",
       "      <td>157</td>\n",
       "      <td>G1</td>\n",
       "    </tr>\n",
       "    <tr>\n",
       "      <th>1</th>\n",
       "      <td>Sufficient</td>\n",
       "      <td>186</td>\n",
       "      <td>G1</td>\n",
       "    </tr>\n",
       "    <tr>\n",
       "      <th>2</th>\n",
       "      <td>Satisfactory</td>\n",
       "      <td>154</td>\n",
       "      <td>G1</td>\n",
       "    </tr>\n",
       "    <tr>\n",
       "      <th>3</th>\n",
       "      <td>Good</td>\n",
       "      <td>106</td>\n",
       "      <td>G1</td>\n",
       "    </tr>\n",
       "    <tr>\n",
       "      <th>4</th>\n",
       "      <td>Excellent</td>\n",
       "      <td>46</td>\n",
       "      <td>G1</td>\n",
       "    </tr>\n",
       "    <tr>\n",
       "      <th>5</th>\n",
       "      <td>fail</td>\n",
       "      <td>145</td>\n",
       "      <td>G2</td>\n",
       "    </tr>\n",
       "    <tr>\n",
       "      <th>6</th>\n",
       "      <td>Sufficient</td>\n",
       "      <td>186</td>\n",
       "      <td>G2</td>\n",
       "    </tr>\n",
       "    <tr>\n",
       "      <th>7</th>\n",
       "      <td>Satisfactory</td>\n",
       "      <td>166</td>\n",
       "      <td>G2</td>\n",
       "    </tr>\n",
       "    <tr>\n",
       "      <th>8</th>\n",
       "      <td>Good</td>\n",
       "      <td>92</td>\n",
       "      <td>G2</td>\n",
       "    </tr>\n",
       "    <tr>\n",
       "      <th>9</th>\n",
       "      <td>Excellent</td>\n",
       "      <td>60</td>\n",
       "      <td>G2</td>\n",
       "    </tr>\n",
       "    <tr>\n",
       "      <th>10</th>\n",
       "      <td>fail</td>\n",
       "      <td>100</td>\n",
       "      <td>G3</td>\n",
       "    </tr>\n",
       "    <tr>\n",
       "      <th>11</th>\n",
       "      <td>Sufficient</td>\n",
       "      <td>201</td>\n",
       "      <td>G3</td>\n",
       "    </tr>\n",
       "    <tr>\n",
       "      <th>12</th>\n",
       "      <td>Satisfactory</td>\n",
       "      <td>154</td>\n",
       "      <td>G3</td>\n",
       "    </tr>\n",
       "    <tr>\n",
       "      <th>13</th>\n",
       "      <td>Good</td>\n",
       "      <td>112</td>\n",
       "      <td>G3</td>\n",
       "    </tr>\n",
       "    <tr>\n",
       "      <th>14</th>\n",
       "      <td>Excellent</td>\n",
       "      <td>82</td>\n",
       "      <td>G3</td>\n",
       "    </tr>\n",
       "  </tbody>\n",
       "</table>\n",
       "</div>"
      ],
      "text/plain": [
       "            Name  Count Period\n",
       "0           fail    157     G1\n",
       "1     Sufficient    186     G1\n",
       "2   Satisfactory    154     G1\n",
       "3           Good    106     G1\n",
       "4      Excellent     46     G1\n",
       "5           fail    145     G2\n",
       "6     Sufficient    186     G2\n",
       "7   Satisfactory    166     G2\n",
       "8           Good     92     G2\n",
       "9      Excellent     60     G2\n",
       "10          fail    100     G3\n",
       "11    Sufficient    201     G3\n",
       "12  Satisfactory    154     G3\n",
       "13          Good    112     G3\n",
       "14     Excellent     82     G3"
      ]
     },
     "execution_count": 56,
     "metadata": {},
     "output_type": "execute_result"
    }
   ],
   "source": [
    "G1 = pd.DataFrame(G1_dict, columns =['Name', 'Count'])\n",
    "G2 = pd.DataFrame(G2_dict, columns =['Name', 'Count'])\n",
    "G3 = pd.DataFrame(G3_dict, columns =['Name', 'Count'])\n",
    "barchart = pd.concat([G1, G2, G3], ignore_index=True)\n",
    "barchart['Period'] = ['G1'] * 5 + ['G2'] * 5 + ['G3'] * 5\n",
    "barchart"
   ]
  },
  {
   "cell_type": "code",
   "execution_count": 57,
   "metadata": {},
   "outputs": [
    {
     "data": {
      "application/vnd.plotly.v1+json": {
       "config": {
        "plotlyServerURL": "https://plot.ly"
       },
       "data": [
        {
         "alignmentgroup": "True",
         "hoverlabel": {
          "namelength": 0
         },
         "hovertemplate": "Period=G1<br>Name=%{x}<br>Count=%{y}",
         "legendgroup": "",
         "marker": {
          "color": "#636efa"
         },
         "name": "",
         "offsetgroup": "",
         "orientation": "v",
         "showlegend": false,
         "textposition": "auto",
         "type": "bar",
         "x": [
          "fail",
          "Sufficient",
          "Satisfactory",
          "Good",
          "Excellent"
         ],
         "xaxis": "x",
         "y": [
          157,
          186,
          154,
          106,
          46
         ],
         "yaxis": "y"
        }
       ],
       "frames": [
        {
         "data": [
          {
           "alignmentgroup": "True",
           "hoverlabel": {
            "namelength": 0
           },
           "hovertemplate": "Period=G1<br>Name=%{x}<br>Count=%{y}",
           "legendgroup": "",
           "marker": {
            "color": "#636efa"
           },
           "name": "",
           "offsetgroup": "",
           "orientation": "v",
           "showlegend": false,
           "textposition": "auto",
           "type": "bar",
           "x": [
            "fail",
            "Sufficient",
            "Satisfactory",
            "Good",
            "Excellent"
           ],
           "xaxis": "x",
           "y": [
            157,
            186,
            154,
            106,
            46
           ],
           "yaxis": "y"
          }
         ],
         "name": "G1"
        },
        {
         "data": [
          {
           "alignmentgroup": "True",
           "hoverlabel": {
            "namelength": 0
           },
           "hovertemplate": "Period=G2<br>Name=%{x}<br>Count=%{y}",
           "legendgroup": "",
           "marker": {
            "color": "#636efa"
           },
           "name": "",
           "offsetgroup": "",
           "orientation": "v",
           "showlegend": false,
           "textposition": "auto",
           "type": "bar",
           "x": [
            "fail",
            "Sufficient",
            "Satisfactory",
            "Good",
            "Excellent"
           ],
           "xaxis": "x",
           "y": [
            145,
            186,
            166,
            92,
            60
           ],
           "yaxis": "y"
          }
         ],
         "name": "G2"
        },
        {
         "data": [
          {
           "alignmentgroup": "True",
           "hoverlabel": {
            "namelength": 0
           },
           "hovertemplate": "Period=G3<br>Name=%{x}<br>Count=%{y}",
           "legendgroup": "",
           "marker": {
            "color": "#636efa"
           },
           "name": "",
           "offsetgroup": "",
           "orientation": "v",
           "showlegend": false,
           "textposition": "auto",
           "type": "bar",
           "x": [
            "fail",
            "Sufficient",
            "Satisfactory",
            "Good",
            "Excellent"
           ],
           "xaxis": "x",
           "y": [
            100,
            201,
            154,
            112,
            82
           ],
           "yaxis": "y"
          }
         ],
         "name": "G3"
        }
       ],
       "layout": {
        "barmode": "relative",
        "height": 600,
        "legend": {
         "tracegroupgap": 0
        },
        "margin": {
         "t": 60
        },
        "sliders": [
         {
          "active": 0,
          "currentvalue": {
           "prefix": "Period="
          },
          "len": 0.9,
          "pad": {
           "b": 10,
           "t": 60
          },
          "steps": [
           {
            "args": [
             [
              "G1"
             ],
             {
              "frame": {
               "duration": 0,
               "redraw": true
              },
              "fromcurrent": true,
              "mode": "immediate",
              "transition": {
               "duration": 0,
               "easing": "linear"
              }
             }
            ],
            "label": "G1",
            "method": "animate"
           },
           {
            "args": [
             [
              "G2"
             ],
             {
              "frame": {
               "duration": 0,
               "redraw": true
              },
              "fromcurrent": true,
              "mode": "immediate",
              "transition": {
               "duration": 0,
               "easing": "linear"
              }
             }
            ],
            "label": "G2",
            "method": "animate"
           },
           {
            "args": [
             [
              "G3"
             ],
             {
              "frame": {
               "duration": 0,
               "redraw": true
              },
              "fromcurrent": true,
              "mode": "immediate",
              "transition": {
               "duration": 0,
               "easing": "linear"
              }
             }
            ],
            "label": "G3",
            "method": "animate"
           }
          ],
          "x": 0.1,
          "xanchor": "left",
          "y": 0,
          "yanchor": "top"
         }
        ],
        "template": {
         "data": {
          "bar": [
           {
            "error_x": {
             "color": "#2a3f5f"
            },
            "error_y": {
             "color": "#2a3f5f"
            },
            "marker": {
             "line": {
              "color": "#E5ECF6",
              "width": 0.5
             }
            },
            "type": "bar"
           }
          ],
          "barpolar": [
           {
            "marker": {
             "line": {
              "color": "#E5ECF6",
              "width": 0.5
             }
            },
            "type": "barpolar"
           }
          ],
          "carpet": [
           {
            "aaxis": {
             "endlinecolor": "#2a3f5f",
             "gridcolor": "white",
             "linecolor": "white",
             "minorgridcolor": "white",
             "startlinecolor": "#2a3f5f"
            },
            "baxis": {
             "endlinecolor": "#2a3f5f",
             "gridcolor": "white",
             "linecolor": "white",
             "minorgridcolor": "white",
             "startlinecolor": "#2a3f5f"
            },
            "type": "carpet"
           }
          ],
          "choropleth": [
           {
            "colorbar": {
             "outlinewidth": 0,
             "ticks": ""
            },
            "type": "choropleth"
           }
          ],
          "contour": [
           {
            "colorbar": {
             "outlinewidth": 0,
             "ticks": ""
            },
            "colorscale": [
             [
              0,
              "#0d0887"
             ],
             [
              0.1111111111111111,
              "#46039f"
             ],
             [
              0.2222222222222222,
              "#7201a8"
             ],
             [
              0.3333333333333333,
              "#9c179e"
             ],
             [
              0.4444444444444444,
              "#bd3786"
             ],
             [
              0.5555555555555556,
              "#d8576b"
             ],
             [
              0.6666666666666666,
              "#ed7953"
             ],
             [
              0.7777777777777778,
              "#fb9f3a"
             ],
             [
              0.8888888888888888,
              "#fdca26"
             ],
             [
              1,
              "#f0f921"
             ]
            ],
            "type": "contour"
           }
          ],
          "contourcarpet": [
           {
            "colorbar": {
             "outlinewidth": 0,
             "ticks": ""
            },
            "type": "contourcarpet"
           }
          ],
          "heatmap": [
           {
            "colorbar": {
             "outlinewidth": 0,
             "ticks": ""
            },
            "colorscale": [
             [
              0,
              "#0d0887"
             ],
             [
              0.1111111111111111,
              "#46039f"
             ],
             [
              0.2222222222222222,
              "#7201a8"
             ],
             [
              0.3333333333333333,
              "#9c179e"
             ],
             [
              0.4444444444444444,
              "#bd3786"
             ],
             [
              0.5555555555555556,
              "#d8576b"
             ],
             [
              0.6666666666666666,
              "#ed7953"
             ],
             [
              0.7777777777777778,
              "#fb9f3a"
             ],
             [
              0.8888888888888888,
              "#fdca26"
             ],
             [
              1,
              "#f0f921"
             ]
            ],
            "type": "heatmap"
           }
          ],
          "heatmapgl": [
           {
            "colorbar": {
             "outlinewidth": 0,
             "ticks": ""
            },
            "colorscale": [
             [
              0,
              "#0d0887"
             ],
             [
              0.1111111111111111,
              "#46039f"
             ],
             [
              0.2222222222222222,
              "#7201a8"
             ],
             [
              0.3333333333333333,
              "#9c179e"
             ],
             [
              0.4444444444444444,
              "#bd3786"
             ],
             [
              0.5555555555555556,
              "#d8576b"
             ],
             [
              0.6666666666666666,
              "#ed7953"
             ],
             [
              0.7777777777777778,
              "#fb9f3a"
             ],
             [
              0.8888888888888888,
              "#fdca26"
             ],
             [
              1,
              "#f0f921"
             ]
            ],
            "type": "heatmapgl"
           }
          ],
          "histogram": [
           {
            "marker": {
             "colorbar": {
              "outlinewidth": 0,
              "ticks": ""
             }
            },
            "type": "histogram"
           }
          ],
          "histogram2d": [
           {
            "colorbar": {
             "outlinewidth": 0,
             "ticks": ""
            },
            "colorscale": [
             [
              0,
              "#0d0887"
             ],
             [
              0.1111111111111111,
              "#46039f"
             ],
             [
              0.2222222222222222,
              "#7201a8"
             ],
             [
              0.3333333333333333,
              "#9c179e"
             ],
             [
              0.4444444444444444,
              "#bd3786"
             ],
             [
              0.5555555555555556,
              "#d8576b"
             ],
             [
              0.6666666666666666,
              "#ed7953"
             ],
             [
              0.7777777777777778,
              "#fb9f3a"
             ],
             [
              0.8888888888888888,
              "#fdca26"
             ],
             [
              1,
              "#f0f921"
             ]
            ],
            "type": "histogram2d"
           }
          ],
          "histogram2dcontour": [
           {
            "colorbar": {
             "outlinewidth": 0,
             "ticks": ""
            },
            "colorscale": [
             [
              0,
              "#0d0887"
             ],
             [
              0.1111111111111111,
              "#46039f"
             ],
             [
              0.2222222222222222,
              "#7201a8"
             ],
             [
              0.3333333333333333,
              "#9c179e"
             ],
             [
              0.4444444444444444,
              "#bd3786"
             ],
             [
              0.5555555555555556,
              "#d8576b"
             ],
             [
              0.6666666666666666,
              "#ed7953"
             ],
             [
              0.7777777777777778,
              "#fb9f3a"
             ],
             [
              0.8888888888888888,
              "#fdca26"
             ],
             [
              1,
              "#f0f921"
             ]
            ],
            "type": "histogram2dcontour"
           }
          ],
          "mesh3d": [
           {
            "colorbar": {
             "outlinewidth": 0,
             "ticks": ""
            },
            "type": "mesh3d"
           }
          ],
          "parcoords": [
           {
            "line": {
             "colorbar": {
              "outlinewidth": 0,
              "ticks": ""
             }
            },
            "type": "parcoords"
           }
          ],
          "pie": [
           {
            "automargin": true,
            "type": "pie"
           }
          ],
          "scatter": [
           {
            "marker": {
             "colorbar": {
              "outlinewidth": 0,
              "ticks": ""
             }
            },
            "type": "scatter"
           }
          ],
          "scatter3d": [
           {
            "line": {
             "colorbar": {
              "outlinewidth": 0,
              "ticks": ""
             }
            },
            "marker": {
             "colorbar": {
              "outlinewidth": 0,
              "ticks": ""
             }
            },
            "type": "scatter3d"
           }
          ],
          "scattercarpet": [
           {
            "marker": {
             "colorbar": {
              "outlinewidth": 0,
              "ticks": ""
             }
            },
            "type": "scattercarpet"
           }
          ],
          "scattergeo": [
           {
            "marker": {
             "colorbar": {
              "outlinewidth": 0,
              "ticks": ""
             }
            },
            "type": "scattergeo"
           }
          ],
          "scattergl": [
           {
            "marker": {
             "colorbar": {
              "outlinewidth": 0,
              "ticks": ""
             }
            },
            "type": "scattergl"
           }
          ],
          "scattermapbox": [
           {
            "marker": {
             "colorbar": {
              "outlinewidth": 0,
              "ticks": ""
             }
            },
            "type": "scattermapbox"
           }
          ],
          "scatterpolar": [
           {
            "marker": {
             "colorbar": {
              "outlinewidth": 0,
              "ticks": ""
             }
            },
            "type": "scatterpolar"
           }
          ],
          "scatterpolargl": [
           {
            "marker": {
             "colorbar": {
              "outlinewidth": 0,
              "ticks": ""
             }
            },
            "type": "scatterpolargl"
           }
          ],
          "scatterternary": [
           {
            "marker": {
             "colorbar": {
              "outlinewidth": 0,
              "ticks": ""
             }
            },
            "type": "scatterternary"
           }
          ],
          "surface": [
           {
            "colorbar": {
             "outlinewidth": 0,
             "ticks": ""
            },
            "colorscale": [
             [
              0,
              "#0d0887"
             ],
             [
              0.1111111111111111,
              "#46039f"
             ],
             [
              0.2222222222222222,
              "#7201a8"
             ],
             [
              0.3333333333333333,
              "#9c179e"
             ],
             [
              0.4444444444444444,
              "#bd3786"
             ],
             [
              0.5555555555555556,
              "#d8576b"
             ],
             [
              0.6666666666666666,
              "#ed7953"
             ],
             [
              0.7777777777777778,
              "#fb9f3a"
             ],
             [
              0.8888888888888888,
              "#fdca26"
             ],
             [
              1,
              "#f0f921"
             ]
            ],
            "type": "surface"
           }
          ],
          "table": [
           {
            "cells": {
             "fill": {
              "color": "#EBF0F8"
             },
             "line": {
              "color": "white"
             }
            },
            "header": {
             "fill": {
              "color": "#C8D4E3"
             },
             "line": {
              "color": "white"
             }
            },
            "type": "table"
           }
          ]
         },
         "layout": {
          "annotationdefaults": {
           "arrowcolor": "#2a3f5f",
           "arrowhead": 0,
           "arrowwidth": 1
          },
          "coloraxis": {
           "colorbar": {
            "outlinewidth": 0,
            "ticks": ""
           }
          },
          "colorscale": {
           "diverging": [
            [
             0,
             "#8e0152"
            ],
            [
             0.1,
             "#c51b7d"
            ],
            [
             0.2,
             "#de77ae"
            ],
            [
             0.3,
             "#f1b6da"
            ],
            [
             0.4,
             "#fde0ef"
            ],
            [
             0.5,
             "#f7f7f7"
            ],
            [
             0.6,
             "#e6f5d0"
            ],
            [
             0.7,
             "#b8e186"
            ],
            [
             0.8,
             "#7fbc41"
            ],
            [
             0.9,
             "#4d9221"
            ],
            [
             1,
             "#276419"
            ]
           ],
           "sequential": [
            [
             0,
             "#0d0887"
            ],
            [
             0.1111111111111111,
             "#46039f"
            ],
            [
             0.2222222222222222,
             "#7201a8"
            ],
            [
             0.3333333333333333,
             "#9c179e"
            ],
            [
             0.4444444444444444,
             "#bd3786"
            ],
            [
             0.5555555555555556,
             "#d8576b"
            ],
            [
             0.6666666666666666,
             "#ed7953"
            ],
            [
             0.7777777777777778,
             "#fb9f3a"
            ],
            [
             0.8888888888888888,
             "#fdca26"
            ],
            [
             1,
             "#f0f921"
            ]
           ],
           "sequentialminus": [
            [
             0,
             "#0d0887"
            ],
            [
             0.1111111111111111,
             "#46039f"
            ],
            [
             0.2222222222222222,
             "#7201a8"
            ],
            [
             0.3333333333333333,
             "#9c179e"
            ],
            [
             0.4444444444444444,
             "#bd3786"
            ],
            [
             0.5555555555555556,
             "#d8576b"
            ],
            [
             0.6666666666666666,
             "#ed7953"
            ],
            [
             0.7777777777777778,
             "#fb9f3a"
            ],
            [
             0.8888888888888888,
             "#fdca26"
            ],
            [
             1,
             "#f0f921"
            ]
           ]
          },
          "colorway": [
           "#636efa",
           "#EF553B",
           "#00cc96",
           "#ab63fa",
           "#FFA15A",
           "#19d3f3",
           "#FF6692",
           "#B6E880",
           "#FF97FF",
           "#FECB52"
          ],
          "font": {
           "color": "#2a3f5f"
          },
          "geo": {
           "bgcolor": "white",
           "lakecolor": "white",
           "landcolor": "#E5ECF6",
           "showlakes": true,
           "showland": true,
           "subunitcolor": "white"
          },
          "hoverlabel": {
           "align": "left"
          },
          "hovermode": "closest",
          "mapbox": {
           "style": "light"
          },
          "paper_bgcolor": "white",
          "plot_bgcolor": "#E5ECF6",
          "polar": {
           "angularaxis": {
            "gridcolor": "white",
            "linecolor": "white",
            "ticks": ""
           },
           "bgcolor": "#E5ECF6",
           "radialaxis": {
            "gridcolor": "white",
            "linecolor": "white",
            "ticks": ""
           }
          },
          "scene": {
           "xaxis": {
            "backgroundcolor": "#E5ECF6",
            "gridcolor": "white",
            "gridwidth": 2,
            "linecolor": "white",
            "showbackground": true,
            "ticks": "",
            "zerolinecolor": "white"
           },
           "yaxis": {
            "backgroundcolor": "#E5ECF6",
            "gridcolor": "white",
            "gridwidth": 2,
            "linecolor": "white",
            "showbackground": true,
            "ticks": "",
            "zerolinecolor": "white"
           },
           "zaxis": {
            "backgroundcolor": "#E5ECF6",
            "gridcolor": "white",
            "gridwidth": 2,
            "linecolor": "white",
            "showbackground": true,
            "ticks": "",
            "zerolinecolor": "white"
           }
          },
          "shapedefaults": {
           "line": {
            "color": "#2a3f5f"
           }
          },
          "ternary": {
           "aaxis": {
            "gridcolor": "white",
            "linecolor": "white",
            "ticks": ""
           },
           "baxis": {
            "gridcolor": "white",
            "linecolor": "white",
            "ticks": ""
           },
           "bgcolor": "#E5ECF6",
           "caxis": {
            "gridcolor": "white",
            "linecolor": "white",
            "ticks": ""
           }
          },
          "title": {
           "x": 0.05
          },
          "xaxis": {
           "automargin": true,
           "gridcolor": "white",
           "linecolor": "white",
           "ticks": "",
           "title": {
            "standoff": 15
           },
           "zerolinecolor": "white",
           "zerolinewidth": 2
          },
          "yaxis": {
           "automargin": true,
           "gridcolor": "white",
           "linecolor": "white",
           "ticks": "",
           "title": {
            "standoff": 15
           },
           "zerolinecolor": "white",
           "zerolinewidth": 2
          }
         }
        },
        "title": {
         "text": "Evolution of grades"
        },
        "updatemenus": [
         {
          "buttons": [
           {
            "args": [
             null,
             {
              "frame": {
               "duration": 500,
               "redraw": true
              },
              "fromcurrent": true,
              "mode": "immediate",
              "transition": {
               "duration": 500,
               "easing": "linear"
              }
             }
            ],
            "label": "&#9654;",
            "method": "animate"
           },
           {
            "args": [
             [
              null
             ],
             {
              "frame": {
               "duration": 0,
               "redraw": true
              },
              "fromcurrent": true,
              "mode": "immediate",
              "transition": {
               "duration": 0,
               "easing": "linear"
              }
             }
            ],
            "label": "&#9724;",
            "method": "animate"
           }
          ],
          "direction": "left",
          "pad": {
           "r": 10,
           "t": 70
          },
          "showactive": false,
          "type": "buttons",
          "x": 0.1,
          "xanchor": "right",
          "y": 0,
          "yanchor": "top"
         }
        ],
        "xaxis": {
         "anchor": "y",
         "domain": [
          0,
          1
         ],
         "title": {
          "text": "Levels"
         }
        },
        "yaxis": {
         "anchor": "x",
         "domain": [
          0,
          1
         ],
         "title": {
          "text": "Count"
         }
        }
       }
      },
      "text/html": [
       "<div>\n",
       "        \n",
       "        \n",
       "            <div id=\"74da4e86-013a-41c1-b356-aa3dae39e791\" class=\"plotly-graph-div\" style=\"height:600px; width:100%;\"></div>\n",
       "            <script type=\"text/javascript\">\n",
       "                require([\"plotly\"], function(Plotly) {\n",
       "                    window.PLOTLYENV=window.PLOTLYENV || {};\n",
       "                    \n",
       "                if (document.getElementById(\"74da4e86-013a-41c1-b356-aa3dae39e791\")) {\n",
       "                    Plotly.newPlot(\n",
       "                        '74da4e86-013a-41c1-b356-aa3dae39e791',\n",
       "                        [{\"alignmentgroup\": \"True\", \"hoverlabel\": {\"namelength\": 0}, \"hovertemplate\": \"Period=G1<br>Name=%{x}<br>Count=%{y}\", \"legendgroup\": \"\", \"marker\": {\"color\": \"#636efa\"}, \"name\": \"\", \"offsetgroup\": \"\", \"orientation\": \"v\", \"showlegend\": false, \"textposition\": \"auto\", \"type\": \"bar\", \"x\": [\"fail\", \"Sufficient\", \"Satisfactory\", \"Good\", \"Excellent\"], \"xaxis\": \"x\", \"y\": [157, 186, 154, 106, 46], \"yaxis\": \"y\"}],\n",
       "                        {\"barmode\": \"relative\", \"height\": 600, \"legend\": {\"tracegroupgap\": 0}, \"margin\": {\"t\": 60}, \"sliders\": [{\"active\": 0, \"currentvalue\": {\"prefix\": \"Period=\"}, \"len\": 0.9, \"pad\": {\"b\": 10, \"t\": 60}, \"steps\": [{\"args\": [[\"G1\"], {\"frame\": {\"duration\": 0, \"redraw\": true}, \"fromcurrent\": true, \"mode\": \"immediate\", \"transition\": {\"duration\": 0, \"easing\": \"linear\"}}], \"label\": \"G1\", \"method\": \"animate\"}, {\"args\": [[\"G2\"], {\"frame\": {\"duration\": 0, \"redraw\": true}, \"fromcurrent\": true, \"mode\": \"immediate\", \"transition\": {\"duration\": 0, \"easing\": \"linear\"}}], \"label\": \"G2\", \"method\": \"animate\"}, {\"args\": [[\"G3\"], {\"frame\": {\"duration\": 0, \"redraw\": true}, \"fromcurrent\": true, \"mode\": \"immediate\", \"transition\": {\"duration\": 0, \"easing\": \"linear\"}}], \"label\": \"G3\", \"method\": \"animate\"}], \"x\": 0.1, \"xanchor\": \"left\", \"y\": 0, \"yanchor\": \"top\"}], \"template\": {\"data\": {\"bar\": [{\"error_x\": {\"color\": \"#2a3f5f\"}, \"error_y\": {\"color\": \"#2a3f5f\"}, \"marker\": {\"line\": {\"color\": \"#E5ECF6\", \"width\": 0.5}}, \"type\": \"bar\"}], \"barpolar\": [{\"marker\": {\"line\": {\"color\": \"#E5ECF6\", \"width\": 0.5}}, \"type\": \"barpolar\"}], \"carpet\": [{\"aaxis\": {\"endlinecolor\": \"#2a3f5f\", \"gridcolor\": \"white\", \"linecolor\": \"white\", \"minorgridcolor\": \"white\", \"startlinecolor\": \"#2a3f5f\"}, \"baxis\": {\"endlinecolor\": \"#2a3f5f\", \"gridcolor\": \"white\", \"linecolor\": \"white\", \"minorgridcolor\": \"white\", \"startlinecolor\": \"#2a3f5f\"}, \"type\": \"carpet\"}], \"choropleth\": [{\"colorbar\": {\"outlinewidth\": 0, \"ticks\": \"\"}, \"type\": \"choropleth\"}], \"contour\": [{\"colorbar\": {\"outlinewidth\": 0, \"ticks\": \"\"}, \"colorscale\": [[0.0, \"#0d0887\"], [0.1111111111111111, \"#46039f\"], [0.2222222222222222, \"#7201a8\"], [0.3333333333333333, \"#9c179e\"], [0.4444444444444444, \"#bd3786\"], [0.5555555555555556, \"#d8576b\"], [0.6666666666666666, \"#ed7953\"], [0.7777777777777778, \"#fb9f3a\"], [0.8888888888888888, \"#fdca26\"], [1.0, \"#f0f921\"]], \"type\": \"contour\"}], \"contourcarpet\": [{\"colorbar\": {\"outlinewidth\": 0, \"ticks\": \"\"}, \"type\": \"contourcarpet\"}], \"heatmap\": [{\"colorbar\": {\"outlinewidth\": 0, \"ticks\": \"\"}, \"colorscale\": [[0.0, \"#0d0887\"], [0.1111111111111111, \"#46039f\"], [0.2222222222222222, \"#7201a8\"], [0.3333333333333333, \"#9c179e\"], [0.4444444444444444, \"#bd3786\"], [0.5555555555555556, \"#d8576b\"], [0.6666666666666666, \"#ed7953\"], [0.7777777777777778, \"#fb9f3a\"], [0.8888888888888888, \"#fdca26\"], [1.0, \"#f0f921\"]], \"type\": \"heatmap\"}], \"heatmapgl\": [{\"colorbar\": {\"outlinewidth\": 0, \"ticks\": \"\"}, \"colorscale\": [[0.0, \"#0d0887\"], [0.1111111111111111, \"#46039f\"], [0.2222222222222222, \"#7201a8\"], [0.3333333333333333, \"#9c179e\"], [0.4444444444444444, \"#bd3786\"], [0.5555555555555556, \"#d8576b\"], [0.6666666666666666, \"#ed7953\"], [0.7777777777777778, \"#fb9f3a\"], [0.8888888888888888, \"#fdca26\"], [1.0, \"#f0f921\"]], \"type\": \"heatmapgl\"}], \"histogram\": [{\"marker\": {\"colorbar\": {\"outlinewidth\": 0, \"ticks\": \"\"}}, \"type\": \"histogram\"}], \"histogram2d\": [{\"colorbar\": {\"outlinewidth\": 0, \"ticks\": \"\"}, \"colorscale\": [[0.0, \"#0d0887\"], [0.1111111111111111, \"#46039f\"], [0.2222222222222222, \"#7201a8\"], [0.3333333333333333, \"#9c179e\"], [0.4444444444444444, \"#bd3786\"], [0.5555555555555556, \"#d8576b\"], [0.6666666666666666, \"#ed7953\"], [0.7777777777777778, \"#fb9f3a\"], [0.8888888888888888, \"#fdca26\"], [1.0, \"#f0f921\"]], \"type\": \"histogram2d\"}], \"histogram2dcontour\": [{\"colorbar\": {\"outlinewidth\": 0, \"ticks\": \"\"}, \"colorscale\": [[0.0, \"#0d0887\"], [0.1111111111111111, \"#46039f\"], [0.2222222222222222, \"#7201a8\"], [0.3333333333333333, \"#9c179e\"], [0.4444444444444444, \"#bd3786\"], [0.5555555555555556, \"#d8576b\"], [0.6666666666666666, \"#ed7953\"], [0.7777777777777778, \"#fb9f3a\"], [0.8888888888888888, \"#fdca26\"], [1.0, \"#f0f921\"]], \"type\": \"histogram2dcontour\"}], \"mesh3d\": [{\"colorbar\": {\"outlinewidth\": 0, \"ticks\": \"\"}, \"type\": \"mesh3d\"}], \"parcoords\": [{\"line\": {\"colorbar\": {\"outlinewidth\": 0, \"ticks\": \"\"}}, \"type\": \"parcoords\"}], \"pie\": [{\"automargin\": true, \"type\": \"pie\"}], \"scatter\": [{\"marker\": {\"colorbar\": {\"outlinewidth\": 0, \"ticks\": \"\"}}, \"type\": \"scatter\"}], \"scatter3d\": [{\"line\": {\"colorbar\": {\"outlinewidth\": 0, \"ticks\": \"\"}}, \"marker\": {\"colorbar\": {\"outlinewidth\": 0, \"ticks\": \"\"}}, \"type\": \"scatter3d\"}], \"scattercarpet\": [{\"marker\": {\"colorbar\": {\"outlinewidth\": 0, \"ticks\": \"\"}}, \"type\": \"scattercarpet\"}], \"scattergeo\": [{\"marker\": {\"colorbar\": {\"outlinewidth\": 0, \"ticks\": \"\"}}, \"type\": \"scattergeo\"}], \"scattergl\": [{\"marker\": {\"colorbar\": {\"outlinewidth\": 0, \"ticks\": \"\"}}, \"type\": \"scattergl\"}], \"scattermapbox\": [{\"marker\": {\"colorbar\": {\"outlinewidth\": 0, \"ticks\": \"\"}}, \"type\": \"scattermapbox\"}], \"scatterpolar\": [{\"marker\": {\"colorbar\": {\"outlinewidth\": 0, \"ticks\": \"\"}}, \"type\": \"scatterpolar\"}], \"scatterpolargl\": [{\"marker\": {\"colorbar\": {\"outlinewidth\": 0, \"ticks\": \"\"}}, \"type\": \"scatterpolargl\"}], \"scatterternary\": [{\"marker\": {\"colorbar\": {\"outlinewidth\": 0, \"ticks\": \"\"}}, \"type\": \"scatterternary\"}], \"surface\": [{\"colorbar\": {\"outlinewidth\": 0, \"ticks\": \"\"}, \"colorscale\": [[0.0, \"#0d0887\"], [0.1111111111111111, \"#46039f\"], [0.2222222222222222, \"#7201a8\"], [0.3333333333333333, \"#9c179e\"], [0.4444444444444444, \"#bd3786\"], [0.5555555555555556, \"#d8576b\"], [0.6666666666666666, \"#ed7953\"], [0.7777777777777778, \"#fb9f3a\"], [0.8888888888888888, \"#fdca26\"], [1.0, \"#f0f921\"]], \"type\": \"surface\"}], \"table\": [{\"cells\": {\"fill\": {\"color\": \"#EBF0F8\"}, \"line\": {\"color\": \"white\"}}, \"header\": {\"fill\": {\"color\": \"#C8D4E3\"}, \"line\": {\"color\": \"white\"}}, \"type\": \"table\"}]}, \"layout\": {\"annotationdefaults\": {\"arrowcolor\": \"#2a3f5f\", \"arrowhead\": 0, \"arrowwidth\": 1}, \"coloraxis\": {\"colorbar\": {\"outlinewidth\": 0, \"ticks\": \"\"}}, \"colorscale\": {\"diverging\": [[0, \"#8e0152\"], [0.1, \"#c51b7d\"], [0.2, \"#de77ae\"], [0.3, \"#f1b6da\"], [0.4, \"#fde0ef\"], [0.5, \"#f7f7f7\"], [0.6, \"#e6f5d0\"], [0.7, \"#b8e186\"], [0.8, \"#7fbc41\"], [0.9, \"#4d9221\"], [1, \"#276419\"]], \"sequential\": [[0.0, \"#0d0887\"], [0.1111111111111111, \"#46039f\"], [0.2222222222222222, \"#7201a8\"], [0.3333333333333333, \"#9c179e\"], [0.4444444444444444, \"#bd3786\"], [0.5555555555555556, \"#d8576b\"], [0.6666666666666666, \"#ed7953\"], [0.7777777777777778, \"#fb9f3a\"], [0.8888888888888888, \"#fdca26\"], [1.0, \"#f0f921\"]], \"sequentialminus\": [[0.0, \"#0d0887\"], [0.1111111111111111, \"#46039f\"], [0.2222222222222222, \"#7201a8\"], [0.3333333333333333, \"#9c179e\"], [0.4444444444444444, \"#bd3786\"], [0.5555555555555556, \"#d8576b\"], [0.6666666666666666, \"#ed7953\"], [0.7777777777777778, \"#fb9f3a\"], [0.8888888888888888, \"#fdca26\"], [1.0, \"#f0f921\"]]}, \"colorway\": [\"#636efa\", \"#EF553B\", \"#00cc96\", \"#ab63fa\", \"#FFA15A\", \"#19d3f3\", \"#FF6692\", \"#B6E880\", \"#FF97FF\", \"#FECB52\"], \"font\": {\"color\": \"#2a3f5f\"}, \"geo\": {\"bgcolor\": \"white\", \"lakecolor\": \"white\", \"landcolor\": \"#E5ECF6\", \"showlakes\": true, \"showland\": true, \"subunitcolor\": \"white\"}, \"hoverlabel\": {\"align\": \"left\"}, \"hovermode\": \"closest\", \"mapbox\": {\"style\": \"light\"}, \"paper_bgcolor\": \"white\", \"plot_bgcolor\": \"#E5ECF6\", \"polar\": {\"angularaxis\": {\"gridcolor\": \"white\", \"linecolor\": \"white\", \"ticks\": \"\"}, \"bgcolor\": \"#E5ECF6\", \"radialaxis\": {\"gridcolor\": \"white\", \"linecolor\": \"white\", \"ticks\": \"\"}}, \"scene\": {\"xaxis\": {\"backgroundcolor\": \"#E5ECF6\", \"gridcolor\": \"white\", \"gridwidth\": 2, \"linecolor\": \"white\", \"showbackground\": true, \"ticks\": \"\", \"zerolinecolor\": \"white\"}, \"yaxis\": {\"backgroundcolor\": \"#E5ECF6\", \"gridcolor\": \"white\", \"gridwidth\": 2, \"linecolor\": \"white\", \"showbackground\": true, \"ticks\": \"\", \"zerolinecolor\": \"white\"}, \"zaxis\": {\"backgroundcolor\": \"#E5ECF6\", \"gridcolor\": \"white\", \"gridwidth\": 2, \"linecolor\": \"white\", \"showbackground\": true, \"ticks\": \"\", \"zerolinecolor\": \"white\"}}, \"shapedefaults\": {\"line\": {\"color\": \"#2a3f5f\"}}, \"ternary\": {\"aaxis\": {\"gridcolor\": \"white\", \"linecolor\": \"white\", \"ticks\": \"\"}, \"baxis\": {\"gridcolor\": \"white\", \"linecolor\": \"white\", \"ticks\": \"\"}, \"bgcolor\": \"#E5ECF6\", \"caxis\": {\"gridcolor\": \"white\", \"linecolor\": \"white\", \"ticks\": \"\"}}, \"title\": {\"x\": 0.05}, \"xaxis\": {\"automargin\": true, \"gridcolor\": \"white\", \"linecolor\": \"white\", \"ticks\": \"\", \"title\": {\"standoff\": 15}, \"zerolinecolor\": \"white\", \"zerolinewidth\": 2}, \"yaxis\": {\"automargin\": true, \"gridcolor\": \"white\", \"linecolor\": \"white\", \"ticks\": \"\", \"title\": {\"standoff\": 15}, \"zerolinecolor\": \"white\", \"zerolinewidth\": 2}}}, \"title\": {\"text\": \"Evolution of grades\"}, \"updatemenus\": [{\"buttons\": [{\"args\": [null, {\"frame\": {\"duration\": 500, \"redraw\": true}, \"fromcurrent\": true, \"mode\": \"immediate\", \"transition\": {\"duration\": 500, \"easing\": \"linear\"}}], \"label\": \"&#9654;\", \"method\": \"animate\"}, {\"args\": [[null], {\"frame\": {\"duration\": 0, \"redraw\": true}, \"fromcurrent\": true, \"mode\": \"immediate\", \"transition\": {\"duration\": 0, \"easing\": \"linear\"}}], \"label\": \"&#9724;\", \"method\": \"animate\"}], \"direction\": \"left\", \"pad\": {\"r\": 10, \"t\": 70}, \"showactive\": false, \"type\": \"buttons\", \"x\": 0.1, \"xanchor\": \"right\", \"y\": 0, \"yanchor\": \"top\"}], \"xaxis\": {\"anchor\": \"y\", \"domain\": [0.0, 1.0], \"title\": {\"text\": \"Levels\"}}, \"yaxis\": {\"anchor\": \"x\", \"domain\": [0.0, 1.0], \"title\": {\"text\": \"Count\"}}},\n",
       "                        {\"responsive\": true}\n",
       "                    ).then(function(){\n",
       "                            Plotly.addFrames('74da4e86-013a-41c1-b356-aa3dae39e791', [{\"data\": [{\"alignmentgroup\": \"True\", \"hoverlabel\": {\"namelength\": 0}, \"hovertemplate\": \"Period=G1<br>Name=%{x}<br>Count=%{y}\", \"legendgroup\": \"\", \"marker\": {\"color\": \"#636efa\"}, \"name\": \"\", \"offsetgroup\": \"\", \"orientation\": \"v\", \"showlegend\": false, \"textposition\": \"auto\", \"x\": [\"fail\", \"Sufficient\", \"Satisfactory\", \"Good\", \"Excellent\"], \"xaxis\": \"x\", \"y\": [157, 186, 154, 106, 46], \"yaxis\": \"y\", \"type\": \"bar\"}], \"name\": \"G1\"}, {\"data\": [{\"alignmentgroup\": \"True\", \"hoverlabel\": {\"namelength\": 0}, \"hovertemplate\": \"Period=G2<br>Name=%{x}<br>Count=%{y}\", \"legendgroup\": \"\", \"marker\": {\"color\": \"#636efa\"}, \"name\": \"\", \"offsetgroup\": \"\", \"orientation\": \"v\", \"showlegend\": false, \"textposition\": \"auto\", \"x\": [\"fail\", \"Sufficient\", \"Satisfactory\", \"Good\", \"Excellent\"], \"xaxis\": \"x\", \"y\": [145, 186, 166, 92, 60], \"yaxis\": \"y\", \"type\": \"bar\"}], \"name\": \"G2\"}, {\"data\": [{\"alignmentgroup\": \"True\", \"hoverlabel\": {\"namelength\": 0}, \"hovertemplate\": \"Period=G3<br>Name=%{x}<br>Count=%{y}\", \"legendgroup\": \"\", \"marker\": {\"color\": \"#636efa\"}, \"name\": \"\", \"offsetgroup\": \"\", \"orientation\": \"v\", \"showlegend\": false, \"textposition\": \"auto\", \"x\": [\"fail\", \"Sufficient\", \"Satisfactory\", \"Good\", \"Excellent\"], \"xaxis\": \"x\", \"y\": [100, 201, 154, 112, 82], \"yaxis\": \"y\", \"type\": \"bar\"}], \"name\": \"G3\"}]);\n",
       "                        }).then(function(){\n",
       "                            \n",
       "var gd = document.getElementById('74da4e86-013a-41c1-b356-aa3dae39e791');\n",
       "var x = new MutationObserver(function (mutations, observer) {{\n",
       "        var display = window.getComputedStyle(gd).display;\n",
       "        if (!display || display === 'none') {{\n",
       "            console.log([gd, 'removed!']);\n",
       "            Plotly.purge(gd);\n",
       "            observer.disconnect();\n",
       "        }}\n",
       "}});\n",
       "\n",
       "// Listen for the removal of the full notebook cells\n",
       "var notebookContainer = gd.closest('#notebook-container');\n",
       "if (notebookContainer) {{\n",
       "    x.observe(notebookContainer, {childList: true});\n",
       "}}\n",
       "\n",
       "// Listen for the clearing of the current output cell\n",
       "var outputEl = gd.closest('.output');\n",
       "if (outputEl) {{\n",
       "    x.observe(outputEl, {childList: true});\n",
       "}}\n",
       "\n",
       "                        })\n",
       "                };\n",
       "                });\n",
       "            </script>\n",
       "        </div>"
      ]
     },
     "metadata": {},
     "output_type": "display_data"
    }
   ],
   "source": [
    "fig = px.bar(barchart, x=\"Name\", y=\"Count\",\n",
    "            animation_frame='Period', height=600)\n",
    "\n",
    "fig.update_layout(title_text='Evolution of grades', \n",
    "                  xaxis_title=\"Levels\",\n",
    "                  yaxis_title=\"Count\")\n",
    "fig.show()"
   ]
  },
  {
   "cell_type": "markdown",
   "metadata": {},
   "source": [
    "Thanks to this graph, we can see that the distribution of grades goes progressively from left to right, with a global center of distribution going to the right."
   ]
  },
  {
   "cell_type": "code",
   "execution_count": 60,
   "metadata": {},
   "outputs": [
    {
     "data": {
      "text/html": [
       "<style scoped>\n",
       "  .ansiout {\n",
       "    display: block;\n",
       "    unicode-bidi: embed;\n",
       "    white-space: pre-wrap;\n",
       "    word-wrap: break-word;\n",
       "    word-break: break-all;\n",
       "    font-family: \"Source Code Pro\", \"Menlo\", monospace;;\n",
       "    font-size: 13px;\n",
       "    color: #555;\n",
       "    margin-left: 4px;\n",
       "    line-height: 19px;\n",
       "  }\n",
       "</style>\n",
       "<div class=\"ansiout\"></div>"
      ]
     },
     "metadata": {},
     "output_type": "display_data"
    }
   ],
   "source": [
    "# Re-renaming variables\n",
    "df = df.rename(columns={\"Father's job\": \"Fjob\"})\n",
    "\n",
    "# Create dummies for categorical variables\n",
    "dummies = pd.get_dummies(df[catVar])"
   ]
  },
  {
   "cell_type": "code",
   "execution_count": 61,
   "metadata": {},
   "outputs": [
    {
     "data": {
      "text/html": [
       "<style scoped>\n",
       "  .ansiout {\n",
       "    display: block;\n",
       "    unicode-bidi: embed;\n",
       "    white-space: pre-wrap;\n",
       "    word-wrap: break-word;\n",
       "    word-break: break-all;\n",
       "    font-family: \"Source Code Pro\", \"Menlo\", monospace;;\n",
       "    font-size: 13px;\n",
       "    color: #555;\n",
       "    margin-left: 4px;\n",
       "    line-height: 19px;\n",
       "  }\n",
       "</style>\n",
       "<div class=\"ansiout\">Out[31]: age                   int32\n",
       "Medu                  int32\n",
       "Fedu                  int32\n",
       "traveltime            int32\n",
       "studytime             int32\n",
       "failures              int32\n",
       "famrel                int32\n",
       "freetime              int32\n",
       "goout                 int32\n",
       "Dalc                  int32\n",
       "Walc                  int32\n",
       "health                int32\n",
       "absences              int32\n",
       "G1                    int32\n",
       "G2                    int32\n",
       "G3                    int32\n",
       "schoolsup             int64\n",
       "famsup                int64\n",
       "paid                  int64\n",
       "activities            int64\n",
       "nursery               int64\n",
       "higher                int64\n",
       "internet              int64\n",
       "romantic              int64\n",
       "school_GP             uint8\n",
       "school_MS             uint8\n",
       "sex_F                 uint8\n",
       "sex_M                 uint8\n",
       "address_R             uint8\n",
       "address_U             uint8\n",
       "famsize_GT3           uint8\n",
       "famsize_LE3           uint8\n",
       "Pstatus_A             uint8\n",
       "Pstatus_T             uint8\n",
       "Mjob_at_home          uint8\n",
       "Mjob_health           uint8\n",
       "Mjob_other            uint8\n",
       "Mjob_services         uint8\n",
       "Mjob_teacher          uint8\n",
       "Fjob_at_home          uint8\n",
       "Fjob_health           uint8\n",
       "Fjob_other            uint8\n",
       "Fjob_services         uint8\n",
       "Fjob_teacher          uint8\n",
       "reason_course         uint8\n",
       "reason_home           uint8\n",
       "reason_other          uint8\n",
       "reason_reputation     uint8\n",
       "guardian_father       uint8\n",
       "guardian_mother       uint8\n",
       "guardian_other        uint8\n",
       "G1_discret           object\n",
       "G2_discret           object\n",
       "G3_discret           object\n",
       "dtype: object</div>"
      ]
     },
     "metadata": {},
     "output_type": "display_data"
    }
   ],
   "source": [
    "dfModel = df[numVar].join(dummies, lsuffix='_caller', rsuffix='_other')\n",
    "dfModel = dfModel.join(df['G1_discret'], lsuffix='_caller', rsuffix='_other')\n",
    "dfModel = dfModel.join(df['G2_discret'], lsuffix='_caller', rsuffix='_other')\n",
    "dfModel = dfModel.join(df['G3_discret'], lsuffix='_caller', rsuffix='_other')\n",
    "dfModel.dtypes"
   ]
  },
  {
   "cell_type": "markdown",
   "metadata": {},
   "source": [
    "# Exploratory Analysis on Spark\n",
    "\n",
    "Here we will continue to explore our data, using aggregation functions to get some numbers that will enable to understand lower and higher grades."
   ]
  },
  {
   "cell_type": "code",
   "execution_count": 63,
   "metadata": {},
   "outputs": [
    {
     "data": {
      "text/html": [
       "<style scoped>\n",
       "  .ansiout {\n",
       "    display: block;\n",
       "    unicode-bidi: embed;\n",
       "    white-space: pre-wrap;\n",
       "    word-wrap: break-word;\n",
       "    word-break: break-all;\n",
       "    font-family: \"Source Code Pro\", \"Menlo\", monospace;;\n",
       "    font-size: 13px;\n",
       "    color: #555;\n",
       "    margin-left: 4px;\n",
       "    line-height: 19px;\n",
       "  }\n",
       "</style>\n",
       "<div class=\"ansiout\"></div>"
      ]
     },
     "metadata": {},
     "output_type": "display_data"
    }
   ],
   "source": [
    "df = spark.read\\\n",
    ".format(\"csv\")\\\n",
    ".option(\"header\", \"true\")\\\n",
    ".option(\"sep\", \";\")\\\n",
    ".option(\"inferSchema\", \"true\")\\\n",
    ".load(\"/FileStore/tables/student_por-3edc6.csv\")"
   ]
  },
  {
   "cell_type": "code",
   "execution_count": 64,
   "metadata": {},
   "outputs": [
    {
     "data": {
      "text/html": [
       "<style scoped>\n",
       "  .ansiout {\n",
       "    display: block;\n",
       "    unicode-bidi: embed;\n",
       "    white-space: pre-wrap;\n",
       "    word-wrap: break-word;\n",
       "    word-break: break-all;\n",
       "    font-family: \"Source Code Pro\", \"Menlo\", monospace;;\n",
       "    font-size: 13px;\n",
       "    color: #555;\n",
       "    margin-left: 4px;\n",
       "    line-height: 19px;\n",
       "  }\n",
       "</style>\n",
       "<div class=\"ansiout\"></div>"
      ]
     },
     "metadata": {},
     "output_type": "display_data"
    }
   ],
   "source": [
    "# We just add an index starting at 0\n",
    "df = df.withColumn(\"id\", \n",
    "                   row_number().over(Window.orderBy(monotonically_increasing_id())) - 1\n",
    ")\n",
    "\n",
    "# We move it to first position\n",
    "df = df.select([df.columns[-1]] + df.columns[:-1])"
   ]
  },
  {
   "cell_type": "code",
   "execution_count": 65,
   "metadata": {},
   "outputs": [
    {
     "data": {
      "text/html": [
       "<style scoped>\n",
       "  .ansiout {\n",
       "    display: block;\n",
       "    unicode-bidi: embed;\n",
       "    white-space: pre-wrap;\n",
       "    word-wrap: break-word;\n",
       "    word-break: break-all;\n",
       "    font-family: \"Source Code Pro\", \"Menlo\", monospace;;\n",
       "    font-size: 13px;\n",
       "    color: #555;\n",
       "    margin-left: 4px;\n",
       "    line-height: 19px;\n",
       "  }\n",
       "</style>\n",
       "<div class=\"ansiout\">dataframe col types:  [[StringType, 17], [IntegerType, 17]]\n",
       "</div>"
      ]
     },
     "metadata": {},
     "output_type": "display_data"
    }
   ],
   "source": [
    "# Basic information\n",
    "l = [f.dataType for f in df.schema.fields]\n",
    "print('dataframe col types: ', [[x, l.count(x)] for x in set(l)])"
   ]
  },
  {
   "cell_type": "markdown",
   "metadata": {},
   "source": [
    "#### Let's start with simple countings for some qualitative variables"
   ]
  },
  {
   "cell_type": "code",
   "execution_count": 67,
   "metadata": {},
   "outputs": [
    {
     "data": {
      "text/html": [
       "<style scoped>\n",
       "  .ansiout {\n",
       "    display: block;\n",
       "    unicode-bidi: embed;\n",
       "    white-space: pre-wrap;\n",
       "    word-wrap: break-word;\n",
       "    word-break: break-all;\n",
       "    font-family: \"Source Code Pro\", \"Menlo\", monospace;;\n",
       "    font-size: 13px;\n",
       "    color: #555;\n",
       "    margin-left: 4px;\n",
       "    line-height: 19px;\n",
       "  }\n",
       "</style>\n",
       "<div class=\"ansiout\">More students go to Gabriel Pereira school\n",
       "+------+-----+\n",
       "school|count|\n",
       "+------+-----+\n",
       "    MS|  226|\n",
       "    GP|  423|\n",
       "+------+-----+\n",
       "\n",
       "There are more girls than boys in both schools\n",
       "+------+---+-----+\n",
       "school|sex|count|\n",
       "+------+---+-----+\n",
       "    GP|  M|  186|\n",
       "    GP|  F|  237|\n",
       "    MS|  M|   80|\n",
       "    MS|  F|  146|\n",
       "+------+---+-----+\n",
       "\n",
       "Very few students are over 18\n",
       "+---+-----+\n",
       "age|count|\n",
       "+---+-----+\n",
       " 15|  112|\n",
       " 16|  177|\n",
       " 17|  179|\n",
       " 18|  140|\n",
       " 19|   32|\n",
       " 20|    6|\n",
       " 21|    2|\n",
       " 22|    1|\n",
       "+---+-----+\n",
       "\n",
       "Most of the students live in an urban (rather than rural) area\n",
       "+-------+-----+\n",
       "address|count|\n",
       "+-------+-----+\n",
       "      U|  452|\n",
       "      R|  197|\n",
       "+-------+-----+\n",
       "\n",
       "The majority of students come from a numerous family (greater than 3 members)\n",
       "+-------+-----+\n",
       "famsize|count|\n",
       "+-------+-----+\n",
       "    LE3|  192|\n",
       "    GT3|  457|\n",
       "+-------+-----+\n",
       "\n",
       "</div>"
      ]
     },
     "metadata": {},
     "output_type": "display_data"
    }
   ],
   "source": [
    "# School\n",
    "print(\"More students go to Gabriel Pereira school\")\n",
    "df.groupBy('school').count().show()\n",
    "\n",
    "# Sex\n",
    "print(\"There are more girls than boys in both schools\")\n",
    "df.groupBy('school', 'sex').count().orderBy('school').show()\n",
    "\n",
    "# Age\n",
    "print(\"Very few students are over 18\")\n",
    "df.groupBy('age').count().orderBy('age').show()\n",
    "\n",
    "# Adress\n",
    "print(\"Most of the students live in an urban (rather than rural) area\")\n",
    "df.groupBy('address').count().show()\n",
    "\n",
    "# Family size\n",
    "print(\"The majority of students come from a numerous family (greater than 3 members)\")\n",
    "df.groupBy('famsize').count().show()"
   ]
  },
  {
   "cell_type": "code",
   "execution_count": 68,
   "metadata": {},
   "outputs": [
    {
     "data": {
      "text/html": [
       "<style scoped>\n",
       "  .ansiout {\n",
       "    display: block;\n",
       "    unicode-bidi: embed;\n",
       "    white-space: pre-wrap;\n",
       "    word-wrap: break-word;\n",
       "    word-break: break-all;\n",
       "    font-family: \"Source Code Pro\", \"Menlo\", monospace;;\n",
       "    font-size: 13px;\n",
       "    color: #555;\n",
       "    margin-left: 4px;\n",
       "    line-height: 19px;\n",
       "  }\n",
       "</style>\n",
       "<div class=\"ansiout\">Among younger students, fewer of them are in a relationship\n",
       "+---+--------+-----------+-----------+\n",
       "age|romantic|nb_romantic|prop_by_age|\n",
       "+---+--------+-----------+-----------+\n",
       " 15|      no|         84|      75.00|\n",
       " 15|     yes|         28|      25.00|\n",
       " 16|      no|        122|      68.93|\n",
       " 16|     yes|         55|      31.07|\n",
       " 17|      no|        109|      60.89|\n",
       " 17|     yes|         70|      39.11|\n",
       " 18|      no|         76|      54.29|\n",
       " 18|     yes|         64|      45.71|\n",
       " 19|      no|         17|      53.13|\n",
       " 19|     yes|         15|      46.88|\n",
       " 20|      no|          1|      16.67|\n",
       " 20|     yes|          5|      83.33|\n",
       " 21|      no|          1|      50.00|\n",
       " 21|     yes|          1|      50.00|\n",
       " 22|     yes|          1|     100.00|\n",
       "+---+--------+-----------+-----------+\n",
       "\n",
       "</div>"
      ]
     },
     "metadata": {},
     "output_type": "display_data"
    }
   ],
   "source": [
    "# Romantic\n",
    "print(\"Among younger students, fewer of them are in a relationship\")\n",
    "query_string = \"WITH t1 AS \\\n",
    "(SELECT age, romantic, COUNT(romantic) AS nb_romantic \\\n",
    "FROM new_view \\\n",
    "GROUP BY age, romantic) \\\n",
    "SELECT age, romantic, nb_romantic, \\\n",
    "ROUND((0.0 + nb_romantic)/(SUM(nb_romantic) OVER (PARTITION BY age)) * 100, 2) as prop_by_age \\\n",
    "FROM t1 \\\n",
    "ORDER BY age, romantic\"\n",
    "\n",
    "df.createOrReplaceTempView(\"new_view\") # creates a local temporary table accessible by a SQL query\n",
    "spark.sql(query_string).show()"
   ]
  },
  {
   "cell_type": "markdown",
   "metadata": {},
   "source": [
    "### Some results about the target variable G3 and how other variables relate to it\n",
    "\n",
    "G3: final grade (numeric: from 0 to 20, output target)"
   ]
  },
  {
   "cell_type": "code",
   "execution_count": 70,
   "metadata": {},
   "outputs": [
    {
     "data": {
      "text/html": [
       "<style scoped>\n",
       "  .ansiout {\n",
       "    display: block;\n",
       "    unicode-bidi: embed;\n",
       "    white-space: pre-wrap;\n",
       "    word-wrap: break-word;\n",
       "    word-break: break-all;\n",
       "    font-family: \"Source Code Pro\", \"Menlo\", monospace;;\n",
       "    font-size: 13px;\n",
       "    color: #555;\n",
       "    margin-left: 4px;\n",
       "    line-height: 19px;\n",
       "  }\n",
       "</style>\n",
       "<div class=\"ansiout\">+---------------+---------------+---------------+\n",
       "min_final_grade|max_final_grade|avg_final_grade|\n",
       "+---------------+---------------+---------------+\n",
       "              0|             19|          11.91|\n",
       "+---------------+---------------+---------------+\n",
       "\n",
       "+---+---------------+---------------+---------------+\n",
       "sex|min_final_grade|max_final_grade|avg_final_grade|\n",
       "+---+---------------+---------------+---------------+\n",
       "  F|              0|             19|          12.25|\n",
       "  M|              0|             19|          11.41|\n",
       "+---+---------------+---------------+---------------+\n",
       "\n",
       "</div>"
      ]
     },
     "metadata": {},
     "output_type": "display_data"
    }
   ],
   "source": [
    "# General\n",
    "df.agg(\n",
    "  fn.min('G3').alias('min_final_grade'),\n",
    "  fn.max('G3').alias('max_final_grade'),\n",
    "  fn.round(fn.avg('G3'), 2).alias('avg_final_grade')).show()\n",
    "\n",
    "# Sex\n",
    "result_1b = df.groupBy('sex').agg(\n",
    "  fn.min('G3').alias('min_final_grade'),\n",
    "  fn.max('G3').alias('max_final_grade'),\n",
    "  fn.round(fn.avg('G3'), 2).alias('avg_final_grade'))\n",
    "result_1b.show()"
   ]
  },
  {
   "cell_type": "code",
   "execution_count": 71,
   "metadata": {},
   "outputs": [
    {
     "data": {
      "text/html": [
       "<style scoped>\n",
       "  .ansiout {\n",
       "    display: block;\n",
       "    unicode-bidi: embed;\n",
       "    white-space: pre-wrap;\n",
       "    word-wrap: break-word;\n",
       "    word-break: break-all;\n",
       "    font-family: \"Source Code Pro\", \"Menlo\", monospace;;\n",
       "    font-size: 13px;\n",
       "    color: #555;\n",
       "    margin-left: 4px;\n",
       "    line-height: 19px;\n",
       "  }\n",
       "</style>\n",
       "<div class=\"ansiout\"></div>"
      ]
     },
     "metadata": {},
     "output_type": "display_data"
    }
   ],
   "source": [
    "# We can add a final grade range column so that it is easier to see things\n",
    "# Notation goes from 0 to 20 so partition is based on the French system\n",
    "grade_range = fn.when(df.G3 <= 9, \"[0, 9]\")\\\n",
    "  .when(df.G3 <= 13, \"[10, 13]\")\\\n",
    "  .when(df.G3 <= 15, \"[14, 15]\")\\\n",
    "  .otherwise('[16, 20]')\n",
    "\n",
    "df = df.withColumn(\"grade_range\", grade_range)"
   ]
  },
  {
   "cell_type": "code",
   "execution_count": 72,
   "metadata": {},
   "outputs": [
    {
     "data": {
      "text/html": [
       "<style scoped>\n",
       "  .ansiout {\n",
       "    display: block;\n",
       "    unicode-bidi: embed;\n",
       "    white-space: pre-wrap;\n",
       "    word-wrap: break-word;\n",
       "    word-break: break-all;\n",
       "    font-family: \"Source Code Pro\", \"Menlo\", monospace;;\n",
       "    font-size: 13px;\n",
       "    color: #555;\n",
       "    margin-left: 4px;\n",
       "    line-height: 19px;\n",
       "  }\n",
       "</style>\n",
       "<div class=\"ansiout\">Most of the student&#39;s final grades are between 10 and 13\n",
       "+-----------+-----+\n",
       "grade_range|count|\n",
       "+-----------+-----+\n",
       "     [0, 9]|  100|\n",
       "   [10, 13]|  355|\n",
       "   [14, 15]|  112|\n",
       "   [16, 20]|   82|\n",
       "+-----------+-----+\n",
       "\n",
       "</div>"
      ]
     },
     "metadata": {},
     "output_type": "display_data"
    }
   ],
   "source": [
    "# Simple count grade ranges\n",
    "print(\"Most of the student's final grades are between 10 and 13\")\n",
    "df.groupBy('grade_range').count().orderBy(\"grade_range\").show()"
   ]
  },
  {
   "cell_type": "code",
   "execution_count": 73,
   "metadata": {},
   "outputs": [
    {
     "data": {
      "text/html": [
       "<style scoped>\n",
       "  .ansiout {\n",
       "    display: block;\n",
       "    unicode-bidi: embed;\n",
       "    white-space: pre-wrap;\n",
       "    word-wrap: break-word;\n",
       "    word-break: break-all;\n",
       "    font-family: \"Source Code Pro\", \"Menlo\", monospace;;\n",
       "    font-size: 13px;\n",
       "    color: #555;\n",
       "    margin-left: 4px;\n",
       "    line-height: 19px;\n",
       "  }\n",
       "</style>\n",
       "<div class=\"ansiout\">The conditional distribution of grades for the sub population of girls is shifted to the right compared to the one for boys\n",
       "In other words, there are proportionally more girls than boys in higher grade ranges\n",
       "+---+-----------+--------------+-----------+\n",
       "sex|grade_range|nb_grade_range|prop_by_sex|\n",
       "+---+-----------+--------------+-----------+\n",
       "  F|     [0, 9]|            50|      13.05|\n",
       "  F|   [10, 13]|           204|      53.26|\n",
       "  F|   [14, 15]|            73|      19.06|\n",
       "  F|   [16, 20]|            56|      14.62|\n",
       "  M|     [0, 9]|            50|      18.80|\n",
       "  M|   [10, 13]|           151|      56.77|\n",
       "  M|   [14, 15]|            39|      14.66|\n",
       "  M|   [16, 20]|            26|       9.77|\n",
       "+---+-----------+--------------+-----------+\n",
       "\n",
       "</div>"
      ]
     },
     "metadata": {},
     "output_type": "display_data"
    }
   ],
   "source": [
    "# Grade range by sex\n",
    "print(\"The conditional distribution of grades for the sub population of girls is shifted to the right compared to the one for boys\")\n",
    "print(\"In other words, there are proportionally more girls than boys in higher grade ranges\")\n",
    "\n",
    "query_string = \"WITH t1 AS \\\n",
    "(SELECT sex, grade_range, COUNT(grade_range) AS nb_grade_range \\\n",
    "FROM new_view \\\n",
    "GROUP BY sex, grade_range) \\\n",
    "SELECT sex, grade_range, nb_grade_range, \\\n",
    "ROUND((0.0 + nb_grade_range)/(SUM(nb_grade_range) OVER (PARTITION BY sex)) * 100, 2) as prop_by_sex \\\n",
    "FROM t1 \\\n",
    "ORDER BY sex, grade_range\"\n",
    "\n",
    "df.createOrReplaceTempView(\"new_view\") # creates a local temporary table accessible by a SQL query\n",
    "spark.sql(query_string).show()"
   ]
  },
  {
   "cell_type": "code",
   "execution_count": 74,
   "metadata": {},
   "outputs": [
    {
     "data": {
      "text/html": [
       "<style scoped>\n",
       "  .ansiout {\n",
       "    display: block;\n",
       "    unicode-bidi: embed;\n",
       "    white-space: pre-wrap;\n",
       "    word-wrap: break-word;\n",
       "    word-break: break-all;\n",
       "    font-family: \"Source Code Pro\", \"Menlo\", monospace;;\n",
       "    font-size: 13px;\n",
       "    color: #555;\n",
       "    margin-left: 4px;\n",
       "    line-height: 19px;\n",
       "  }\n",
       "</style>\n",
       "<div class=\"ansiout\">Average grade almost doesn&#39;t vary among under-18s\n",
       "+---+---------------+---------------+---------------+---------------+\n",
       "age|nb_final_grades|avg_final_grade|min_final_grade|max_final_grade|\n",
       "+---+---------------+---------------+---------------+---------------+\n",
       " 15|            112|          12.11|              8|             18|\n",
       " 16|            177|          11.99|              0|             18|\n",
       " 17|            179|          12.27|              0|             19|\n",
       " 18|            140|          11.77|              0|             19|\n",
       " 19|             32|           9.53|              0|             14|\n",
       " 20|              6|           12.0|             10|             15|\n",
       " 21|              2|           11.0|             10|             12|\n",
       " 22|              1|            5.0|              5|              5|\n",
       "+---+---------------+---------------+---------------+---------------+\n",
       "\n",
       "</div>"
      ]
     },
     "metadata": {},
     "output_type": "display_data"
    }
   ],
   "source": [
    "# Grade range by age\n",
    "print(\"Average grade almost doesn't vary among under-18s\")\n",
    "result_3 = df.groupBy('age').agg(\n",
    "  fn.count('G3').alias('nb_final_grades'),\n",
    "  fn.round(fn.avg('G3'), 2).alias('avg_final_grade'),\n",
    "  fn.min('G3').alias('min_final_grade'),\n",
    "  fn.max('G3').alias('max_final_grade')).orderBy('age')\n",
    "\n",
    "result_3.show()"
   ]
  },
  {
   "cell_type": "code",
   "execution_count": 75,
   "metadata": {},
   "outputs": [
    {
     "data": {
      "text/html": [
       "<style scoped>\n",
       "  .ansiout {\n",
       "    display: block;\n",
       "    unicode-bidi: embed;\n",
       "    white-space: pre-wrap;\n",
       "    word-wrap: break-word;\n",
       "    word-break: break-all;\n",
       "    font-family: \"Source Code Pro\", \"Menlo\", monospace;;\n",
       "    font-size: 13px;\n",
       "    color: #555;\n",
       "    margin-left: 4px;\n",
       "    line-height: 19px;\n",
       "  }\n",
       "</style>\n",
       "<div class=\"ansiout\">In general, the average final grade is not very dependent of the amount of free time after school\n",
       "+--------+---------------+---------------+---------------+---------------+\n",
       "freetime|nb_final_grades|avg_final_grade|min_final_grade|max_final_grade|\n",
       "+--------+---------------+---------------+---------------+---------------+\n",
       "       1|             45|          11.73|              7|             19|\n",
       "       2|            107|          12.71|              0|             19|\n",
       "       3|            251|          12.06|              0|             18|\n",
       "       4|            178|          11.71|              0|             18|\n",
       "       5|             68|          10.69|              0|             18|\n",
       "+--------+---------------+---------------+---------------+---------------+\n",
       "\n",
       "</div>"
      ]
     },
     "metadata": {},
     "output_type": "display_data"
    }
   ],
   "source": [
    "# Grade range by freetime (free time after school (numeric: from 1 - very low to 5 - very high))\n",
    "print(\"In general, the average final grade is not very dependent of the amount of free time after school\")\n",
    "result_4 = df.groupBy('freetime').agg(\n",
    "  fn.count('G3').alias('nb_final_grades'),\n",
    "  fn.round(fn.avg('G3'), 2).alias('avg_final_grade'),\n",
    "  fn.min('G3').alias('min_final_grade'),\n",
    "  fn.max('G3').alias('max_final_grade')).orderBy('freetime')\n",
    "\n",
    "result_4.show()"
   ]
  },
  {
   "cell_type": "code",
   "execution_count": 76,
   "metadata": {},
   "outputs": [
    {
     "data": {
      "text/html": [
       "<style scoped>\n",
       "  .ansiout {\n",
       "    display: block;\n",
       "    unicode-bidi: embed;\n",
       "    white-space: pre-wrap;\n",
       "    word-wrap: break-word;\n",
       "    word-break: break-all;\n",
       "    font-family: \"Source Code Pro\", \"Menlo\", monospace;;\n",
       "    font-size: 13px;\n",
       "    color: #555;\n",
       "    margin-left: 4px;\n",
       "    line-height: 19px;\n",
       "  }\n",
       "</style>\n",
       "<div class=\"ansiout\">Workday and weekend alcohol consumption decrease the average final grade but very slightly\n",
       "+----+---------------+---------------+---------------+---------------+\n",
       "Dalc|nb_final_grades|avg_final_grade|min_final_grade|max_final_grade|\n",
       "+----+---------------+---------------+---------------+---------------+\n",
       "   1|            451|           12.3|              0|             19|\n",
       "   2|            121|          11.36|              0|             18|\n",
       "   3|             43|          11.14|              8|             18|\n",
       "   4|             17|           8.94|              0|             14|\n",
       "   5|             17|          10.24|              5|             16|\n",
       "+----+---------------+---------------+---------------+---------------+\n",
       "\n",
       "+----+---------------+---------------+---------------+---------------+\n",
       "Walc|nb_final_grades|avg_final_grade|min_final_grade|max_final_grade|\n",
       "+----+---------------+---------------+---------------+---------------+\n",
       "   1|            247|          12.36|              0|             19|\n",
       "   2|            150|          12.26|              0|             18|\n",
       "   3|            120|          11.67|              0|             18|\n",
       "   4|             87|          11.03|              0|             19|\n",
       "   5|             45|          10.56|              0|             17|\n",
       "+----+---------------+---------------+---------------+---------------+\n",
       "\n",
       "</div>"
      ]
     },
     "metadata": {},
     "output_type": "display_data"
    }
   ],
   "source": [
    "# Grade range by Dalc + Walk\n",
    "# workday + weekend alcohol consumption (numeric: from 1 - very low to 5 - very high)\n",
    "print(\"Workday and weekend alcohol consumption decrease the average final grade but very slightly\")\n",
    "df.groupBy('Dalc').agg(\n",
    "  fn.count('G3').alias('nb_final_grades'),\n",
    "  fn.round(fn.avg('G3'), 2).alias('avg_final_grade'),\n",
    "  fn.min('G3').alias('min_final_grade'),\n",
    "  fn.max('G3').alias('max_final_grade')).orderBy('Dalc').show()\n",
    "\n",
    "df.groupBy('Walc').agg(\n",
    "  fn.count('G3').alias('nb_final_grades'),\n",
    "  fn.round(fn.avg('G3'), 2).alias('avg_final_grade'),\n",
    "  fn.min('G3').alias('min_final_grade'),\n",
    "  fn.max('G3').alias('max_final_grade')).orderBy('Walc').show()"
   ]
  },
  {
   "cell_type": "code",
   "execution_count": 77,
   "metadata": {},
   "outputs": [
    {
     "data": {
      "text/html": [
       "<style scoped>\n",
       "  .ansiout {\n",
       "    display: block;\n",
       "    unicode-bidi: embed;\n",
       "    white-space: pre-wrap;\n",
       "    word-wrap: break-word;\n",
       "    word-break: break-all;\n",
       "    font-family: \"Source Code Pro\", \"Menlo\", monospace;;\n",
       "    font-size: 13px;\n",
       "    color: #555;\n",
       "    margin-left: 4px;\n",
       "    line-height: 19px;\n",
       "  }\n",
       "</style>\n",
       "<div class=\"ansiout\">The average final grade decreases with the number of abscences\n",
       "+--------------+---------------+---------------+---------------+---------------+\n",
       "absences_range|nb_final_grades|avg_final_grade|min_final_grade|max_final_grade|\n",
       "+--------------+---------------+---------------+---------------+---------------+\n",
       "           [0]|            244|          12.04|              0|             19|\n",
       "       [1, 10]|            356|          11.99|              6|             19|\n",
       "      [11, 20]|             41|          10.63|              5|             17|\n",
       "       [21-93]|              8|          10.75|              6|             16|\n",
       "+--------------+---------------+---------------+---------------+---------------+\n",
       "\n",
       "</div>"
      ]
     },
     "metadata": {},
     "output_type": "display_data"
    }
   ],
   "source": [
    "# Grade range by absences range (let's do one more)\n",
    "# (numeric: from 0 to 93)\n",
    "\n",
    "# absences partition (it's easier to have an overview if we discretize)\n",
    "absences_range = fn.when(df.absences == 0, \"[0]\")\\\n",
    "  .when(df.absences <= 10, \"[1, 10]\")\\\n",
    "  .when(df.absences <= 20, \"[11, 20]\")\\\n",
    "  .otherwise('[21-93]')\n",
    "\n",
    "df = df.withColumn(\"absences_range\", absences_range)\n",
    "\n",
    "print(\"The average final grade decreases with the number of abscences\")\n",
    "df.groupBy('absences_range').agg(\n",
    "  fn.count('G3').alias('nb_final_grades'),\n",
    "  fn.round(fn.avg('G3'), 2).alias('avg_final_grade'),\n",
    "  fn.min('G3').alias('min_final_grade'),\n",
    "  fn.max('G3').alias('max_final_grade')).orderBy('absences_range').show()"
   ]
  },
  {
   "cell_type": "markdown",
   "metadata": {},
   "source": [
    "### Using filters"
   ]
  },
  {
   "cell_type": "code",
   "execution_count": 79,
   "metadata": {},
   "outputs": [
    {
     "data": {
      "text/html": [
       "<style scoped>\n",
       "  .ansiout {\n",
       "    display: block;\n",
       "    unicode-bidi: embed;\n",
       "    white-space: pre-wrap;\n",
       "    word-wrap: break-word;\n",
       "    word-break: break-all;\n",
       "    font-family: \"Source Code Pro\", \"Menlo\", monospace;;\n",
       "    font-size: 13px;\n",
       "    color: #555;\n",
       "    margin-left: 4px;\n",
       "    line-height: 19px;\n",
       "  }\n",
       "</style>\n",
       "<div class=\"ansiout\">In total, there are only 8 bad students among the two schools. Here is their progression:\n",
       "+---+---+---+--------+\n",
       " G1| G2| G3|progress|\n",
       "+---+---+---+--------+\n",
       " 14| 13| 12|     bad|\n",
       " 10|  9|  8|     bad|\n",
       "  9|  7|  6|     bad|\n",
       " 11|  9|  0|     bad|\n",
       " 14| 13| 12|     bad|\n",
       "  8|  7|  0|     bad|\n",
       "  8|  6|  0|     bad|\n",
       "  7|  5|  0|     bad|\n",
       "+---+---+---+--------+\n",
       "\n",
       "</div>"
      ]
     },
     "metadata": {},
     "output_type": "display_data"
    }
   ],
   "source": [
    "# We want to detect bad / good students\n",
    "# Bad students are defined as those for whom grades decreased every semester, excluding those above 16 in their average grade.\n",
    "\n",
    "progress = fn.when((df.G1 + df.G2 + df.G3) / 3 >= 16, 'good')\\\n",
    "  .when(df.G2 >= df.G1, 'good')\\\n",
    "  .when(df.G3 >= df.G2, 'good')\\\n",
    "  .otherwise('bad')\n",
    "\n",
    "encouraging_students = df.withColumn('progress', progress).filter(fn.col('progress') == 'bad')\n",
    "\n",
    "print('In total, there are only', encouraging_students.count(), 'bad students among the two schools. Here is their progression:')\n",
    "encouraging_students.select(\"G1\", \"G2\", \"G3\", 'progress').show()"
   ]
  },
  {
   "cell_type": "markdown",
   "metadata": {},
   "source": [
    "### We can also do aggregations using window functions"
   ]
  },
  {
   "cell_type": "code",
   "execution_count": 81,
   "metadata": {},
   "outputs": [
    {
     "data": {
      "text/html": [
       "<style scoped>\n",
       "  .ansiout {\n",
       "    display: block;\n",
       "    unicode-bidi: embed;\n",
       "    white-space: pre-wrap;\n",
       "    word-wrap: break-word;\n",
       "    word-break: break-all;\n",
       "    font-family: \"Source Code Pro\", \"Menlo\", monospace;;\n",
       "    font-size: 13px;\n",
       "    color: #555;\n",
       "    margin-left: 4px;\n",
       "    line-height: 19px;\n",
       "  }\n",
       "</style>\n",
       "<div class=\"ansiout\">+------+-------------------------+\n",
       "health|avg_final_grade_by_health|\n",
       "+------+-------------------------+\n",
       "     1|       12.477777777777778|\n",
       "     2|       12.192307692307692|\n",
       "     3|       11.838709677419354|\n",
       "     4|       12.305555555555555|\n",
       "     5|        11.46987951807229|\n",
       "+------+-------------------------+\n",
       "\n",
       "Final grade tends to slightly increase as the health status gets worse(!!)\n",
       "</div>"
      ]
     },
     "metadata": {},
     "output_type": "display_data"
    }
   ],
   "source": [
    "# Comparing final grades by health status\n",
    "# (numeric: from 1 - very bad to 5 - very good) \n",
    "\n",
    "window_spec = Window.partitionBy('health')\n",
    "\n",
    "new_column = fn.avg('G3').over(window_spec)\n",
    "df.withColumn('avg_final_grade_by_health', new_column)\\\n",
    "  .groupBy('health')\\\n",
    "  .agg(fn.max('avg_final_grade_by_health').alias('avg_final_grade_by_health'))\\\n",
    "  .orderBy('health').show()\n",
    "print(\"Final grade tends to slightly increase as the health status gets worse(!!)\")"
   ]
  },
  {
   "cell_type": "markdown",
   "metadata": {},
   "source": [
    "### Clustering"
   ]
  },
  {
   "cell_type": "markdown",
   "metadata": {},
   "source": [
    "Our next goal is to apply some clustering to see if we can find meaningful groups of students.\n",
    "\n",
    "For this we will use the kMeans algorithm. Two remarks before starting: first, it makes no sense to use kMeans on qualitative variables, because it uses euclidian distances, which has poor meaning even if we one-hot-encode them. Hence, we will restrict ourselves to quantiative data. Second, we thought it would be nicer to have some graphical representation (at the end of the day, let's not forget that this is just an exploratory analysis), so we will work on a 3D space."
   ]
  },
  {
   "cell_type": "code",
   "execution_count": 84,
   "metadata": {},
   "outputs": [
    {
     "data": {
      "text/html": [
       "<style scoped>\n",
       "  .ansiout {\n",
       "    display: block;\n",
       "    unicode-bidi: embed;\n",
       "    white-space: pre-wrap;\n",
       "    word-wrap: break-word;\n",
       "    word-break: break-all;\n",
       "    font-family: \"Source Code Pro\", \"Menlo\", monospace;;\n",
       "    font-size: 13px;\n",
       "    color: #555;\n",
       "    margin-left: 4px;\n",
       "    line-height: 19px;\n",
       "  }\n",
       "</style>\n",
       "<div class=\"ansiout\"></div>"
      ]
     },
     "metadata": {},
     "output_type": "display_data"
    }
   ],
   "source": [
    "sub_df = df.select('id', 'age', 'absences', 'G3')\n",
    "kMeans_features = ['age', 'absences', 'G3']\n",
    "\n",
    "# Casting everything to float type, except 'id'\n",
    "for col in sub_df.columns:\n",
    "  if col in kMeans_features:\n",
    "    sub_df = sub_df.withColumn(col, sub_df[col].cast('float'))\n",
    "\n",
    "\n",
    "# We vectorize the three numerical columns, and we assemble everything in a single column 'features_before_scaling' \n",
    "vecAssembler = VectorAssembler(inputCols = kMeans_features, outputCol = \"features_before_scaling\")\n",
    "df_kmeans = vecAssembler.transform(sub_df)\n",
    "\n",
    "\n",
    "# We need to standardize the variables because their scales are quite heterogeneous\n",
    "scaler = StandardScaler(inputCol=\"features_before_scaling\", outputCol=\"features\",\n",
    "                        withStd=True, # they will have unit variance\n",
    "                        withMean=True) # they will have zero mean\n",
    "scalerModel = scaler.fit(df_kmeans) # we fit the StandrdScaler on our data\n",
    "scaledData = scalerModel.transform(df_kmeans)"
   ]
  },
  {
   "cell_type": "code",
   "execution_count": 85,
   "metadata": {},
   "outputs": [],
   "source": [
    "# kMeans requires to know the number of clusters k it should try to find in advance\n",
    "# To choose a good k, we cluster a randomly sampled fraction of the data (20%), without replacement, for different choices of k (from 2 to 25) and look for an \"elbow\" in the cost function\n",
    "cost = []\n",
    "for k in range(2,25):\n",
    "  kmeans = KMeans().setK(k).setSeed(19).setFeaturesCol(\"features\")\n",
    "  model = kmeans.fit(scaledData.sample(False, 0.10, seed=1234)) # seed is important for reproducible results\n",
    "  cost.append(model.computeCost(scaledData))\n",
    "\n",
    "# Plot\n",
    "fig, ax = plt.subplots(1, 1, figsize =(8,6))\n",
    "ax.plot(range(2,25), cost)\n",
    "ax.set_xlabel('k')\n",
    "ax.set_ylabel('cost')"
   ]
  },
  {
   "cell_type": "markdown",
   "metadata": {},
   "source": [
    "Looks like the elbow is around k=7, so this will be our optimal k."
   ]
  },
  {
   "cell_type": "code",
   "execution_count": 87,
   "metadata": {},
   "outputs": [
    {
     "data": {
      "text/html": [
       "<style scoped>\n",
       "  .ansiout {\n",
       "    display: block;\n",
       "    unicode-bidi: embed;\n",
       "    white-space: pre-wrap;\n",
       "    word-wrap: break-word;\n",
       "    word-break: break-all;\n",
       "    font-family: \"Source Code Pro\", \"Menlo\", monospace;;\n",
       "    font-size: 13px;\n",
       "    color: #555;\n",
       "    margin-left: 4px;\n",
       "    line-height: 19px;\n",
       "  }\n",
       "</style>\n",
       "<div class=\"ansiout\">Cluster Centers: \n",
       "[-0.01189697 -0.33235061 -0.67084528]\n",
       "[-1.0501456  -0.2994071   0.09719101]\n",
       "[ 0.50849302  4.14794554 -0.22416222]\n",
       "[ 0.50030197  1.58700644 -0.42765893]\n",
       "[ 1.13945213 -0.27566846  0.07258173]\n",
       "[ 0.77436087 -0.78855124 -3.66597631]\n",
       "[ 0.13396313 -0.30571194  1.31882104]\n",
       "</div>"
      ]
     },
     "metadata": {},
     "output_type": "display_data"
    }
   ],
   "source": [
    "# We are now ready to train the model on the full dataset\n",
    "k = 7\n",
    "kmeans = KMeans().setK(k).setSeed(1).setFeaturesCol(\"features\")\n",
    "model = kmeans.fit(scaledData)\n",
    "centers = model.clusterCenters()\n",
    "\n",
    "# Once the training has converged we can print out the centroids of the XXXX clusters\n",
    "print(\"Cluster Centers: \")\n",
    "for center in centers:\n",
    "  print(center)"
   ]
  },
  {
   "cell_type": "code",
   "execution_count": 88,
   "metadata": {},
   "outputs": [
    {
     "data": {
      "text/html": [
       "<style scoped>\n",
       "  .ansiout {\n",
       "    display: block;\n",
       "    unicode-bidi: embed;\n",
       "    white-space: pre-wrap;\n",
       "    word-wrap: break-word;\n",
       "    word-break: break-all;\n",
       "    font-family: \"Source Code Pro\", \"Menlo\", monospace;;\n",
       "    font-size: 13px;\n",
       "    color: #555;\n",
       "    margin-left: 4px;\n",
       "    line-height: 19px;\n",
       "  }\n",
       "</style>\n",
       "<div class=\"ansiout\">+---+----+--------+----+----------+\n",
       " id| age|absences|  G3|prediction|\n",
       "+---+----+--------+----+----------+\n",
       "  0|18.0|     4.0|11.0|         4|\n",
       "  1|17.0|     2.0|11.0|         0|\n",
       "  2|15.0|     6.0|12.0|         1|\n",
       "  3|15.0|     0.0|14.0|         1|\n",
       "  4|16.0|     0.0|13.0|         1|\n",
       "  5|16.0|     6.0|13.0|         1|\n",
       "  6|16.0|     0.0|13.0|         1|\n",
       "  7|17.0|     2.0|13.0|         4|\n",
       "  8|15.0|     0.0|17.0|         1|\n",
       "  9|15.0|     0.0|13.0|         1|\n",
       "+---+----+--------+----+----------+\n",
       "only showing top 10 rows\n",
       "\n",
       "</div>"
      ]
     },
     "metadata": {},
     "output_type": "display_data"
    }
   ],
   "source": [
    "# We add the prediction column to the dataframe, which tells us the group into which the algorithm has assigned each student.\n",
    "transformed = model.transform(scaledData).select('id', 'age', 'absences', 'G3', 'prediction')\n",
    "transformed.show(n=10)"
   ]
  },
  {
   "cell_type": "code",
   "execution_count": 89,
   "metadata": {},
   "outputs": [],
   "source": [
    "# Results visualization\n",
    "pddf_pred = transformed.toPandas().set_index('id') # we need to reconvert everything to a pandas dataframe\n",
    "\n",
    "threedee = plt.figure(figsize=(12,10)).gca(projection='3d')\n",
    "threedee.scatter(pddf_pred.age, pddf_pred.absences, pddf_pred.G3, c=pddf_pred.prediction)\n",
    "threedee.set_xlabel('age')\n",
    "threedee.set_ylabel('absences')\n",
    "threedee.set_zlabel('G3')\n",
    "plt.show()"
   ]
  },
  {
   "cell_type": "markdown",
   "metadata": {},
   "source": [
    "On this graph, we can see the different clusters, for example in black the cluster of young people with low number of absence and high grades, compared to other clusters, for example in purple with a lot of absences and older students."
   ]
  },
  {
   "cell_type": "markdown",
   "metadata": {},
   "source": [
    "#Predicting the grades"
   ]
  },
  {
   "cell_type": "markdown",
   "metadata": {},
   "source": [
    "## With a regression tree using sklearn regressor"
   ]
  },
  {
   "cell_type": "code",
   "execution_count": 93,
   "metadata": {},
   "outputs": [
    {
     "data": {
      "text/html": [
       "<style scoped>\n",
       "  .ansiout {\n",
       "    display: block;\n",
       "    unicode-bidi: embed;\n",
       "    white-space: pre-wrap;\n",
       "    word-wrap: break-word;\n",
       "    word-break: break-all;\n",
       "    font-family: \"Source Code Pro\", \"Menlo\", monospace;;\n",
       "    font-size: 13px;\n",
       "    color: #555;\n",
       "    margin-left: 4px;\n",
       "    line-height: 19px;\n",
       "  }\n",
       "</style>\n",
       "<div class=\"ansiout\"></div>"
      ]
     },
     "metadata": {},
     "output_type": "display_data"
    }
   ],
   "source": [
    "X= dfModel.drop(['G1_discret', 'G2_discret', 'G3', 'G3_discret', 'G1', 'G2'], axis=1)\n",
    "Y = dfModel['G3']\n",
    "X_train, X_test, y_train, y_test = train_test_split(X, Y, test_size=0.2, random_state=1)"
   ]
  },
  {
   "cell_type": "code",
   "execution_count": 94,
   "metadata": {},
   "outputs": [
    {
     "data": {
      "text/html": [
       "<style scoped>\n",
       "  .ansiout {\n",
       "    display: block;\n",
       "    unicode-bidi: embed;\n",
       "    white-space: pre-wrap;\n",
       "    word-wrap: break-word;\n",
       "    word-break: break-all;\n",
       "    font-family: \"Source Code Pro\", \"Menlo\", monospace;;\n",
       "    font-size: 13px;\n",
       "    color: #555;\n",
       "    margin-left: 4px;\n",
       "    line-height: 19px;\n",
       "  }\n",
       "</style>\n",
       "<div class=\"ansiout\">Fitting 3 folds for each of 7 candidates, totalling 21 fits\n",
       "[Parallel(n_jobs=1)]: Using backend SequentialBackend with 1 concurrent workers.\n",
       "[Parallel(n_jobs=1)]: Done  21 out of  21 | elapsed:    0.4s finished\n",
       "Out[53]: GridSearchCV(cv=3, error_score=&#39;raise-deprecating&#39;,\n",
       "       estimator=DecisionTreeRegressor(criterion=&#39;mse&#39;, max_depth=None, max_features=None,\n",
       "           max_leaf_nodes=None, min_impurity_decrease=0.0,\n",
       "           min_impurity_split=None, min_samples_leaf=1,\n",
       "           min_samples_split=2, min_weight_fraction_leaf=0.0,\n",
       "           presort=False, random_state=42, splitter=&#39;best&#39;),\n",
       "       fit_params=None, iid=&#39;warn&#39;, n_jobs=None,\n",
       "       param_grid={&#39;max_depth&#39;: [2, 3, 4, 5, 6, 7, 8]},\n",
       "       pre_dispatch=&#39;2*n_jobs&#39;, refit=True, return_train_score=&#39;warn&#39;,\n",
       "       scoring=None, verbose=1)</div>"
      ]
     },
     "metadata": {},
     "output_type": "display_data"
    }
   ],
   "source": [
    "params = {'max_depth': [2,3,4,5,6,7,8]}\n",
    "grid_search_cv = GridSearchCV(DecisionTreeRegressor(random_state=42), params, verbose=1, cv=3)\n",
    "grid_search_cv.fit(X_train, y_train)"
   ]
  },
  {
   "cell_type": "code",
   "execution_count": 95,
   "metadata": {},
   "outputs": [
    {
     "data": {
      "text/html": [
       "<style scoped>\n",
       "  .ansiout {\n",
       "    display: block;\n",
       "    unicode-bidi: embed;\n",
       "    white-space: pre-wrap;\n",
       "    word-wrap: break-word;\n",
       "    word-break: break-all;\n",
       "    font-family: \"Source Code Pro\", \"Menlo\", monospace;;\n",
       "    font-size: 13px;\n",
       "    color: #555;\n",
       "    margin-left: 4px;\n",
       "    line-height: 19px;\n",
       "  }\n",
       "</style>\n",
       "<div class=\"ansiout\">Out[54]: DecisionTreeRegressor(criterion=&#39;mse&#39;, max_depth=2, max_features=None,\n",
       "           max_leaf_nodes=None, min_impurity_decrease=0.0,\n",
       "           min_impurity_split=None, min_samples_leaf=1,\n",
       "           min_samples_split=2, min_weight_fraction_leaf=0.0,\n",
       "           presort=False, random_state=42, splitter=&#39;best&#39;)</div>"
      ]
     },
     "metadata": {},
     "output_type": "display_data"
    }
   ],
   "source": [
    "grid_search_cv.best_estimator_"
   ]
  },
  {
   "cell_type": "code",
   "execution_count": 96,
   "metadata": {},
   "outputs": [
    {
     "data": {
      "text/html": [
       "<style scoped>\n",
       "  .ansiout {\n",
       "    display: block;\n",
       "    unicode-bidi: embed;\n",
       "    white-space: pre-wrap;\n",
       "    word-wrap: break-word;\n",
       "    word-break: break-all;\n",
       "    font-family: \"Source Code Pro\", \"Menlo\", monospace;;\n",
       "    font-size: 13px;\n",
       "    color: #555;\n",
       "    margin-left: 4px;\n",
       "    line-height: 19px;\n",
       "  }\n",
       "</style>\n",
       "<div class=\"ansiout\">MSE: 11.145654964748825\n",
       "MAE: 2.50992680826636\n",
       "</div>"
      ]
     },
     "metadata": {},
     "output_type": "display_data"
    }
   ],
   "source": [
    "clf = grid_search_cv.best_estimator_\n",
    "clf = clf.fit(X_train, y_train)\n",
    "y_pred = clf.predict(X_test)\n",
    "\n",
    "print(\"MSE:\",metrics.mean_squared_error(y_test, y_pred))\n",
    "print(\"MAE:\",metrics.mean_absolute_error(y_test, y_pred))"
   ]
  },
  {
   "cell_type": "code",
   "execution_count": 97,
   "metadata": {},
   "outputs": [
    {
     "data": {
      "text/html": [
       "<style scoped>\n",
       "  .ansiout {\n",
       "    display: block;\n",
       "    unicode-bidi: embed;\n",
       "    white-space: pre-wrap;\n",
       "    word-wrap: break-word;\n",
       "    word-break: break-all;\n",
       "    font-family: \"Source Code Pro\", \"Menlo\", monospace;;\n",
       "    font-size: 13px;\n",
       "    color: #555;\n",
       "    margin-left: 4px;\n",
       "    line-height: 19px;\n",
       "  }\n",
       "</style>\n",
       "<div class=\"ansiout\">Out[56]: &lt;graphviz.files.Source at 0x7f6be2d9f668&gt;</div>"
      ]
     },
     "metadata": {},
     "output_type": "display_data"
    }
   ],
   "source": [
    "# On mac, please execute the following command on terminal to get the tree: brew install graphviz \n",
    "\n",
    "dot_data = tree.export_graphviz(clf, \n",
    "                                out_file = None,\n",
    "                                feature_names = X.columns,\n",
    "                                class_names = Y,\n",
    "                                filled = True,\n",
    "                                rounded = True,  \n",
    "                                special_characters = True)  \n",
    "graph = graphviz.Source(dot_data)  \n",
    "graph "
   ]
  },
  {
   "cell_type": "markdown",
   "metadata": {},
   "source": [
    "## With random forest and gradient boosting algorithms"
   ]
  },
  {
   "cell_type": "markdown",
   "metadata": {},
   "source": [
    "Separate into a training and a testing set"
   ]
  },
  {
   "cell_type": "code",
   "execution_count": 100,
   "metadata": {},
   "outputs": [
    {
     "data": {
      "text/html": [
       "<style scoped>\n",
       "  .ansiout {\n",
       "    display: block;\n",
       "    unicode-bidi: embed;\n",
       "    white-space: pre-wrap;\n",
       "    word-wrap: break-word;\n",
       "    word-break: break-all;\n",
       "    font-family: \"Source Code Pro\", \"Menlo\", monospace;;\n",
       "    font-size: 13px;\n",
       "    color: #555;\n",
       "    margin-left: 4px;\n",
       "    line-height: 19px;\n",
       "  }\n",
       "</style>\n",
       "<div class=\"ansiout\"></div>"
      ]
     },
     "metadata": {},
     "output_type": "display_data"
    }
   ],
   "source": [
    "train, test = df.randomSplit([0.8, 0.2])"
   ]
  },
  {
   "cell_type": "markdown",
   "metadata": {},
   "source": [
    "We create the indexers"
   ]
  },
  {
   "cell_type": "code",
   "execution_count": 102,
   "metadata": {},
   "outputs": [
    {
     "data": {
      "text/html": [
       "<style scoped>\n",
       "  .ansiout {\n",
       "    display: block;\n",
       "    unicode-bidi: embed;\n",
       "    white-space: pre-wrap;\n",
       "    word-wrap: break-word;\n",
       "    word-break: break-all;\n",
       "    font-family: \"Source Code Pro\", \"Menlo\", monospace;;\n",
       "    font-size: 13px;\n",
       "    color: #555;\n",
       "    margin-left: 4px;\n",
       "    line-height: 19px;\n",
       "  }\n",
       "</style>\n",
       "<div class=\"ansiout\"><span class=\"ansi-red-fg\">---------------------------------------------------------------------------</span>\n",
       "<span class=\"ansi-red-fg\">TypeError</span>                                 Traceback (most recent call last)\n",
       "<span class=\"ansi-green-fg\">&lt;command-4033390105889527&gt;</span> in <span class=\"ansi-cyan-fg\">&lt;module&gt;</span>\n",
       "<span class=\"ansi-green-intense-fg ansi-bold\">     14</span> <span class=\"ansi-red-fg\"># We encode of the indexed columns</span>\n",
       "<span class=\"ansi-green-intense-fg ansi-bold\">     15</span> encoders = [\n",
       "<span class=\"ansi-green-fg\">---&gt; 16</span><span class=\"ansi-red-fg\">   </span>OneHotEncoder<span class=\"ansi-blue-fg\">(</span>dropLast<span class=\"ansi-blue-fg\">=</span><span class=\"ansi-green-fg\">False</span><span class=\"ansi-blue-fg\">,</span> inputCol<span class=\"ansi-blue-fg\">=</span>indexer<span class=\"ansi-blue-fg\">.</span>getOutputCol<span class=\"ansi-blue-fg\">(</span><span class=\"ansi-blue-fg\">)</span><span class=\"ansi-blue-fg\">,</span> outputCol<span class=\"ansi-blue-fg\">=</span><span class=\"ansi-blue-fg\">&#34;{0}_encoded&#34;</span><span class=\"ansi-blue-fg\">.</span>format<span class=\"ansi-blue-fg\">(</span>indexer<span class=\"ansi-blue-fg\">.</span>getOutputCol<span class=\"ansi-blue-fg\">(</span><span class=\"ansi-blue-fg\">)</span><span class=\"ansi-blue-fg\">)</span><span class=\"ansi-blue-fg\">)</span> <span class=\"ansi-green-fg\">for</span> indexer <span class=\"ansi-green-fg\">in</span> indexers\n",
       "<span class=\"ansi-green-intense-fg ansi-bold\">     17</span> ]\n",
       "<span class=\"ansi-green-intense-fg ansi-bold\">     18</span> \n",
       "\n",
       "<span class=\"ansi-green-fg\">&lt;command-4033390105889527&gt;</span> in <span class=\"ansi-cyan-fg\">&lt;listcomp&gt;</span><span class=\"ansi-blue-fg\">(.0)</span>\n",
       "<span class=\"ansi-green-intense-fg ansi-bold\">     14</span> <span class=\"ansi-red-fg\"># We encode of the indexed columns</span>\n",
       "<span class=\"ansi-green-intense-fg ansi-bold\">     15</span> encoders = [\n",
       "<span class=\"ansi-green-fg\">---&gt; 16</span><span class=\"ansi-red-fg\">   </span>OneHotEncoder<span class=\"ansi-blue-fg\">(</span>dropLast<span class=\"ansi-blue-fg\">=</span><span class=\"ansi-green-fg\">False</span><span class=\"ansi-blue-fg\">,</span> inputCol<span class=\"ansi-blue-fg\">=</span>indexer<span class=\"ansi-blue-fg\">.</span>getOutputCol<span class=\"ansi-blue-fg\">(</span><span class=\"ansi-blue-fg\">)</span><span class=\"ansi-blue-fg\">,</span> outputCol<span class=\"ansi-blue-fg\">=</span><span class=\"ansi-blue-fg\">&#34;{0}_encoded&#34;</span><span class=\"ansi-blue-fg\">.</span>format<span class=\"ansi-blue-fg\">(</span>indexer<span class=\"ansi-blue-fg\">.</span>getOutputCol<span class=\"ansi-blue-fg\">(</span><span class=\"ansi-blue-fg\">)</span><span class=\"ansi-blue-fg\">)</span><span class=\"ansi-blue-fg\">)</span> <span class=\"ansi-green-fg\">for</span> indexer <span class=\"ansi-green-fg\">in</span> indexers\n",
       "<span class=\"ansi-green-intense-fg ansi-bold\">     17</span> ]\n",
       "<span class=\"ansi-green-intense-fg ansi-bold\">     18</span> \n",
       "\n",
       "<span class=\"ansi-red-fg\">TypeError</span>: __init__() got an unexpected keyword argument &#39;dropLast&#39;</div>"
      ]
     },
     "metadata": {},
     "output_type": "display_data"
    }
   ],
   "source": [
    "# ONE-HOT-ENCODING CATEGORICAL DATA\n",
    "categorical_columns = df.columns\n",
    "categorical_columns.remove('age')\n",
    "categorical_columns.remove('absences')\n",
    "categorical_columns.remove('G1')\n",
    "categorical_columns.remove('G2')\n",
    "categorical_columns.remove('G3')\n",
    "\n",
    "# We start by indexing categorical columns (of type string)\n",
    "indexers = [\n",
    "  StringIndexer(inputCol=c, outputCol=\"{0}_indexed\".format(c)) for c in categorical_columns\n",
    "]\n",
    "\n",
    "# We encode of the indexed columns\n",
    "encoders = [\n",
    "  OneHotEncoder(dropLast=False, inputCol=indexer.getOutputCol(), outputCol=\"{0}_encoded\".format(indexer.getOutputCol())) for indexer in indexers\n",
    "]\n",
    "\n",
    "# We vectorize encoded columns\n",
    "assembler = VectorAssembler(inputCols=['G1','G2','age','absences']+[encoder.getOutputCol() for encoder in encoders], outputCol=\"features\")\n"
   ]
  },
  {
   "cell_type": "markdown",
   "metadata": {},
   "source": [
    "Create the models for the pipeline."
   ]
  },
  {
   "cell_type": "code",
   "execution_count": 104,
   "metadata": {},
   "outputs": [
    {
     "data": {
      "text/html": [
       "<style scoped>\n",
       "  .ansiout {\n",
       "    display: block;\n",
       "    unicode-bidi: embed;\n",
       "    white-space: pre-wrap;\n",
       "    word-wrap: break-word;\n",
       "    word-break: break-all;\n",
       "    font-family: \"Source Code Pro\", \"Menlo\", monospace;;\n",
       "    font-size: 13px;\n",
       "    color: #555;\n",
       "    margin-left: 4px;\n",
       "    line-height: 19px;\n",
       "  }\n",
       "</style>\n",
       "<div class=\"ansiout\"></div>"
      ]
     },
     "metadata": {},
     "output_type": "display_data"
    }
   ],
   "source": [
    "rf_regressor = RandomForestRegressor(labelCol=\"G3\", featuresCol=\"features\", numTrees=30, subsamplingRate=1.0)\n",
    "\n",
    "gbt_regressor = GBTRegressor(labelCol=\"G3\", featuresCol=\"features\", maxIter=50, maxDepth=4, stepSize=0.01)"
   ]
  },
  {
   "cell_type": "markdown",
   "metadata": {},
   "source": [
    "Create the evaluators"
   ]
  },
  {
   "cell_type": "code",
   "execution_count": 106,
   "metadata": {},
   "outputs": [
    {
     "data": {
      "text/html": [
       "<style scoped>\n",
       "  .ansiout {\n",
       "    display: block;\n",
       "    unicode-bidi: embed;\n",
       "    white-space: pre-wrap;\n",
       "    word-wrap: break-word;\n",
       "    word-break: break-all;\n",
       "    font-family: \"Source Code Pro\", \"Menlo\", monospace;;\n",
       "    font-size: 13px;\n",
       "    color: #555;\n",
       "    margin-left: 4px;\n",
       "    line-height: 19px;\n",
       "  }\n",
       "</style>\n",
       "<div class=\"ansiout\"></div>"
      ]
     },
     "metadata": {},
     "output_type": "display_data"
    }
   ],
   "source": [
    "evaluator_mae = RegressionEvaluator(predictionCol=\"prediction\", labelCol=\"G3\", metricName=\"mae\")\n",
    "evaluator_rmse = RegressionEvaluator(predictionCol=\"prediction\", labelCol=\"G3\", metricName=\"rmse\")"
   ]
  },
  {
   "cell_type": "markdown",
   "metadata": {},
   "source": [
    "Run the models and evaluate"
   ]
  },
  {
   "cell_type": "code",
   "execution_count": 108,
   "metadata": {},
   "outputs": [
    {
     "data": {
      "text/html": [
       "<style scoped>\n",
       "  .ansiout {\n",
       "    display: block;\n",
       "    unicode-bidi: embed;\n",
       "    white-space: pre-wrap;\n",
       "    word-wrap: break-word;\n",
       "    word-break: break-all;\n",
       "    font-family: \"Source Code Pro\", \"Menlo\", monospace;;\n",
       "    font-size: 13px;\n",
       "    color: #555;\n",
       "    margin-left: 4px;\n",
       "    line-height: 19px;\n",
       "  }\n",
       "</style>\n",
       "<div class=\"ansiout\"><span class=\"ansi-red-fg\">---------------------------------------------------------------------------</span>\n",
       "<span class=\"ansi-red-fg\">NameError</span>                                 Traceback (most recent call last)\n",
       "<span class=\"ansi-green-fg\">&lt;command-4033390105889533&gt;</span> in <span class=\"ansi-cyan-fg\">&lt;module&gt;</span>\n",
       "<span class=\"ansi-green-fg\">----&gt; 1</span><span class=\"ansi-red-fg\"> </span>pipeline_rf <span class=\"ansi-blue-fg\">=</span> Pipeline<span class=\"ansi-blue-fg\">(</span>stages <span class=\"ansi-blue-fg\">=</span> indexers <span class=\"ansi-blue-fg\">+</span> encoders <span class=\"ansi-blue-fg\">+</span> <span class=\"ansi-blue-fg\">[</span>assembler<span class=\"ansi-blue-fg\">]</span> <span class=\"ansi-blue-fg\">+</span> <span class=\"ansi-blue-fg\">[</span>rf_regressor<span class=\"ansi-blue-fg\">]</span><span class=\"ansi-blue-fg\">)</span>\n",
       "<span class=\"ansi-green-intense-fg ansi-bold\">      2</span> pipeline_gbt <span class=\"ansi-blue-fg\">=</span> Pipeline<span class=\"ansi-blue-fg\">(</span>stages <span class=\"ansi-blue-fg\">=</span> indexers <span class=\"ansi-blue-fg\">+</span> encoders <span class=\"ansi-blue-fg\">+</span> <span class=\"ansi-blue-fg\">[</span>assembler<span class=\"ansi-blue-fg\">]</span> <span class=\"ansi-blue-fg\">+</span> <span class=\"ansi-blue-fg\">[</span>gbt_regressor<span class=\"ansi-blue-fg\">]</span><span class=\"ansi-blue-fg\">)</span>\n",
       "<span class=\"ansi-green-intense-fg ansi-bold\">      3</span> \n",
       "<span class=\"ansi-green-intense-fg ansi-bold\">      4</span> fit_rf <span class=\"ansi-blue-fg\">=</span> pipeline_rf<span class=\"ansi-blue-fg\">.</span>fit<span class=\"ansi-blue-fg\">(</span>train<span class=\"ansi-blue-fg\">)</span>\n",
       "<span class=\"ansi-green-intense-fg ansi-bold\">      5</span> predictions_rf <span class=\"ansi-blue-fg\">=</span> fit_rf<span class=\"ansi-blue-fg\">.</span>transform<span class=\"ansi-blue-fg\">(</span>test<span class=\"ansi-blue-fg\">)</span>\n",
       "\n",
       "<span class=\"ansi-red-fg\">NameError</span>: name &#39;encoders&#39; is not defined</div>"
      ]
     },
     "metadata": {},
     "output_type": "display_data"
    }
   ],
   "source": [
    "pipeline_rf = Pipeline(stages = indexers + encoders + [assembler] + [rf_regressor])\n",
    "pipeline_gbt = Pipeline(stages = indexers + encoders + [assembler] + [gbt_regressor])\n",
    "\n",
    "fit_rf = pipeline_rf.fit(train)\n",
    "predictions_rf = fit_rf.transform(test)\n",
    "\n",
    "fit_gbt = pipeline_gbt.fit(train)\n",
    "predictions_gbt = fit_gbt.transform(test)"
   ]
  },
  {
   "cell_type": "code",
   "execution_count": 109,
   "metadata": {},
   "outputs": [
    {
     "data": {
      "text/html": [
       "<style scoped>\n",
       "  .ansiout {\n",
       "    display: block;\n",
       "    unicode-bidi: embed;\n",
       "    white-space: pre-wrap;\n",
       "    word-wrap: break-word;\n",
       "    word-break: break-all;\n",
       "    font-family: \"Source Code Pro\", \"Menlo\", monospace;;\n",
       "    font-size: 13px;\n",
       "    color: #555;\n",
       "    margin-left: 4px;\n",
       "    line-height: 19px;\n",
       "  }\n",
       "</style>\n",
       "<div class=\"ansiout\"><span class=\"ansi-red-fg\">---------------------------------------------------------------------------</span>\n",
       "<span class=\"ansi-red-fg\">NameError</span>                                 Traceback (most recent call last)\n",
       "<span class=\"ansi-green-fg\">&lt;command-4033390105889534&gt;</span> in <span class=\"ansi-cyan-fg\">&lt;module&gt;</span>\n",
       "<span class=\"ansi-green-fg\">----&gt; 1</span><span class=\"ansi-red-fg\"> </span>print<span class=\"ansi-blue-fg\">(</span><span class=\"ansi-blue-fg\">&#34;MAE with random forest = %g&#34;</span> <span class=\"ansi-blue-fg\">%</span> <span class=\"ansi-blue-fg\">(</span>evaluator_mae<span class=\"ansi-blue-fg\">.</span>evaluate<span class=\"ansi-blue-fg\">(</span>predictions_rf<span class=\"ansi-blue-fg\">)</span><span class=\"ansi-blue-fg\">)</span><span class=\"ansi-blue-fg\">)</span>\n",
       "<span class=\"ansi-green-intense-fg ansi-bold\">      2</span> print<span class=\"ansi-blue-fg\">(</span><span class=\"ansi-blue-fg\">&#34;RMSE with random forest = %g&#34;</span> <span class=\"ansi-blue-fg\">%</span> <span class=\"ansi-blue-fg\">(</span>evaluator_rmse<span class=\"ansi-blue-fg\">.</span>evaluate<span class=\"ansi-blue-fg\">(</span>predictions_rf<span class=\"ansi-blue-fg\">)</span><span class=\"ansi-blue-fg\">)</span><span class=\"ansi-blue-fg\">)</span>\n",
       "<span class=\"ansi-green-intense-fg ansi-bold\">      3</span> \n",
       "<span class=\"ansi-green-intense-fg ansi-bold\">      4</span> print<span class=\"ansi-blue-fg\">(</span><span class=\"ansi-blue-fg\">&#34;MAE with gradient boosting = %g&#34;</span> <span class=\"ansi-blue-fg\">%</span> <span class=\"ansi-blue-fg\">(</span>evaluator_mae<span class=\"ansi-blue-fg\">.</span>evaluate<span class=\"ansi-blue-fg\">(</span>predictions_gbt<span class=\"ansi-blue-fg\">)</span><span class=\"ansi-blue-fg\">)</span><span class=\"ansi-blue-fg\">)</span>\n",
       "<span class=\"ansi-green-intense-fg ansi-bold\">      5</span> print<span class=\"ansi-blue-fg\">(</span><span class=\"ansi-blue-fg\">&#34;RMSE with gradient boosting = %g&#34;</span> <span class=\"ansi-blue-fg\">%</span> <span class=\"ansi-blue-fg\">(</span>evaluator_rmse<span class=\"ansi-blue-fg\">.</span>evaluate<span class=\"ansi-blue-fg\">(</span>predictions_gbt<span class=\"ansi-blue-fg\">)</span><span class=\"ansi-blue-fg\">)</span><span class=\"ansi-blue-fg\">)</span>\n",
       "\n",
       "<span class=\"ansi-red-fg\">NameError</span>: name &#39;predictions_rf&#39; is not defined</div>"
      ]
     },
     "metadata": {},
     "output_type": "display_data"
    }
   ],
   "source": [
    "print(\"MAE with random forest = %g\" % (evaluator_mae.evaluate(predictions_rf)))\n",
    "print(\"RMSE with random forest = %g\" % (evaluator_rmse.evaluate(predictions_rf)))\n",
    "\n",
    "print(\"MAE with gradient boosting = %g\" % (evaluator_mae.evaluate(predictions_gbt)))\n",
    "print(\"RMSE with gradient boosting = %g\" % (evaluator_rmse.evaluate(predictions_gbt)))"
   ]
  },
  {
   "cell_type": "markdown",
   "metadata": {},
   "source": [
    "### Another model using another libary : Neural network with keras"
   ]
  },
  {
   "cell_type": "markdown",
   "metadata": {},
   "source": [
    "First, we create our model."
   ]
  },
  {
   "cell_type": "code",
   "execution_count": 112,
   "metadata": {},
   "outputs": [
    {
     "data": {
      "text/html": [
       "<style scoped>\n",
       "  .ansiout {\n",
       "    display: block;\n",
       "    unicode-bidi: embed;\n",
       "    white-space: pre-wrap;\n",
       "    word-wrap: break-word;\n",
       "    word-break: break-all;\n",
       "    font-family: \"Source Code Pro\", \"Menlo\", monospace;;\n",
       "    font-size: 13px;\n",
       "    color: #555;\n",
       "    margin-left: 4px;\n",
       "    line-height: 19px;\n",
       "  }\n",
       "</style>\n",
       "<div class=\"ansiout\"></div>"
      ]
     },
     "metadata": {},
     "output_type": "display_data"
    }
   ],
   "source": [
    "class our_small_network(keras.Model):\n",
    "  def __init__(self):\n",
    "    super(our_small_network, self).__init__()\n",
    "    self.first = keras.layers.Dense(32,  activation='relu')\n",
    "    self.dense16 = keras.layers.Dense(16, activation = 'relu')\n",
    "    self.dense8 = keras.layers.Dense(8, activation = 'relu')\n",
    "    self.dense1 = keras.layers.Dense(1, activation = 'relu')\n",
    "\n",
    "  def __call__(self, input_tensor):\n",
    "    x = self.first(input_tensor)\n",
    "    x = self.dense16(x)\n",
    "    x = self.dense8(x)\n",
    "    x = self.dense1(x)\n",
    "    return(x)"
   ]
  },
  {
   "cell_type": "markdown",
   "metadata": {},
   "source": [
    "The second step is to make other functions to be able to customize our model depending on what features we want to use (do we want to use G1 and G2 to predict G3, or only other features)"
   ]
  },
  {
   "cell_type": "code",
   "execution_count": 114,
   "metadata": {},
   "outputs": [
    {
     "data": {
      "text/html": [
       "<style scoped>\n",
       "  .ansiout {\n",
       "    display: block;\n",
       "    unicode-bidi: embed;\n",
       "    white-space: pre-wrap;\n",
       "    word-wrap: break-word;\n",
       "    word-break: break-all;\n",
       "    font-family: \"Source Code Pro\", \"Menlo\", monospace;;\n",
       "    font-size: 13px;\n",
       "    color: #555;\n",
       "    margin-left: 4px;\n",
       "    line-height: 19px;\n",
       "  }\n",
       "</style>\n",
       "<div class=\"ansiout\"></div>"
      ]
     },
     "metadata": {},
     "output_type": "display_data"
    }
   ],
   "source": [
    "#function to implement the model depending on our input\n",
    "def make_our_model(with_G1_G2):\n",
    "  if with_G1_G2 == False:\n",
    "    x = keras.Input(shape=(56,))\n",
    "  if with_G1_G2 == True:\n",
    "    x = keras.Input(shape=(58,))\n",
    "  \n",
    "  y = our_small_network()(x)\n",
    "  model = keras.Model(inputs = x, outputs = y)\n",
    "  print(model.summary())\n",
    "\n",
    "  model.compile(optimizer= 'adam', metrics=['mae'], loss='mae')\n",
    "  return(model)\n",
    "\n",
    "#fitting the function with adapted dataset (with dummies and normalized, because NN work better with normalized data)\n",
    "def fit_our_model(dataset, with_G1_G2):\n",
    "  grade = dataset.pop('G3')\n",
    "\n",
    "  if with_G1_G2 == False:\n",
    "    dataset.drop(['G1','G2'], axis = 1, inplace = True)\n",
    "\n",
    "  data = pd.get_dummies(dataset)\n",
    "\n",
    "  scaler = preprocessing.StandardScaler()\n",
    "  scaled_df = scaler.fit_transform(data)\n",
    "  scaled_df = pd.DataFrame(scaled_df, columns=data.columns)\n",
    "\n",
    "  X_train, X_test, y_train, y_test = train_test_split(data, grade, test_size = 0.2)\n",
    "\n",
    "  m = make_our_model(with_G1_G2)\n",
    "  m.fit(X_train, y_train, epochs=50, batch_size=20)\n",
    "\n",
    "  y_test_pred = m.predict(X_test)\n",
    "  mae = mean_absolute_error(y_test, y_test_pred)\n",
    "\n",
    "  return(\"The mean Absolute Error when predicting on test set is \", mae)"
   ]
  },
  {
   "cell_type": "markdown",
   "metadata": {},
   "source": [
    "The last step is to apply our function to our dataset ; we do it twice, once using G1 and G2, once without them."
   ]
  },
  {
   "cell_type": "code",
   "execution_count": 116,
   "metadata": {},
   "outputs": [
    {
     "data": {
      "text/html": [
       "<style scoped>\n",
       "  .ansiout {\n",
       "    display: block;\n",
       "    unicode-bidi: embed;\n",
       "    white-space: pre-wrap;\n",
       "    word-wrap: break-word;\n",
       "    word-break: break-all;\n",
       "    font-family: \"Source Code Pro\", \"Menlo\", monospace;;\n",
       "    font-size: 13px;\n",
       "    color: #555;\n",
       "    margin-left: 4px;\n",
       "    line-height: 19px;\n",
       "  }\n",
       "</style>\n",
       "<div class=\"ansiout\">Model: &#34;model_4&#34;\n",
       "_________________________________________________________________\n",
       "Layer (type)                 Output Shape              Param #   \n",
       "=================================================================\n",
       "input_4 (InputLayer)         (None, 58)                0         \n",
       "_________________________________________________________________\n",
       "dense_13 (Dense)             (None, 32)                1888      \n",
       "_________________________________________________________________\n",
       "dense_14 (Dense)             (None, 16)                528       \n",
       "_________________________________________________________________\n",
       "dense_15 (Dense)             (None, 8)                 136       \n",
       "_________________________________________________________________\n",
       "dense_16 (Dense)             (None, 1)                 9         \n",
       "=================================================================\n",
       "Total params: 2,561\n",
       "Trainable params: 2,561\n",
       "Non-trainable params: 0\n",
       "_________________________________________________________________\n",
       "None\n",
       "Epoch 1/50\n",
       "\r",
       " 20/519 [&gt;.............................] - ETA: 3s - loss: 9.6003 - mae: 9.6003\b\b\b\b\b\b\b\b\b\b\b\b\b\b\b\b\b\b\b\b\b\b\b\b\b\b\b\b\b\b\b\b\b\b\b\b\b\b\b\b\b\b\b\b\b\b\b\b\b\b\b\b\b\b\b\b\b\b\b\b\b\b\b\b\b\b\b\b\b\b\b\b\b\b\b\b\b\b\b\r",
       "519/519 [==============================] - 0s 318us/step - loss: 6.2511 - mae: 6.2511\n",
       "Epoch 2/50\n",
       "\r",
       " 20/519 [&gt;.............................] - ETA: 0s - loss: 2.0873 - mae: 2.0873\b\b\b\b\b\b\b\b\b\b\b\b\b\b\b\b\b\b\b\b\b\b\b\b\b\b\b\b\b\b\b\b\b\b\b\b\b\b\b\b\b\b\b\b\b\b\b\b\b\b\b\b\b\b\b\b\b\b\b\b\b\b\b\b\b\b\b\b\b\b\b\b\b\b\b\b\b\b\b\r",
       "519/519 [==============================] - 0s 62us/step - loss: 1.8554 - mae: 1.8554\n",
       "Epoch 3/50\n",
       "\r",
       " 20/519 [&gt;.............................] - ETA: 0s - loss: 1.5973 - mae: 1.5973\b\b\b\b\b\b\b\b\b\b\b\b\b\b\b\b\b\b\b\b\b\b\b\b\b\b\b\b\b\b\b\b\b\b\b\b\b\b\b\b\b\b\b\b\b\b\b\b\b\b\b\b\b\b\b\b\b\b\b\b\b\b\b\b\b\b\b\b\b\b\b\b\b\b\b\b\b\b\b\r",
       "519/519 [==============================] - 0s 65us/step - loss: 1.3543 - mae: 1.3543\n",
       "Epoch 4/50\n",
       "\r",
       " 20/519 [&gt;.............................] - ETA: 0s - loss: 1.1262 - mae: 1.1262\b\b\b\b\b\b\b\b\b\b\b\b\b\b\b\b\b\b\b\b\b\b\b\b\b\b\b\b\b\b\b\b\b\b\b\b\b\b\b\b\b\b\b\b\b\b\b\b\b\b\b\b\b\b\b\b\b\b\b\b\b\b\b\b\b\b\b\b\b\b\b\b\b\b\b\b\b\b\b\r",
       "519/519 [==============================] - 0s 84us/step - loss: 1.2011 - mae: 1.2011\n",
       "Epoch 5/50\n",
       "\r",
       " 20/519 [&gt;.............................] - ETA: 0s - loss: 0.7345 - mae: 0.7345\b\b\b\b\b\b\b\b\b\b\b\b\b\b\b\b\b\b\b\b\b\b\b\b\b\b\b\b\b\b\b\b\b\b\b\b\b\b\b\b\b\b\b\b\b\b\b\b\b\b\b\b\b\b\b\b\b\b\b\b\b\b\b\b\b\b\b\b\b\b\b\b\b\b\b\b\b\b\b\r",
       "519/519 [==============================] - 0s 70us/step - loss: 1.0332 - mae: 1.0332\n",
       "Epoch 6/50\n",
       "\r",
       " 20/519 [&gt;.............................] - ETA: 0s - loss: 0.8819 - mae: 0.8819\b\b\b\b\b\b\b\b\b\b\b\b\b\b\b\b\b\b\b\b\b\b\b\b\b\b\b\b\b\b\b\b\b\b\b\b\b\b\b\b\b\b\b\b\b\b\b\b\b\b\b\b\b\b\b\b\b\b\b\b\b\b\b\b\b\b\b\b\b\b\b\b\b\b\b\b\b\b\b\r",
       "519/519 [==============================] - 0s 61us/step - loss: 0.9908 - mae: 0.9908\n",
       "Epoch 7/50\n",
       "\r",
       " 20/519 [&gt;.............................] - ETA: 0s - loss: 1.4276 - mae: 1.4276\b\b\b\b\b\b\b\b\b\b\b\b\b\b\b\b\b\b\b\b\b\b\b\b\b\b\b\b\b\b\b\b\b\b\b\b\b\b\b\b\b\b\b\b\b\b\b\b\b\b\b\b\b\b\b\b\b\b\b\b\b\b\b\b\b\b\b\b\b\b\b\b\b\b\b\b\b\b\b\r",
       "519/519 [==============================] - 0s 66us/step - loss: 0.9120 - mae: 0.9120\n",
       "Epoch 8/50\n",
       "\r",
       " 20/519 [&gt;.............................] - ETA: 0s - loss: 1.2134 - mae: 1.2134\b\b\b\b\b\b\b\b\b\b\b\b\b\b\b\b\b\b\b\b\b\b\b\b\b\b\b\b\b\b\b\b\b\b\b\b\b\b\b\b\b\b\b\b\b\b\b\b\b\b\b\b\b\b\b\b\b\b\b\b\b\b\b\b\b\b\b\b\b\b\b\b\b\b\b\b\b\b\b\r",
       "519/519 [==============================] - 0s 61us/step - loss: 0.8704 - mae: 0.8704\n",
       "Epoch 9/50\n",
       "\r",
       " 20/519 [&gt;.............................] - ETA: 0s - loss: 1.0382 - mae: 1.0382\b\b\b\b\b\b\b\b\b\b\b\b\b\b\b\b\b\b\b\b\b\b\b\b\b\b\b\b\b\b\b\b\b\b\b\b\b\b\b\b\b\b\b\b\b\b\b\b\b\b\b\b\b\b\b\b\b\b\b\b\b\b\b\b\b\b\b\b\b\b\b\b\b\b\b\b\b\b\b\r",
       "519/519 [==============================] - 0s 60us/step - loss: 0.8567 - mae: 0.8567\n",
       "Epoch 10/50\n",
       "\r",
       " 20/519 [&gt;.............................] - ETA: 0s - loss: 1.0327 - mae: 1.0327\b\b\b\b\b\b\b\b\b\b\b\b\b\b\b\b\b\b\b\b\b\b\b\b\b\b\b\b\b\b\b\b\b\b\b\b\b\b\b\b\b\b\b\b\b\b\b\b\b\b\b\b\b\b\b\b\b\b\b\b\b\b\b\b\b\b\b\b\b\b\b\b\b\b\b\b\b\b\b\r",
       "519/519 [==============================] - 0s 61us/step - loss: 0.8592 - mae: 0.8592\n",
       "Epoch 11/50\n",
       "\r",
       " 20/519 [&gt;.............................] - ETA: 0s - loss: 0.7241 - mae: 0.7241\b\b\b\b\b\b\b\b\b\b\b\b\b\b\b\b\b\b\b\b\b\b\b\b\b\b\b\b\b\b\b\b\b\b\b\b\b\b\b\b\b\b\b\b\b\b\b\b\b\b\b\b\b\b\b\b\b\b\b\b\b\b\b\b\b\b\b\b\b\b\b\b\b\b\b\b\b\b\b\r",
       "519/519 [==============================] - 0s 61us/step - loss: 0.8386 - mae: 0.8386\n",
       "Epoch 12/50\n",
       "\r",
       " 20/519 [&gt;.............................] - ETA: 0s - loss: 0.9313 - mae: 0.9313\b\b\b\b\b\b\b\b\b\b\b\b\b\b\b\b\b\b\b\b\b\b\b\b\b\b\b\b\b\b\b\b\b\b\b\b\b\b\b\b\b\b\b\b\b\b\b\b\b\b\b\b\b\b\b\b\b\b\b\b\b\b\b\b\b\b\b\b\b\b\b\b\b\b\b\b\b\b\b\r",
       "519/519 [==============================] - 0s 62us/step - loss: 0.8028 - mae: 0.8028\n",
       "Epoch 13/50\n",
       "\r",
       " 20/519 [&gt;.............................] - ETA: 0s - loss: 0.6518 - mae: 0.6518\b\b\b\b\b\b\b\b\b\b\b\b\b\b\b\b\b\b\b\b\b\b\b\b\b\b\b\b\b\b\b\b\b\b\b\b\b\b\b\b\b\b\b\b\b\b\b\b\b\b\b\b\b\b\b\b\b\b\b\b\b\b\b\b\b\b\b\b\b\b\b\b\b\b\b\b\b\b\b\r",
       "519/519 [==============================] - 0s 61us/step - loss: 0.8021 - mae: 0.8021\n",
       "Epoch 14/50\n",
       "\r",
       " 20/519 [&gt;.............................] - ETA: 0s - loss: 0.6925 - mae: 0.6925\b\b\b\b\b\b\b\b\b\b\b\b\b\b\b\b\b\b\b\b\b\b\b\b\b\b\b\b\b\b\b\b\b\b\b\b\b\b\b\b\b\b\b\b\b\b\b\b\b\b\b\b\b\b\b\b\b\b\b\b\b\b\b\b\b\b\b\b\b\b\b\b\b\b\b\b\b\b\b\r",
       "519/519 [==============================] - 0s 59us/step - loss: 0.7948 - mae: 0.7948\n",
       "Epoch 15/50\n",
       "\r",
       " 20/519 [&gt;.............................] - ETA: 0s - loss: 0.5536 - mae: 0.5536\b\b\b\b\b\b\b\b\b\b\b\b\b\b\b\b\b\b\b\b\b\b\b\b\b\b\b\b\b\b\b\b\b\b\b\b\b\b\b\b\b\b\b\b\b\b\b\b\b\b\b\b\b\b\b\b\b\b\b\b\b\b\b\b\b\b\b\b\b\b\b\b\b\b\b\b\b\b\b\r",
       "519/519 [==============================] - 0s 59us/step - loss: 0.7996 - mae: 0.7996\n",
       "Epoch 16/50\n",
       "\r",
       " 20/519 [&gt;.............................] - ETA: 0s - loss: 0.5266 - mae: 0.5266\b\b\b\b\b\b\b\b\b\b\b\b\b\b\b\b\b\b\b\b\b\b\b\b\b\b\b\b\b\b\b\b\b\b\b\b\b\b\b\b\b\b\b\b\b\b\b\b\b\b\b\b\b\b\b\b\b\b\b\b\b\b\b\b\b\b\b\b\b\b\b\b\b\b\b\b\b\b\b\r",
       "519/519 [==============================] - 0s 61us/step - loss: 0.7614 - mae: 0.7614\n",
       "Epoch 17/50\n",
       "\r",
       " 20/519 [&gt;.............................] - ETA: 0s - loss: 0.7593 - mae: 0.7593\b\b\b\b\b\b\b\b\b\b\b\b\b\b\b\b\b\b\b\b\b\b\b\b\b\b\b\b\b\b\b\b\b\b\b\b\b\b\b\b\b\b\b\b\b\b\b\b\b\b\b\b\b\b\b\b\b\b\b\b\b\b\b\b\b\b\b\b\b\b\b\b\b\b\b\b\b\b\b\r",
       "519/519 [==============================] - 0s 60us/step - loss: 0.7811 - mae: 0.7811\n",
       "Epoch 18/50\n",
       "\r",
       " 20/519 [&gt;.............................] - ETA: 0s - loss: 0.6238 - mae: 0.6238\b\b\b\b\b\b\b\b\b\b\b\b\b\b\b\b\b\b\b\b\b\b\b\b\b\b\b\b\b\b\b\b\b\b\b\b\b\b\b\b\b\b\b\b\b\b\b\b\b\b\b\b\b\b\b\b\b\b\b\b\b\b\b\b\b\b\b\b\b\b\b\b\b\b\b\b\b\b\b\r",
       "519/519 [==============================] - 0s 58us/step - loss: 0.7607 - mae: 0.7607\n",
       "Epoch 19/50\n",
       "\r",
       " 20/519 [&gt;.............................] - ETA: 0s - loss: 0.6320 - mae: 0.6320\b\b\b\b\b\b\b\b\b\b\b\b\b\b\b\b\b\b\b\b\b\b\b\b\b\b\b\b\b\b\b\b\b\b\b\b\b\b\b\b\b\b\b\b\b\b\b\b\b\b\b\b\b\b\b\b\b\b\b\b\b\b\b\b\b\b\b\b\b\b\b\b\b\b\b\b\b\b\b\r",
       "519/519 [==============================] - 0s 61us/step - loss: 0.7576 - mae: 0.7576\n",
       "Epoch 20/50\n",
       "\r",
       " 20/519 [&gt;.............................] - ETA: 0s - loss: 0.6407 - mae: 0.6407\b\b\b\b\b\b\b\b\b\b\b\b\b\b\b\b\b\b\b\b\b\b\b\b\b\b\b\b\b\b\b\b\b\b\b\b\b\b\b\b\b\b\b\b\b\b\b\b\b\b\b\b\b\b\b\b\b\b\b\b\b\b\b\b\b\b\b\b\b\b\b\b\b\b\b\b\b\b\b\r",
       "519/519 [==============================] - 0s 59us/step - loss: 0.7622 - mae: 0.7622\n",
       "Epoch 21/50\n",
       "\r",
       " 20/519 [&gt;.............................] - ETA: 0s - loss: 0.6729 - mae: 0.6729\b\b\b\b\b\b\b\b\b\b\b\b\b\b\b\b\b\b\b\b\b\b\b\b\b\b\b\b\b\b\b\b\b\b\b\b\b\b\b\b\b\b\b\b\b\b\b\b\b\b\b\b\b\b\b\b\b\b\b\b\b\b\b\b\b\b\b\b\b\b\b\b\b\b\b\b\b\b\b\r",
       "519/519 [==============================] - 0s 59us/step - loss: 0.7472 - mae: 0.7472\n",
       "Epoch 22/50\n",
       "\r",
       " 20/519 [&gt;.............................] - ETA: 0s - loss: 0.9722 - mae: 0.9722\b\b\b\b\b\b\b\b\b\b\b\b\b\b\b\b\b\b\b\b\b\b\b\b\b\b\b\b\b\b\b\b\b\b\b\b\b\b\b\b\b\b\b\b\b\b\b\b\b\b\b\b\b\b\b\b\b\b\b\b\b\b\b\b\b\b\b\b\b\b\b\b\b\b\b\b\b\b\b\r",
       "519/519 [==============================] - 0s 68us/step - loss: 0.7761 - mae: 0.7761\n",
       "Epoch 23/50\n",
       "\r",
       " 20/519 [&gt;.............................] - ETA: 0s - loss: 0.6239 - mae: 0.6239\b\b\b\b\b\b\b\b\b\b\b\b\b\b\b\b\b\b\b\b\b\b\b\b\b\b\b\b\b\b\b\b\b\b\b\b\b\b\b\b\b\b\b\b\b\b\b\b\b\b\b\b\b\b\b\b\b\b\b\b\b\b\b\b\b\b\b\b\b\b\b\b\b\b\b\b\b\b\b\r",
       "519/519 [==============================] - 0s 60us/step - loss: 0.7325 - mae: 0.7325\n",
       "Epoch 24/50\n",
       "\r",
       " 20/519 [&gt;.............................] - ETA: 0s - loss: 0.7650 - mae: 0.7650\b\b\b\b\b\b\b\b\b\b\b\b\b\b\b\b\b\b\b\b\b\b\b\b\b\b\b\b\b\b\b\b\b\b\b\b\b\b\b\b\b\b\b\b\b\b\b\b\b\b\b\b\b\b\b\b\b\b\b\b\b\b\b\b\b\b\b\b\b\b\b\b\b\b\b\b\b\b\b\r",
       "519/519 [==============================] - 0s 60us/step - loss: 0.7571 - mae: 0.7571\n",
       "Epoch 25/50\n",
       "\r",
       " 20/519 [&gt;.............................] - ETA: 0s - loss: 0.6502 - mae: 0.6502\b\b\b\b\b\b\b\b\b\b\b\b\b\b\b\b\b\b\b\b\b\b\b\b\b\b\b\b\b\b\b\b\b\b\b\b\b\b\b\b\b\b\b\b\b\b\b\b\b\b\b\b\b\b\b\b\b\b\b\b\b\b\b\b\b\b\b\b\b\b\b\b\b\b\b\b\b\b\b\r",
       "519/519 [==============================] - 0s 60us/step - loss: 0.7481 - mae: 0.7481\n",
       "Epoch 26/50\n",
       "\r",
       " 20/519 [&gt;.............................] - ETA: 0s - loss: 0.6182 - mae: 0.6182\b\b\b\b\b\b\b\b\b\b\b\b\b\b\b\b\b\b\b\b\b\b\b\b\b\b\b\b\b\b\b\b\b\b\b\b\b\b\b\b\b\b\b\b\b\b\b\b\b\b\b\b\b\b\b\b\b\b\b\b\b\b\b\b\b\b\b\b\b\b\b\b\b\b\b\b\b\b\b\r",
       "519/519 [==============================] - 0s 60us/step - loss: 0.7328 - mae: 0.7328\n",
       "Epoch 27/50\n",
       "\r",
       " 20/519 [&gt;.............................] - ETA: 0s - loss: 0.4010 - mae: 0.4010\b\b\b\b\b\b\b\b\b\b\b\b\b\b\b\b\b\b\b\b\b\b\b\b\b\b\b\b\b\b\b\b\b\b\b\b\b\b\b\b\b\b\b\b\b\b\b\b\b\b\b\b\b\b\b\b\b\b\b\b\b\b\b\b\b\b\b\b\b\b\b\b\b\b\b\b\b\b\b\r",
       "519/519 [==============================] - 0s 68us/step - loss: 0.7307 - mae: 0.7307\n",
       "Epoch 28/50\n",
       "\r",
       " 20/519 [&gt;.............................] - ETA: 0s - loss: 1.1714 - mae: 1.1714\b\b\b\b\b\b\b\b\b\b\b\b\b\b\b\b\b\b\b\b\b\b\b\b\b\b\b\b\b\b\b\b\b\b\b\b\b\b\b\b\b\b\b\b\b\b\b\b\b\b\b\b\b\b\b\b\b\b\b\b\b\b\b\b\b\b\b\b\b\b\b\b\b\b\b\b\b\b\b\r",
       "519/519 [==============================] - 0s 61us/step - loss: 0.7254 - mae: 0.7254\n",
       "Epoch 29/50\n",
       "\r",
       " 20/519 [&gt;.............................] - ETA: 0s - loss: 0.6342 - mae: 0.6342\b\b\b\b\b\b\b\b\b\b\b\b\b\b\b\b\b\b\b\b\b\b\b\b\b\b\b\b\b\b\b\b\b\b\b\b\b\b\b\b\b\b\b\b\b\b\b\b\b\b\b\b\b\b\b\b\b\b\b\b\b\b\b\b\b\b\b\b\b\b\b\b\b\b\b\b\b\b\b\r",
       "519/519 [==============================] - 0s 65us/step - loss: 0.7266 - mae: 0.7266\n",
       "Epoch 30/50\n",
       "\r",
       " 20/519 [&gt;.............................] - ETA: 0s - loss: 0.5287 - mae: 0.5287\b\b\b\b\b\b\b\b\b\b\b\b\b\b\b\b\b\b\b\b\b\b\b\b\b\b\b\b\b\b\b\b\b\b\b\b\b\b\b\b\b\b\b\b\b\b\b\b\b\b\b\b\b\b\b\b\b\b\b\b\b\b\b\b\b\b\b\b\b\b\b\b\b\b\b\b\b\b\b\r",
       "519/519 [==============================] - 0s 58us/step - loss: 0.7188 - mae: 0.7188\n",
       "Epoch 31/50\n",
       "\r",
       " 20/519 [&gt;.............................] - ETA: 0s - loss: 1.0525 - mae: 1.0525\b\b\b\b\b\b\b\b\b\b\b\b\b\b\b\b\b\b\b\b\b\b\b\b\b\b\b\b\b\b\b\b\b\b\b\b\b\b\b\b\b\b\b\b\b\b\b\b\b\b\b\b\b\b\b\b\b\b\b\b\b\b\b\b\b\b\b\b\b\b\b\b\b\b\b\b\b\b\b\r",
       "519/519 [==============================] - 0s 60us/step - loss: 0.7337 - mae: 0.7337\n",
       "Epoch 32/50\n",
       "\r",
       " 20/519 [&gt;.............................] - ETA: 0s - loss: 0.8067 - mae: 0.8067\b\b\b\b\b\b\b\b\b\b\b\b\b\b\b\b\b\b\b\b\b\b\b\b\b\b\b\b\b\b\b\b\b\b\b\b\b\b\b\b\b\b\b\b\b\b\b\b\b\b\b\b\b\b\b\b\b\b\b\b\b\b\b\b\b\b\b\b\b\b\b\b\b\b\b\b\b\b\b\r",
       "519/519 [==============================] - 0s 59us/step - loss: 0.7348 - mae: 0.7348\n",
       "Epoch 33/50\n",
       "\r",
       " 20/519 [&gt;.............................] - ETA: 0s - loss: 0.8384 - mae: 0.8384\b\b\b\b\b\b\b\b\b\b\b\b\b\b\b\b\b\b\b\b\b\b\b\b\b\b\b\b\b\b\b\b\b\b\b\b\b\b\b\b\b\b\b\b\b\b\b\b\b\b\b\b\b\b\b\b\b\b\b\b\b\b\b\b\b\b\b\b\b\b\b\b\b\b\b\b\b\b\b\r",
       "519/519 [==============================] - 0s 59us/step - loss: 0.6973 - mae: 0.6973\n",
       "Epoch 34/50\n",
       "\r",
       " 20/519 [&gt;.............................] - ETA: 0s - loss: 0.7152 - mae: 0.7152\b\b\b\b\b\b\b\b\b\b\b\b\b\b\b\b\b\b\b\b\b\b\b\b\b\b\b\b\b\b\b\b\b\b\b\b\b\b\b\b\b\b\b\b\b\b\b\b\b\b\b\b\b\b\b\b\b\b\b\b\b\b\b\b\b\b\b\b\b\b\b\b\b\b\b\b\b\b\b\r",
       "519/519 [==============================] - 0s 59us/step - loss: 0.6900 - mae: 0.6900\n",
       "Epoch 35/50\n",
       "\r",
       " 20/519 [&gt;.............................] - ETA: 0s - loss: 0.6653 - mae: 0.6653\b\b\b\b\b\b\b\b\b\b\b\b\b\b\b\b\b\b\b\b\b\b\b\b\b\b\b\b\b\b\b\b\b\b\b\b\b\b\b\b\b\b\b\b\b\b\b\b\b\b\b\b\b\b\b\b\b\b\b\b\b\b\b\b\b\b\b\b\b\b\b\b\b\b\b\b\b\b\b\r",
       "519/519 [==============================] - 0s 59us/step - loss: 0.6868 - mae: 0.6868\n",
       "Epoch 36/50\n",
       "\r",
       " 20/519 [&gt;.............................] - ETA: 0s - loss: 0.6219 - mae: 0.6219\b\b\b\b\b\b\b\b\b\b\b\b\b\b\b\b\b\b\b\b\b\b\b\b\b\b\b\b\b\b\b\b\b\b\b\b\b\b\b\b\b\b\b\b\b\b\b\b\b\b\b\b\b\b\b\b\b\b\b\b\b\b\b\b\b\b\b\b\b\b\b\b\b\b\b\b\b\b\b\r",
       "519/519 [==============================] - 0s 61us/step - loss: 0.6894 - mae: 0.6894\n",
       "Epoch 37/50\n",
       "\r",
       " 20/519 [&gt;.............................] - ETA: 0s - loss: 0.4829 - mae: 0.4829\b\b\b\b\b\b\b\b\b\b\b\b\b\b\b\b\b\b\b\b\b\b\b\b\b\b\b\b\b\b\b\b\b\b\b\b\b\b\b\b\b\b\b\b\b\b\b\b\b\b\b\b\b\b\b\b\b\b\b\b\b\b\b\b\b\b\b\b\b\b\b\b\b\b\b\b\b\b\b\r",
       "519/519 [==============================] - 0s 59us/step - loss: 0.6815 - mae: 0.6815\n",
       "Epoch 38/50\n",
       "\r",
       " 20/519 [&gt;.............................] - ETA: 0s - loss: 0.6569 - mae: 0.6569\b\b\b\b\b\b\b\b\b\b\b\b\b\b\b\b\b\b\b\b\b\b\b\b\b\b\b\b\b\b\b\b\b\b\b\b\b\b\b\b\b\b\b\b\b\b\b\b\b\b\b\b\b\b\b\b\b\b\b\b\b\b\b\b\b\b\b\b\b\b\b\b\b\b\b\b\b\b\b\r",
       "519/519 [==============================] - 0s 72us/step - loss: 0.7124 - mae: 0.7124\n",
       "Epoch 39/50\n",
       "\r",
       " 20/519 [&gt;.............................] - ETA: 0s - loss: 0.8305 - mae: 0.8305\b\b\b\b\b\b\b\b\b\b\b\b\b\b\b\b\b\b\b\b\b\b\b\b\b\b\b\b\b\b\b\b\b\b\b\b\b\b\b\b\b\b\b\b\b\b\b\b\b\b\b\b\b\b\b\b\b\b\b\b\b\b\b\b\b\b\b\b\b\b\b\b\b\b\b\b\b\b\b\r",
       "519/519 [==============================] - 0s 58us/step - loss: 0.6979 - mae: 0.6979\n",
       "Epoch 40/50\n",
       "\r",
       " 20/519 [&gt;.............................] - ETA: 0s - loss: 0.6394 - mae: 0.6394\b\b\b\b\b\b\b\b\b\b\b\b\b\b\b\b\b\b\b\b\b\b\b\b\b\b\b\b\b\b\b\b\b\b\b\b\b\b\b\b\b\b\b\b\b\b\b\b\b\b\b\b\b\b\b\b\b\b\b\b\b\b\b\b\b\b\b\b\b\b\b\b\b\b\b\b\b\b\b\r",
       "519/519 [==============================] - 0s 59us/step - loss: 0.7148 - mae: 0.7148\n",
       "Epoch 41/50\n",
       "\r",
       " 20/519 [&gt;.............................] - ETA: 0s - loss: 0.5804 - mae: 0.5804\b\b\b\b\b\b\b\b\b\b\b\b\b\b\b\b\b\b\b\b\b\b\b\b\b\b\b\b\b\b\b\b\b\b\b\b\b\b\b\b\b\b\b\b\b\b\b\b\b\b\b\b\b\b\b\b\b\b\b\b\b\b\b\b\b\b\b\b\b\b\b\b\b\b\b\b\b\b\b\r",
       "519/519 [==============================] - 0s 59us/step - loss: 0.6893 - mae: 0.6893\n",
       "Epoch 42/50\n",
       "\r",
       " 20/519 [&gt;.............................] - ETA: 0s - loss: 0.4298 - mae: 0.4298\b\b\b\b\b\b\b\b\b\b\b\b\b\b\b\b\b\b\b\b\b\b\b\b\b\b\b\b\b\b\b\b\b\b\b\b\b\b\b\b\b\b\b\b\b\b\b\b\b\b\b\b\b\b\b\b\b\b\b\b\b\b\b\b\b\b\b\b\b\b\b\b\b\b\b\b\b\b\b\r",
       "519/519 [==============================] - 0s 60us/step - loss: 0.6879 - mae: 0.6879\n",
       "Epoch 43/50\n",
       "\r",
       " 20/519 [&gt;.............................] - ETA: 0s - loss: 0.6542 - mae: 0.6542\b\b\b\b\b\b\b\b\b\b\b\b\b\b\b\b\b\b\b\b\b\b\b\b\b\b\b\b\b\b\b\b\b\b\b\b\b\b\b\b\b\b\b\b\b\b\b\b\b\b\b\b\b\b\b\b\b\b\b\b\b\b\b\b\b\b\b\b\b\b\b\b\b\b\b\b\b\b\b\r",
       "519/519 [==============================] - 0s 59us/step - loss: 0.6714 - mae: 0.6714\n",
       "Epoch 44/50\n",
       "\r",
       " 20/519 [&gt;.............................] - ETA: 0s - loss: 0.9761 - mae: 0.9761\b\b\b\b\b\b\b\b\b\b\b\b\b\b\b\b\b\b\b\b\b\b\b\b\b\b\b\b\b\b\b\b\b\b\b\b\b\b\b\b\b\b\b\b\b\b\b\b\b\b\b\b\b\b\b\b\b\b\b\b\b\b\b\b\b\b\b\b\b\b\b\b\b\b\b\b\b\b\b\r",
       "519/519 [==============================] - 0s 60us/step - loss: 0.6667 - mae: 0.6667\n",
       "Epoch 45/50\n",
       "\r",
       " 20/519 [&gt;.............................] - ETA: 0s - loss: 0.4324 - mae: 0.4324\b\b\b\b\b\b\b\b\b\b\b\b\b\b\b\b\b\b\b\b\b\b\b\b\b\b\b\b\b\b\b\b\b\b\b\b\b\b\b\b\b\b\b\b\b\b\b\b\b\b\b\b\b\b\b\b\b\b\b\b\b\b\b\b\b\b\b\b\b\b\b\b\b\b\b\b\b\b\b\r",
       "519/519 [==============================] - 0s 62us/step - loss: 0.6717 - mae: 0.6717\n",
       "Epoch 46/50\n",
       "\r",
       " 20/519 [&gt;.............................] - ETA: 0s - loss: 0.4705 - mae: 0.4705\b\b\b\b\b\b\b\b\b\b\b\b\b\b\b\b\b\b\b\b\b\b\b\b\b\b\b\b\b\b\b\b\b\b\b\b\b\b\b\b\b\b\b\b\b\b\b\b\b\b\b\b\b\b\b\b\b\b\b\b\b\b\b\b\b\b\b\b\b\b\b\b\b\b\b\b\b\b\b\r",
       "519/519 [==============================] - 0s 61us/step - loss: 0.6644 - mae: 0.6644\n",
       "Epoch 47/50\n",
       "\r",
       " 20/519 [&gt;.............................] - ETA: 0s - loss: 0.5570 - mae: 0.5570\b\b\b\b\b\b\b\b\b\b\b\b\b\b\b\b\b\b\b\b\b\b\b\b\b\b\b\b\b\b\b\b\b\b\b\b\b\b\b\b\b\b\b\b\b\b\b\b\b\b\b\b\b\b\b\b\b\b\b\b\b\b\b\b\b\b\b\b\b\b\b\b\b\b\b\b\b\b\b\r",
       "519/519 [==============================] - 0s 61us/step - loss: 0.6635 - mae: 0.6635\n",
       "Epoch 48/50\n",
       "\r",
       " 20/519 [&gt;.............................] - ETA: 0s - loss: 0.8813 - mae: 0.8813\b\b\b\b\b\b\b\b\b\b\b\b\b\b\b\b\b\b\b\b\b\b\b\b\b\b\b\b\b\b\b\b\b\b\b\b\b\b\b\b\b\b\b\b\b\b\b\b\b\b\b\b\b\b\b\b\b\b\b\b\b\b\b\b\b\b\b\b\b\b\b\b\b\b\b\b\b\b\b\r",
       "519/519 [==============================] - 0s 61us/step - loss: 0.6853 - mae: 0.6853\n",
       "Epoch 49/50\n",
       "\r",
       " 20/519 [&gt;.............................] - ETA: 0s - loss: 0.6155 - mae: 0.6155\b\b\b\b\b\b\b\b\b\b\b\b\b\b\b\b\b\b\b\b\b\b\b\b\b\b\b\b\b\b\b\b\b\b\b\b\b\b\b\b\b\b\b\b\b\b\b\b\b\b\b\b\b\b\b\b\b\b\b\b\b\b\b\b\b\b\b\b\b\b\b\b\b\b\b\b\b\b\b\r",
       "519/519 [==============================] - 0s 60us/step - loss: 0.6667 - mae: 0.6667\n",
       "Epoch 50/50\n",
       "\r",
       " 20/519 [&gt;.............................] - ETA: 0s - loss: 0.5952 - mae: 0.5952\b\b\b\b\b\b\b\b\b\b\b\b\b\b\b\b\b\b\b\b\b\b\b\b\b\b\b\b\b\b\b\b\b\b\b\b\b\b\b\b\b\b\b\b\b\b\b\b\b\b\b\b\b\b\b\b\b\b\b\b\b\b\b\b\b\b\b\b\b\b\b\b\b\b\b\b\b\b\b\r",
       "519/519 [==============================] - 0s 64us/step - loss: 0.6586 - mae: 0.6586\n",
       "Out[100]: (&#39;The mean Absolute Error when predicting on test set is &#39;, 0.8572076137249286)</div>"
      ]
     },
     "metadata": {},
     "output_type": "display_data"
    }
   ],
   "source": [
    "dataset = pd.read_csv(\"/dbfs/FileStore/tables/student_por-3edc6.csv\", sep=\";\", header= 0)\n",
    "fit_our_model(dataset, True)"
   ]
  },
  {
   "cell_type": "code",
   "execution_count": 117,
   "metadata": {},
   "outputs": [
    {
     "data": {
      "text/html": [
       "<style scoped>\n",
       "  .ansiout {\n",
       "    display: block;\n",
       "    unicode-bidi: embed;\n",
       "    white-space: pre-wrap;\n",
       "    word-wrap: break-word;\n",
       "    word-break: break-all;\n",
       "    font-family: \"Source Code Pro\", \"Menlo\", monospace;;\n",
       "    font-size: 13px;\n",
       "    color: #555;\n",
       "    margin-left: 4px;\n",
       "    line-height: 19px;\n",
       "  }\n",
       "</style>\n",
       "<div class=\"ansiout\">Model: &#34;model_5&#34;\n",
       "_________________________________________________________________\n",
       "Layer (type)                 Output Shape              Param #   \n",
       "=================================================================\n",
       "input_5 (InputLayer)         (None, 56)                0         \n",
       "_________________________________________________________________\n",
       "dense_17 (Dense)             (None, 32)                1824      \n",
       "_________________________________________________________________\n",
       "dense_18 (Dense)             (None, 16)                528       \n",
       "_________________________________________________________________\n",
       "dense_19 (Dense)             (None, 8)                 136       \n",
       "_________________________________________________________________\n",
       "dense_20 (Dense)             (None, 1)                 9         \n",
       "=================================================================\n",
       "Total params: 2,497\n",
       "Trainable params: 2,497\n",
       "Non-trainable params: 0\n",
       "_________________________________________________________________\n",
       "None\n",
       "Epoch 1/50\n",
       "\r",
       " 20/519 [&gt;.............................] - ETA: 3s - loss: 11.6788 - mae: 11.6788\b\b\b\b\b\b\b\b\b\b\b\b\b\b\b\b\b\b\b\b\b\b\b\b\b\b\b\b\b\b\b\b\b\b\b\b\b\b\b\b\b\b\b\b\b\b\b\b\b\b\b\b\b\b\b\b\b\b\b\b\b\b\b\b\b\b\b\b\b\b\b\b\b\b\b\b\b\b\b\b\b\r",
       "519/519 [==============================] - 0s 316us/step - loss: 10.6683 - mae: 10.6683\n",
       "Epoch 2/50\n",
       "\r",
       " 20/519 [&gt;.............................] - ETA: 0s - loss: 8.5829 - mae: 8.5829\b\b\b\b\b\b\b\b\b\b\b\b\b\b\b\b\b\b\b\b\b\b\b\b\b\b\b\b\b\b\b\b\b\b\b\b\b\b\b\b\b\b\b\b\b\b\b\b\b\b\b\b\b\b\b\b\b\b\b\b\b\b\b\b\b\b\b\b\b\b\b\b\b\b\b\b\b\b\b\r",
       "519/519 [==============================] - 0s 60us/step - loss: 5.5569 - mae: 5.5569\n",
       "Epoch 3/50\n",
       "\r",
       " 20/519 [&gt;.............................] - ETA: 0s - loss: 2.7888 - mae: 2.7888\b\b\b\b\b\b\b\b\b\b\b\b\b\b\b\b\b\b\b\b\b\b\b\b\b\b\b\b\b\b\b\b\b\b\b\b\b\b\b\b\b\b\b\b\b\b\b\b\b\b\b\b\b\b\b\b\b\b\b\b\b\b\b\b\b\b\b\b\b\b\b\b\b\b\b\b\b\b\b\r",
       "519/519 [==============================] - 0s 60us/step - loss: 2.8880 - mae: 2.8880\n",
       "Epoch 4/50\n",
       "\r",
       " 20/519 [&gt;.............................] - ETA: 0s - loss: 2.8909 - mae: 2.8909\b\b\b\b\b\b\b\b\b\b\b\b\b\b\b\b\b\b\b\b\b\b\b\b\b\b\b\b\b\b\b\b\b\b\b\b\b\b\b\b\b\b\b\b\b\b\b\b\b\b\b\b\b\b\b\b\b\b\b\b\b\b\b\b\b\b\b\b\b\b\b\b\b\b\b\b\b\b\b\r",
       "519/519 [==============================] - 0s 65us/step - loss: 2.6099 - mae: 2.6099\n",
       "Epoch 5/50\n",
       "\r",
       " 20/519 [&gt;.............................] - ETA: 0s - loss: 2.8479 - mae: 2.8479\b\b\b\b\b\b\b\b\b\b\b\b\b\b\b\b\b\b\b\b\b\b\b\b\b\b\b\b\b\b\b\b\b\b\b\b\b\b\b\b\b\b\b\b\b\b\b\b\b\b\b\b\b\b\b\b\b\b\b\b\b\b\b\b\b\b\b\b\b\b\b\b\b\b\b\b\b\b\b\r",
       "519/519 [==============================] - 0s 66us/step - loss: 2.3904 - mae: 2.3904\n",
       "Epoch 6/50\n",
       "\r",
       " 20/519 [&gt;.............................] - ETA: 0s - loss: 1.4384 - mae: 1.4384\b\b\b\b\b\b\b\b\b\b\b\b\b\b\b\b\b\b\b\b\b\b\b\b\b\b\b\b\b\b\b\b\b\b\b\b\b\b\b\b\b\b\b\b\b\b\b\b\b\b\b\b\b\b\b\b\b\b\b\b\b\b\b\b\b\b\b\b\b\b\b\b\b\b\b\b\b\b\b\r",
       "519/519 [==============================] - 0s 60us/step - loss: 2.2340 - mae: 2.2340\n",
       "Epoch 7/50\n",
       "\r",
       " 20/519 [&gt;.............................] - ETA: 0s - loss: 1.7285 - mae: 1.7285\b\b\b\b\b\b\b\b\b\b\b\b\b\b\b\b\b\b\b\b\b\b\b\b\b\b\b\b\b\b\b\b\b\b\b\b\b\b\b\b\b\b\b\b\b\b\b\b\b\b\b\b\b\b\b\b\b\b\b\b\b\b\b\b\b\b\b\b\b\b\b\b\b\b\b\b\b\b\b\r",
       "519/519 [==============================] - 0s 61us/step - loss: 2.1470 - mae: 2.1470\n",
       "Epoch 8/50\n",
       "\r",
       " 20/519 [&gt;.............................] - ETA: 0s - loss: 1.3617 - mae: 1.3617\b\b\b\b\b\b\b\b\b\b\b\b\b\b\b\b\b\b\b\b\b\b\b\b\b\b\b\b\b\b\b\b\b\b\b\b\b\b\b\b\b\b\b\b\b\b\b\b\b\b\b\b\b\b\b\b\b\b\b\b\b\b\b\b\b\b\b\b\b\b\b\b\b\b\b\b\b\b\b\r",
       "519/519 [==============================] - 0s 60us/step - loss: 2.1042 - mae: 2.1042\n",
       "Epoch 9/50\n",
       "\r",
       " 20/519 [&gt;.............................] - ETA: 0s - loss: 1.3283 - mae: 1.3283\b\b\b\b\b\b\b\b\b\b\b\b\b\b\b\b\b\b\b\b\b\b\b\b\b\b\b\b\b\b\b\b\b\b\b\b\b\b\b\b\b\b\b\b\b\b\b\b\b\b\b\b\b\b\b\b\b\b\b\b\b\b\b\b\b\b\b\b\b\b\b\b\b\b\b\b\b\b\b\r",
       "519/519 [==============================] - 0s 61us/step - loss: 2.0540 - mae: 2.0540\n",
       "Epoch 10/50\n",
       "\r",
       " 20/519 [&gt;.............................] - ETA: 0s - loss: 2.5922 - mae: 2.5922\b\b\b\b\b\b\b\b\b\b\b\b\b\b\b\b\b\b\b\b\b\b\b\b\b\b\b\b\b\b\b\b\b\b\b\b\b\b\b\b\b\b\b\b\b\b\b\b\b\b\b\b\b\b\b\b\b\b\b\b\b\b\b\b\b\b\b\b\b\b\b\b\b\b\b\b\b\b\b\r",
       "519/519 [==============================] - 0s 62us/step - loss: 2.0241 - mae: 2.0241\n",
       "Epoch 11/50\n",
       "\r",
       " 20/519 [&gt;.............................] - ETA: 0s - loss: 2.3707 - mae: 2.3707\b\b\b\b\b\b\b\b\b\b\b\b\b\b\b\b\b\b\b\b\b\b\b\b\b\b\b\b\b\b\b\b\b\b\b\b\b\b\b\b\b\b\b\b\b\b\b\b\b\b\b\b\b\b\b\b\b\b\b\b\b\b\b\b\b\b\b\b\b\b\b\b\b\b\b\b\b\b\b\r",
       "519/519 [==============================] - 0s 61us/step - loss: 1.9924 - mae: 1.9924\n",
       "Epoch 12/50\n",
       "\r",
       " 20/519 [&gt;.............................] - ETA: 0s - loss: 1.3768 - mae: 1.3768\b\b\b\b\b\b\b\b\b\b\b\b\b\b\b\b\b\b\b\b\b\b\b\b\b\b\b\b\b\b\b\b\b\b\b\b\b\b\b\b\b\b\b\b\b\b\b\b\b\b\b\b\b\b\b\b\b\b\b\b\b\b\b\b\b\b\b\b\b\b\b\b\b\b\b\b\b\b\b\r",
       "519/519 [==============================] - 0s 61us/step - loss: 1.9767 - mae: 1.9767\n",
       "Epoch 13/50\n",
       "\r",
       " 20/519 [&gt;.............................] - ETA: 0s - loss: 2.2010 - mae: 2.2010\b\b\b\b\b\b\b\b\b\b\b\b\b\b\b\b\b\b\b\b\b\b\b\b\b\b\b\b\b\b\b\b\b\b\b\b\b\b\b\b\b\b\b\b\b\b\b\b\b\b\b\b\b\b\b\b\b\b\b\b\b\b\b\b\b\b\b\b\b\b\b\b\b\b\b\b\b\b\b\r",
       "519/519 [==============================] - 0s 61us/step - loss: 2.0108 - mae: 2.0108\n",
       "Epoch 14/50\n",
       "\r",
       " 20/519 [&gt;.............................] - ETA: 0s - loss: 2.9886 - mae: 2.9886\b\b\b\b\b\b\b\b\b\b\b\b\b\b\b\b\b\b\b\b\b\b\b\b\b\b\b\b\b\b\b\b\b\b\b\b\b\b\b\b\b\b\b\b\b\b\b\b\b\b\b\b\b\b\b\b\b\b\b\b\b\b\b\b\b\b\b\b\b\b\b\b\b\b\b\b\b\b\b\r",
       "519/519 [==============================] - 0s 60us/step - loss: 1.9566 - mae: 1.9566\n",
       "Epoch 15/50\n",
       "\r",
       " 20/519 [&gt;.............................] - ETA: 0s - loss: 1.8584 - mae: 1.8584\b\b\b\b\b\b\b\b\b\b\b\b\b\b\b\b\b\b\b\b\b\b\b\b\b\b\b\b\b\b\b\b\b\b\b\b\b\b\b\b\b\b\b\b\b\b\b\b\b\b\b\b\b\b\b\b\b\b\b\b\b\b\b\b\b\b\b\b\b\b\b\b\b\b\b\b\b\b\b\r",
       "519/519 [==============================] - 0s 62us/step - loss: 1.9456 - mae: 1.9456\n",
       "Epoch 16/50\n",
       "\r",
       " 20/519 [&gt;.............................] - ETA: 0s - loss: 1.6964 - mae: 1.6964\b\b\b\b\b\b\b\b\b\b\b\b\b\b\b\b\b\b\b\b\b\b\b\b\b\b\b\b\b\b\b\b\b\b\b\b\b\b\b\b\b\b\b\b\b\b\b\b\b\b\b\b\b\b\b\b\b\b\b\b\b\b\b\b\b\b\b\b\b\b\b\b\b\b\b\b\b\b\b\r",
       "519/519 [==============================] - 0s 60us/step - loss: 1.9554 - mae: 1.9554\n",
       "Epoch 17/50\n",
       "\r",
       " 20/519 [&gt;.............................] - ETA: 0s - loss: 1.6293 - mae: 1.6293\b\b\b\b\b\b\b\b\b\b\b\b\b\b\b\b\b\b\b\b\b\b\b\b\b\b\b\b\b\b\b\b\b\b\b\b\b\b\b\b\b\b\b\b\b\b\b\b\b\b\b\b\b\b\b\b\b\b\b\b\b\b\b\b\b\b\b\b\b\b\b\b\b\b\b\b\b\b\b\r",
       "519/519 [==============================] - 0s 60us/step - loss: 1.9187 - mae: 1.9187\n",
       "Epoch 18/50\n",
       "\r",
       " 20/519 [&gt;.............................] - ETA: 0s - loss: 1.6565 - mae: 1.6565\b\b\b\b\b\b\b\b\b\b\b\b\b\b\b\b\b\b\b\b\b\b\b\b\b\b\b\b\b\b\b\b\b\b\b\b\b\b\b\b\b\b\b\b\b\b\b\b\b\b\b\b\b\b\b\b\b\b\b\b\b\b\b\b\b\b\b\b\b\b\b\b\b\b\b\b\b\b\b\r",
       "519/519 [==============================] - 0s 60us/step - loss: 1.9180 - mae: 1.9180\n",
       "Epoch 19/50\n",
       "\r",
       " 20/519 [&gt;.............................] - ETA: 0s - loss: 1.6131 - mae: 1.6131\b\b\b\b\b\b\b\b\b\b\b\b\b\b\b\b\b\b\b\b\b\b\b\b\b\b\b\b\b\b\b\b\b\b\b\b\b\b\b\b\b\b\b\b\b\b\b\b\b\b\b\b\b\b\b\b\b\b\b\b\b\b\b\b\b\b\b\b\b\b\b\b\b\b\b\b\b\b\b\r",
       "519/519 [==============================] - 0s 78us/step - loss: 1.9191 - mae: 1.9191\n",
       "Epoch 20/50\n",
       "\r",
       " 20/519 [&gt;.............................] - ETA: 0s - loss: 2.0049 - mae: 2.0049\b\b\b\b\b\b\b\b\b\b\b\b\b\b\b\b\b\b\b\b\b\b\b\b\b\b\b\b\b\b\b\b\b\b\b\b\b\b\b\b\b\b\b\b\b\b\b\b\b\b\b\b\b\b\b\b\b\b\b\b\b\b\b\b\b\b\b\b\b\b\b\b\b\b\b\b\b\b\b\r",
       "519/519 [==============================] - 0s 62us/step - loss: 1.9062 - mae: 1.9062\n",
       "Epoch 21/50\n",
       "\r",
       " 20/519 [&gt;.............................] - ETA: 0s - loss: 2.2637 - mae: 2.2637\b\b\b\b\b\b\b\b\b\b\b\b\b\b\b\b\b\b\b\b\b\b\b\b\b\b\b\b\b\b\b\b\b\b\b\b\b\b\b\b\b\b\b\b\b\b\b\b\b\b\b\b\b\b\b\b\b\b\b\b\b\b\b\b\b\b\b\b\b\b\b\b\b\b\b\b\b\b\b\r",
       "519/519 [==============================] - 0s 59us/step - loss: 1.8824 - mae: 1.8824\n",
       "Epoch 22/50\n",
       "\r",
       " 20/519 [&gt;.............................] - ETA: 0s - loss: 1.7907 - mae: 1.7907\b\b\b\b\b\b\b\b\b\b\b\b\b\b\b\b\b\b\b\b\b\b\b\b\b\b\b\b\b\b\b\b\b\b\b\b\b\b\b\b\b\b\b\b\b\b\b\b\b\b\b\b\b\b\b\b\b\b\b\b\b\b\b\b\b\b\b\b\b\b\b\b\b\b\b\b\b\b\b\r",
       "519/519 [==============================] - 0s 60us/step - loss: 1.8785 - mae: 1.8785\n",
       "Epoch 23/50\n",
       "\r",
       " 20/519 [&gt;.............................] - ETA: 0s - loss: 2.4241 - mae: 2.4241\b\b\b\b\b\b\b\b\b\b\b\b\b\b\b\b\b\b\b\b\b\b\b\b\b\b\b\b\b\b\b\b\b\b\b\b\b\b\b\b\b\b\b\b\b\b\b\b\b\b\b\b\b\b\b\b\b\b\b\b\b\b\b\b\b\b\b\b\b\b\b\b\b\b\b\b\b\b\b\r",
       "519/519 [==============================] - 0s 59us/step - loss: 1.9024 - mae: 1.9024\n",
       "Epoch 24/50\n",
       "\r",
       " 20/519 [&gt;.............................] - ETA: 0s - loss: 1.1739 - mae: 1.1739\b\b\b\b\b\b\b\b\b\b\b\b\b\b\b\b\b\b\b\b\b\b\b\b\b\b\b\b\b\b\b\b\b\b\b\b\b\b\b\b\b\b\b\b\b\b\b\b\b\b\b\b\b\b\b\b\b\b\b\b\b\b\b\b\b\b\b\b\b\b\b\b\b\b\b\b\b\b\b\r",
       "519/519 [==============================] - 0s 58us/step - loss: 1.8708 - mae: 1.8708\n",
       "Epoch 25/50\n",
       "\r",
       " 20/519 [&gt;.............................] - ETA: 0s - loss: 1.5012 - mae: 1.5012\b\b\b\b\b\b\b\b\b\b\b\b\b\b\b\b\b\b\b\b\b\b\b\b\b\b\b\b\b\b\b\b\b\b\b\b\b\b\b\b\b\b\b\b\b\b\b\b\b\b\b\b\b\b\b\b\b\b\b\b\b\b\b\b\b\b\b\b\b\b\b\b\b\b\b\b\b\b\b\r",
       "519/519 [==============================] - 0s 58us/step - loss: 1.8753 - mae: 1.8753\n",
       "Epoch 26/50\n",
       "\r",
       " 20/519 [&gt;.............................] - ETA: 0s - loss: 2.7169 - mae: 2.7169\b\b\b\b\b\b\b\b\b\b\b\b\b\b\b\b\b\b\b\b\b\b\b\b\b\b\b\b\b\b\b\b\b\b\b\b\b\b\b\b\b\b\b\b\b\b\b\b\b\b\b\b\b\b\b\b\b\b\b\b\b\b\b\b\b\b\b\b\b\b\b\b\b\b\b\b\b\b\b\r",
       "519/519 [==============================] - 0s 59us/step - loss: 1.8969 - mae: 1.8969\n",
       "Epoch 27/50\n",
       "\r",
       " 20/519 [&gt;.............................] - ETA: 0s - loss: 1.5210 - mae: 1.5210\b\b\b\b\b\b\b\b\b\b\b\b\b\b\b\b\b\b\b\b\b\b\b\b\b\b\b\b\b\b\b\b\b\b\b\b\b\b\b\b\b\b\b\b\b\b\b\b\b\b\b\b\b\b\b\b\b\b\b\b\b\b\b\b\b\b\b\b\b\b\b\b\b\b\b\b\b\b\b\r",
       "519/519 [==============================] - 0s 62us/step - loss: 1.8671 - mae: 1.8671\n",
       "Epoch 28/50\n",
       "\r",
       " 20/519 [&gt;.............................] - ETA: 0s - loss: 1.5872 - mae: 1.5872\b\b\b\b\b\b\b\b\b\b\b\b\b\b\b\b\b\b\b\b\b\b\b\b\b\b\b\b\b\b\b\b\b\b\b\b\b\b\b\b\b\b\b\b\b\b\b\b\b\b\b\b\b\b\b\b\b\b\b\b\b\b\b\b\b\b\b\b\b\b\b\b\b\b\b\b\b\b\b\r",
       "519/519 [==============================] - 0s 58us/step - loss: 1.8966 - mae: 1.8966\n",
       "Epoch 29/50\n",
       "\r",
       " 20/519 [&gt;.............................] - ETA: 0s - loss: 1.7092 - mae: 1.7092\b\b\b\b\b\b\b\b\b\b\b\b\b\b\b\b\b\b\b\b\b\b\b\b\b\b\b\b\b\b\b\b\b\b\b\b\b\b\b\b\b\b\b\b\b\b\b\b\b\b\b\b\b\b\b\b\b\b\b\b\b\b\b\b\b\b\b\b\b\b\b\b\b\b\b\b\b\b\b\r",
       "519/519 [==============================] - 0s 59us/step - loss: 1.8483 - mae: 1.8483\n",
       "Epoch 30/50\n",
       "\r",
       " 20/519 [&gt;.............................] - ETA: 0s - loss: 1.9117 - mae: 1.9117\b\b\b\b\b\b\b\b\b\b\b\b\b\b\b\b\b\b\b\b\b\b\b\b\b\b\b\b\b\b\b\b\b\b\b\b\b\b\b\b\b\b\b\b\b\b\b\b\b\b\b\b\b\b\b\b\b\b\b\b\b\b\b\b\b\b\b\b\b\b\b\b\b\b\b\b\b\b\b\r",
       "519/519 [==============================] - 0s 61us/step - loss: 1.8473 - mae: 1.8473\n",
       "Epoch 31/50\n",
       "\r",
       " 20/519 [&gt;.............................] - ETA: 0s - loss: 1.9640 - mae: 1.9640\b\b\b\b\b\b\b\b\b\b\b\b\b\b\b\b\b\b\b\b\b\b\b\b\b\b\b\b\b\b\b\b\b\b\b\b\b\b\b\b\b\b\b\b\b\b\b\b\b\b\b\b\b\b\b\b\b\b\b\b\b\b\b\b\b\b\b\b\b\b\b\b\b\b\b\b\b\b\b\r",
       "519/519 [==============================] - 0s 63us/step - loss: 1.8449 - mae: 1.8449\n",
       "Epoch 32/50\n",
       "\r",
       " 20/519 [&gt;.............................] - ETA: 0s - loss: 1.5493 - mae: 1.5493\b\b\b\b\b\b\b\b\b\b\b\b\b\b\b\b\b\b\b\b\b\b\b\b\b\b\b\b\b\b\b\b\b\b\b\b\b\b\b\b\b\b\b\b\b\b\b\b\b\b\b\b\b\b\b\b\b\b\b\b\b\b\b\b\b\b\b\b\b\b\b\b\b\b\b\b\b\b\b\r",
       "519/519 [==============================] - 0s 59us/step - loss: 1.8682 - mae: 1.8682\n",
       "Epoch 33/50\n",
       "\r",
       " 20/519 [&gt;.............................] - ETA: 0s - loss: 1.8885 - mae: 1.8885\b\b\b\b\b\b\b\b\b\b\b\b\b\b\b\b\b\b\b\b\b\b\b\b\b\b\b\b\b\b\b\b\b\b\b\b\b\b\b\b\b\b\b\b\b\b\b\b\b\b\b\b\b\b\b\b\b\b\b\b\b\b\b\b\b\b\b\b\b\b\b\b\b\b\b\b\b\b\b\r",
       "519/519 [==============================] - 0s 60us/step - loss: 1.8477 - mae: 1.8477\n",
       "Epoch 34/50\n",
       "\r",
       " 20/519 [&gt;.............................] - ETA: 0s - loss: 2.0938 - mae: 2.0938\b\b\b\b\b\b\b\b\b\b\b\b\b\b\b\b\b\b\b\b\b\b\b\b\b\b\b\b\b\b\b\b\b\b\b\b\b\b\b\b\b\b\b\b\b\b\b\b\b\b\b\b\b\b\b\b\b\b\b\b\b\b\b\b\b\b\b\b\b\b\b\b\b\b\b\b\b\b\b\r",
       "519/519 [==============================] - 0s 67us/step - loss: 1.8741 - mae: 1.8741\n",
       "Epoch 35/50\n",
       "\r",
       " 20/519 [&gt;.............................] - ETA: 0s - loss: 1.7222 - mae: 1.7222\b\b\b\b\b\b\b\b\b\b\b\b\b\b\b\b\b\b\b\b\b\b\b\b\b\b\b\b\b\b\b\b\b\b\b\b\b\b\b\b\b\b\b\b\b\b\b\b\b\b\b\b\b\b\b\b\b\b\b\b\b\b\b\b\b\b\b\b\b\b\b\b\b\b\b\b\b\b\b\r",
       "519/519 [==============================] - 0s 60us/step - loss: 1.8527 - mae: 1.8527\n",
       "Epoch 36/50\n",
       "\r",
       " 20/519 [&gt;.............................] - ETA: 0s - loss: 1.9234 - mae: 1.9234\b\b\b\b\b\b\b\b\b\b\b\b\b\b\b\b\b\b\b\b\b\b\b\b\b\b\b\b\b\b\b\b\b\b\b\b\b\b\b\b\b\b\b\b\b\b\b\b\b\b\b\b\b\b\b\b\b\b\b\b\b\b\b\b\b\b\b\b\b\b\b\b\b\b\b\b\b\b\b\r",
       "519/519 [==============================] - 0s 61us/step - loss: 1.8361 - mae: 1.8361\n",
       "Epoch 37/50\n",
       "\r",
       " 20/519 [&gt;.............................] - ETA: 0s - loss: 2.0061 - mae: 2.0061\b\b\b\b\b\b\b\b\b\b\b\b\b\b\b\b\b\b\b\b\b\b\b\b\b\b\b\b\b\b\b\b\b\b\b\b\b\b\b\b\b\b\b\b\b\b\b\b\b\b\b\b\b\b\b\b\b\b\b\b\b\b\b\b\b\b\b\b\b\b\b\b\b\b\b\b\b\b\b\r",
       "519/519 [==============================] - 0s 60us/step - loss: 1.8274 - mae: 1.8274\n",
       "Epoch 38/50\n",
       "\r",
       " 20/519 [&gt;.............................] - ETA: 0s - loss: 1.7879 - mae: 1.7879\b\b\b\b\b\b\b\b\b\b\b\b\b\b\b\b\b\b\b\b\b\b\b\b\b\b\b\b\b\b\b\b\b\b\b\b\b\b\b\b\b\b\b\b\b\b\b\b\b\b\b\b\b\b\b\b\b\b\b\b\b\b\b\b\b\b\b\b\b\b\b\b\b\b\b\b\b\b\b\r",
       "519/519 [==============================] - 0s 60us/step - loss: 1.8321 - mae: 1.8321\n",
       "Epoch 39/50\n",
       "\r",
       " 20/519 [&gt;.............................] - ETA: 0s - loss: 1.6292 - mae: 1.6292\b\b\b\b\b\b\b\b\b\b\b\b\b\b\b\b\b\b\b\b\b\b\b\b\b\b\b\b\b\b\b\b\b\b\b\b\b\b\b\b\b\b\b\b\b\b\b\b\b\b\b\b\b\b\b\b\b\b\b\b\b\b\b\b\b\b\b\b\b\b\b\b\b\b\b\b\b\b\b\r",
       "519/519 [==============================] - 0s 62us/step - loss: 1.8119 - mae: 1.8119\n",
       "Epoch 40/50\n",
       "\r",
       " 20/519 [&gt;.............................] - ETA: 0s - loss: 2.3423 - mae: 2.3423\b\b\b\b\b\b\b\b\b\b\b\b\b\b\b\b\b\b\b\b\b\b\b\b\b\b\b\b\b\b\b\b\b\b\b\b\b\b\b\b\b\b\b\b\b\b\b\b\b\b\b\b\b\b\b\b\b\b\b\b\b\b\b\b\b\b\b\b\b\b\b\b\b\b\b\b\b\b\b\r",
       "519/519 [==============================] - 0s 60us/step - loss: 1.8103 - mae: 1.8103\n",
       "Epoch 41/50\n",
       "\r",
       " 20/519 [&gt;.............................] - ETA: 0s - loss: 1.6081 - mae: 1.6081\b\b\b\b\b\b\b\b\b\b\b\b\b\b\b\b\b\b\b\b\b\b\b\b\b\b\b\b\b\b\b\b\b\b\b\b\b\b\b\b\b\b\b\b\b\b\b\b\b\b\b\b\b\b\b\b\b\b\b\b\b\b\b\b\b\b\b\b\b\b\b\b\b\b\b\b\b\b\b\r",
       "519/519 [==============================] - 0s 61us/step - loss: 1.7992 - mae: 1.7992\n",
       "Epoch 42/50\n",
       "\r",
       " 20/519 [&gt;.............................] - ETA: 0s - loss: 1.6597 - mae: 1.6597\b\b\b\b\b\b\b\b\b\b\b\b\b\b\b\b\b\b\b\b\b\b\b\b\b\b\b\b\b\b\b\b\b\b\b\b\b\b\b\b\b\b\b\b\b\b\b\b\b\b\b\b\b\b\b\b\b\b\b\b\b\b\b\b\b\b\b\b\b\b\b\b\b\b\b\b\b\b\b\r",
       "519/519 [==============================] - 0s 59us/step - loss: 1.8050 - mae: 1.8050\n",
       "Epoch 43/50\n",
       "\r",
       " 20/519 [&gt;.............................] - ETA: 0s - loss: 2.0478 - mae: 2.0478\b\b\b\b\b\b\b\b\b\b\b\b\b\b\b\b\b\b\b\b\b\b\b\b\b\b\b\b\b\b\b\b\b\b\b\b\b\b\b\b\b\b\b\b\b\b\b\b\b\b\b\b\b\b\b\b\b\b\b\b\b\b\b\b\b\b\b\b\b\b\b\b\b\b\b\b\b\b\b\r",
       "519/519 [==============================] - 0s 62us/step - loss: 1.7971 - mae: 1.7971\n",
       "Epoch 44/50\n",
       "\r",
       " 20/519 [&gt;.............................] - ETA: 0s - loss: 2.0220 - mae: 2.0220\b\b\b\b\b\b\b\b\b\b\b\b\b\b\b\b\b\b\b\b\b\b\b\b\b\b\b\b\b\b\b\b\b\b\b\b\b\b\b\b\b\b\b\b\b\b\b\b\b\b\b\b\b\b\b\b\b\b\b\b\b\b\b\b\b\b\b\b\b\b\b\b\b\b\b\b\b\b\b\r",
       "519/519 [==============================] - 0s 59us/step - loss: 1.8182 - mae: 1.8182\n",
       "Epoch 45/50\n",
       "\r",
       " 20/519 [&gt;.............................] - ETA: 0s - loss: 1.6800 - mae: 1.6800\b\b\b\b\b\b\b\b\b\b\b\b\b\b\b\b\b\b\b\b\b\b\b\b\b\b\b\b\b\b\b\b\b\b\b\b\b\b\b\b\b\b\b\b\b\b\b\b\b\b\b\b\b\b\b\b\b\b\b\b\b\b\b\b\b\b\b\b\b\b\b\b\b\b\b\b\b\b\b\r",
       "519/519 [==============================] - 0s 59us/step - loss: 1.8647 - mae: 1.8647\n",
       "Epoch 46/50\n",
       "\r",
       " 20/519 [&gt;.............................] - ETA: 0s - loss: 1.3532 - mae: 1.3532\b\b\b\b\b\b\b\b\b\b\b\b\b\b\b\b\b\b\b\b\b\b\b\b\b\b\b\b\b\b\b\b\b\b\b\b\b\b\b\b\b\b\b\b\b\b\b\b\b\b\b\b\b\b\b\b\b\b\b\b\b\b\b\b\b\b\b\b\b\b\b\b\b\b\b\b\b\b\b\r",
       "519/519 [==============================] - 0s 68us/step - loss: 1.7958 - mae: 1.7958\n",
       "Epoch 47/50\n",
       "\r",
       " 20/519 [&gt;.............................] - ETA: 0s - loss: 2.4927 - mae: 2.4927\b\b\b\b\b\b\b\b\b\b\b\b\b\b\b\b\b\b\b\b\b\b\b\b\b\b\b\b\b\b\b\b\b\b\b\b\b\b\b\b\b\b\b\b\b\b\b\b\b\b\b\b\b\b\b\b\b\b\b\b\b\b\b\b\b\b\b\b\b\b\b\b\b\b\b\b\b\b\b\r",
       "519/519 [==============================] - 0s 59us/step - loss: 1.7840 - mae: 1.7840\n",
       "Epoch 48/50\n",
       "\r",
       " 20/519 [&gt;.............................] - ETA: 0s - loss: 2.0538 - mae: 2.0538\b\b\b\b\b\b\b\b\b\b\b\b\b\b\b\b\b\b\b\b\b\b\b\b\b\b\b\b\b\b\b\b\b\b\b\b\b\b\b\b\b\b\b\b\b\b\b\b\b\b\b\b\b\b\b\b\b\b\b\b\b\b\b\b\b\b\b\b\b\b\b\b\b\b\b\b\b\b\b\r",
       "519/519 [==============================] - 0s 59us/step - loss: 1.7908 - mae: 1.7908\n",
       "Epoch 49/50\n",
       "\r",
       " 20/519 [&gt;.............................] - ETA: 0s - loss: 2.0527 - mae: 2.0527\b\b\b\b\b\b\b\b\b\b\b\b\b\b\b\b\b\b\b\b\b\b\b\b\b\b\b\b\b\b\b\b\b\b\b\b\b\b\b\b\b\b\b\b\b\b\b\b\b\b\b\b\b\b\b\b\b\b\b\b\b\b\b\b\b\b\b\b\b\b\b\b\b\b\b\b\b\b\b\r",
       "519/519 [==============================] - 0s 63us/step - loss: 1.7803 - mae: 1.7803\n",
       "Epoch 50/50\n",
       "\r",
       " 20/519 [&gt;.............................] - ETA: 0s - loss: 2.0208 - mae: 2.0208\b\b\b\b\b\b\b\b\b\b\b\b\b\b\b\b\b\b\b\b\b\b\b\b\b\b\b\b\b\b\b\b\b\b\b\b\b\b\b\b\b\b\b\b\b\b\b\b\b\b\b\b\b\b\b\b\b\b\b\b\b\b\b\b\b\b\b\b\b\b\b\b\b\b\b\b\b\b\b\r",
       "519/519 [==============================] - 0s 67us/step - loss: 1.7782 - mae: 1.7782\n",
       "Out[101]: (&#39;The mean Absolute Error when predicting on test set is &#39;, 1.8843670001396766)</div>"
      ]
     },
     "metadata": {},
     "output_type": "display_data"
    }
   ],
   "source": [
    "dataset = pd.read_csv(\"/dbfs/FileStore/tables/student_por-3edc6.csv\", sep=\";\", header= 0)\n",
    "fit_our_model(dataset, False)"
   ]
  },
  {
   "cell_type": "markdown",
   "metadata": {},
   "source": [
    "As expected considering correlations between G1, G2 and G3, the predictions are much better using G1 and G2 than without them (Mean absolute error on test set of 1.88 without them, 0.86 with them)."
   ]
  },
  {
   "cell_type": "markdown",
   "metadata": {},
   "source": [
    "### Conclusion\n",
    "\n",
    "To conclude, during this project, we have used various methods (descriptive statistics, graph, aggregation and filter functions, kmeans and predictions with different algorithms) to understand the variables that influence grades and how we can use them to predict the final grade G3."
   ]
  }
 ],
 "metadata": {
  "kernelspec": {
   "display_name": "Python 3",
   "language": "python",
   "name": "python3"
  },
  "language_info": {
   "codemirror_mode": {
    "name": "ipython",
    "version": 3
   },
   "file_extension": ".py",
   "mimetype": "text/x-python",
   "name": "python",
   "nbconvert_exporter": "python",
   "pygments_lexer": "ipython3",
   "version": "3.7.3"
  },
  "name": "spark_for_project",
  "notebookId": 4033390105889435
 },
 "nbformat": 4,
 "nbformat_minor": 1
}
